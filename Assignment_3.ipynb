{
 "cells": [
  {
   "cell_type": "markdown",
   "id": "8473ab2e",
   "metadata": {},
   "source": [
    "# Assignment_3"
   ]
  },
  {
   "cell_type": "markdown",
   "id": "b94b1dc8",
   "metadata": {},
   "source": [
    "### Ques(1): Why are functions advantageous to have in your programs?"
   ]
  },
  {
   "cell_type": "markdown",
   "id": "f209d2cd",
   "metadata": {},
   "source": [
    "#### Sol-"
   ]
  },
  {
   "cell_type": "markdown",
   "id": "f7c8d8f2",
   "metadata": {},
   "source": [
    "Functions enable reuse of code, improve maintainability and scalability.\n",
    "Functions reduce the need for duplicate code. This makes programs shorter, easier to read, and easier to update.\n"
   ]
  },
  {
   "cell_type": "markdown",
   "id": "cfa869bf",
   "metadata": {},
   "source": [
    "### Ques(2): When does the code in a function run: when it's specified or when it's called?"
   ]
  },
  {
   "cell_type": "markdown",
   "id": "e5426b6c",
   "metadata": {},
   "source": [
    "#### Sol-"
   ]
  },
  {
   "cell_type": "markdown",
   "id": "64ade284",
   "metadata": {},
   "source": [
    "When a function is \"called\" the program \"leaves\" the current section of code and begins to execute the first line inside the function. Thus the function \"flow of control of function\" is:\n",
    "\n",
    "(1)The program comes to a line of code containing a \"function call\".\n",
    "\n",
    "(2)The program enters the function (starts at the first line in the function code).\n",
    "\n",
    "(3)All instructions inside of the function are executed from top to bottom.\n",
    "\n",
    "(4)The program leaves the function and goes back to where it started from.\n",
    "\n",
    "(5)Any data computed and RETURNED by the function is used in place of the function in the original line of code."
   ]
  },
  {
   "cell_type": "markdown",
   "id": "dc05d66d",
   "metadata": {},
   "source": [
    "### Ques(3): What statement creates a function?"
   ]
  },
  {
   "cell_type": "markdown",
   "id": "8192eadb",
   "metadata": {},
   "source": [
    "#### Sol-"
   ]
  },
  {
   "cell_type": "markdown",
   "id": "ff1f2e0d",
   "metadata": {},
   "source": [
    "In Python a function is defined using the def keyword.\n",
    "\n",
    "Python def keyword is used to define a function, def is placed before a function name that is provided by the user to create a user-defined function. \n",
    "\n",
    "Then write the function identifier (name) followed by parentheses() and a colon(:). \n",
    "\n",
    "Inside parentheses we write argument, arguments are not compulsory it is decided by the programer. \n",
    "\n",
    "The next thing you have to do is make sure you indent with a tab or 4 spaces, and then specify what you want the function to do for you.\n",
    "\n",
    "Ex-\n",
    "\n",
    "def function_name(arg1, arg2,...):\n",
    "    \"\"\"docstring\"\"\"\n",
    "    statement1\n",
    "    statement2"
   ]
  },
  {
   "cell_type": "markdown",
   "id": "ee3c789e",
   "metadata": {},
   "source": [
    "### Ques(4): What is the difference between a function and a function call?"
   ]
  },
  {
   "cell_type": "markdown",
   "id": "e787e5b0",
   "metadata": {},
   "source": [
    "#### Sol-"
   ]
  },
  {
   "cell_type": "markdown",
   "id": "361d2efc",
   "metadata": {},
   "source": [
    "A function is a block of code that does a particular operation and returns a result. It usually accepts inputs as parameters and returns a result. The parameters are not mandatory.\n",
    "\n",
    "E.g:\n",
    "\n",
    "def add(a,b):\n",
    "    return a+b\n",
    "\n",
    "A function call is the code used to pass control to a function.\n",
    "\n",
    "E.g.:\n",
    "\n",
    "print(add(5,6))\n",
    "\n",
    "Now b will have the value 11.\n"
   ]
  },
  {
   "cell_type": "markdown",
   "id": "303d1969",
   "metadata": {},
   "source": [
    "### Ques(5): How many global scopes are there in a Python program? How many local scopes?"
   ]
  },
  {
   "cell_type": "markdown",
   "id": "dab33ad5",
   "metadata": {},
   "source": [
    "#### Sol-\n",
    "Python has exactly two scopes, local and global.\n",
    "### Global scope-\n",
    "\n",
    "A variable created in the main body of the Python code is a global variable and belongs to the global scope.\n",
    "\n",
    "Global variables are available from within any scope, global and local.\n",
    "\n",
    "#### Example\n",
    "\n",
    "A variable created outside of a function is global and can be used by anyone:"
   ]
  },
  {
   "cell_type": "code",
   "execution_count": 2,
   "id": "885879d0",
   "metadata": {},
   "outputs": [
    {
     "name": "stdout",
     "output_type": "stream",
     "text": [
      "300\n",
      "300\n"
     ]
    }
   ],
   "source": [
    "x = 300\n",
    "def myfunc():\n",
    "    print(x)\n",
    "    \n",
    "myfunc()\n",
    "print(x)"
   ]
  },
  {
   "cell_type": "markdown",
   "id": "0a5f1a11",
   "metadata": {},
   "source": [
    "### Global Keyword-\n",
    "If you need to create a global variable, but are stuck in the local scope, you can use the global keyword.\n",
    "\n",
    "The global keyword makes the variable global.\n",
    "#### Example\n",
    "If you use the global keyword, the variable belongs to the global scope:"
   ]
  },
  {
   "cell_type": "code",
   "execution_count": 5,
   "id": "3bdbfedd",
   "metadata": {},
   "outputs": [
    {
     "name": "stdout",
     "output_type": "stream",
     "text": [
      "300\n",
      "200\n"
     ]
    }
   ],
   "source": [
    "# 1st\n",
    "def myfunc():\n",
    "    global x\n",
    "    x = 300\n",
    "\n",
    "myfunc()\n",
    "print(x)\n",
    "\n",
    "# 2nd\n",
    "x = 300\n",
    "def myfunc():\n",
    "    global x\n",
    "    x = 200\n",
    "\n",
    "myfunc()\n",
    "print(x)"
   ]
  },
  {
   "cell_type": "markdown",
   "id": "83cc2209",
   "metadata": {},
   "source": [
    "### Local scope-\n",
    "A variable created inside a function belongs to the local scope of that function, and can only be used inside that function\n",
    "\n",
    "and also those parameters passed to the function belongs to the local scope of the function.\n",
    "#### Example\n",
    "A variable created inside a function is available inside that function:"
   ]
  },
  {
   "cell_type": "code",
   "execution_count": 16,
   "id": "7364add3",
   "metadata": {},
   "outputs": [
    {
     "name": "stdout",
     "output_type": "stream",
     "text": [
      "300\n",
      "300\n",
      "0\n",
      "The Number is: 1\n"
     ]
    }
   ],
   "source": [
    "# 1st\n",
    "def myfunc():\n",
    "    x = 300\n",
    "    print(x)\n",
    "\n",
    "myfunc()\n",
    "\n",
    "# 2nd\n",
    "def myfunc():\n",
    "    x = 300\n",
    "    def myinnerfunc():\n",
    "        print(x)\n",
    "    myinnerfunc()\n",
    "\n",
    "myfunc()\n",
    "# 3rd \n",
    "num=0\n",
    "def demo():\n",
    "    print(num)\n",
    "    \n",
    "demo()\n",
    "\n",
    "# 4th\n",
    "num=0\n",
    "def demo():\n",
    "    num=1\n",
    "    print(\"The Number is:\",num)\n",
    "demo()"
   ]
  },
  {
   "cell_type": "code",
   "execution_count": 3,
   "id": "38dea6d4",
   "metadata": {},
   "outputs": [
    {
     "name": "stdout",
     "output_type": "stream",
     "text": [
      "5\n",
      "The Number is: 9\n",
      "9\n"
     ]
    }
   ],
   "source": [
    "# 5th using global key word.\n",
    "num=5\n",
    "def demo():\n",
    "    global num\n",
    "    print(num)\n",
    "    num=9\n",
    "    print(\"The Number is:\",num)\n",
    "demo()\n",
    "print(num)"
   ]
  },
  {
   "cell_type": "code",
   "execution_count": 21,
   "id": "c68f4ab9",
   "metadata": {},
   "outputs": [],
   "source": [
    "# Difference b/w local and global scope."
   ]
  },
  {
   "cell_type": "code",
   "execution_count": 19,
   "id": "d04852a2",
   "metadata": {},
   "outputs": [
    {
     "name": "stdout",
     "output_type": "stream",
     "text": [
      "19\n",
      "21\n",
      "19\n"
     ]
    }
   ],
   "source": [
    "# 6th\n",
    "x=18\n",
    "def fun1():\n",
    "    x=21\n",
    "    def fun2():\n",
    "        global x\n",
    "        x+=1\n",
    "        print(x)\n",
    "    fun2()\n",
    "    print(x)\n",
    "fun1()\n",
    "print(x)"
   ]
  },
  {
   "cell_type": "code",
   "execution_count": 22,
   "id": "b93a1aab",
   "metadata": {},
   "outputs": [
    {
     "name": "stdout",
     "output_type": "stream",
     "text": [
      "22\n",
      "22\n",
      "18\n"
     ]
    }
   ],
   "source": [
    "x=18\n",
    "def fun1():\n",
    "    x=21\n",
    "    def fun2():\n",
    "        #global x\n",
    "        nonlocal x #Neither global nor Local\n",
    "        x+=1\n",
    "        print(x)\n",
    "    fun2()\n",
    "    print(x)\n",
    "fun1()\n",
    "print(x)"
   ]
  },
  {
   "cell_type": "markdown",
   "id": "09c9a79b",
   "metadata": {},
   "source": [
    "### Ques(6): What happens to variables in a local scope when the function call returns?"
   ]
  },
  {
   "cell_type": "markdown",
   "id": "e57e6dbc",
   "metadata": {},
   "source": [
    "#### Sol-\n",
    "When the execution of the function terminates (returns), the local variables are destroyed.\n",
    "#### Ex-"
   ]
  },
  {
   "cell_type": "code",
   "execution_count": 25,
   "id": "e0cecbed",
   "metadata": {},
   "outputs": [
    {
     "ename": "NameError",
     "evalue": "name 'y' is not defined",
     "output_type": "error",
     "traceback": [
      "\u001b[1;31m---------------------------------------------------------------------------\u001b[0m",
      "\u001b[1;31mNameError\u001b[0m                                 Traceback (most recent call last)",
      "Cell \u001b[1;32mIn [25], line 6\u001b[0m\n\u001b[0;32m      3\u001b[0m     \u001b[38;5;28;01mreturn\u001b[39;00m y\n\u001b[0;32m      5\u001b[0m z \u001b[38;5;241m=\u001b[39m square(\u001b[38;5;241m10\u001b[39m)\n\u001b[1;32m----> 6\u001b[0m \u001b[38;5;28mprint\u001b[39m(\u001b[43my\u001b[49m)\n",
      "\u001b[1;31mNameError\u001b[0m: name 'y' is not defined"
     ]
    }
   ],
   "source": [
    "def square(x):\n",
    "    y = x * x\n",
    "    return y\n",
    "\n",
    "z = square(10)\n",
    "print(y)"
   ]
  },
  {
   "cell_type": "code",
   "execution_count": 26,
   "id": "450a09ab",
   "metadata": {},
   "outputs": [
    {
     "name": "stdout",
     "output_type": "stream",
     "text": [
      "10\n",
      "100\n"
     ]
    }
   ],
   "source": [
    "def square(x):\n",
    "    y = x * x\n",
    "    print(x)\n",
    "    return y\n",
    "\n",
    "z = square(10)\n",
    "print(z)"
   ]
  },
  {
   "cell_type": "markdown",
   "id": "7b128ad4",
   "metadata": {},
   "source": [
    "##### Here above the example x and y are local, so local variable with in function and local variable out side of function are destroyed."
   ]
  },
  {
   "cell_type": "markdown",
   "id": "2326e69a",
   "metadata": {},
   "source": [
    "### Ques(7): What is the concept of a return value? Is it possible to have a return value in an expression?"
   ]
  },
  {
   "cell_type": "markdown",
   "id": "ab0b76a7",
   "metadata": {},
   "source": [
    "#### Sol-\n",
    "The Python return statement is a special statement that you can use inside a function or method to send the function's result \n",
    "\n",
    "back to the caller. A return statement consists of the return keyword followed by an optional return value. The return value of \n",
    "\n",
    "a Python function can be any Python object.\n",
    "\n",
    "functions can return numeric values (int, float, and complex values), collections and sequences of objects \n",
    "\n",
    "(list, tuple, dictionary, or set objects), user-defined objects, classes, functions etc.\n",
    "## Syntax:\n",
    "###### def fun():\n",
    "   ######  statements\n",
    "   ######  .\n",
    "   ######  .\n",
    "   ###### return [expression]\n",
    "   \n",
    "### Ex-"
   ]
  },
  {
   "cell_type": "code",
   "execution_count": 27,
   "id": "65e0745f",
   "metadata": {},
   "outputs": [
    {
     "name": "stdout",
     "output_type": "stream",
     "text": [
      "10\n",
      "100\n"
     ]
    }
   ],
   "source": [
    "def square(x):\n",
    "    y = x * x\n",
    "    print(x)\n",
    "    return y\n",
    "\n",
    "z = square(10)\n",
    "print(z)"
   ]
  },
  {
   "cell_type": "markdown",
   "id": "6935c571",
   "metadata": {},
   "source": [
    "##### Yes it possible to have a return value in an expression.\n",
    "#### Ex-"
   ]
  },
  {
   "cell_type": "code",
   "execution_count": 28,
   "id": "1f2474fd",
   "metadata": {},
   "outputs": [
    {
     "name": "stdout",
     "output_type": "stream",
     "text": [
      "1\n"
     ]
    }
   ],
   "source": [
    "def fun():\n",
    "    a=8\n",
    "    b=7\n",
    "    return((a+b)%7)\n",
    "print(fun())"
   ]
  },
  {
   "cell_type": "markdown",
   "id": "f534fbfc",
   "metadata": {},
   "source": [
    "### Ques(8): If a function does not have a return statement, what is the return value of a call to that function?"
   ]
  },
  {
   "cell_type": "markdown",
   "id": "ede3f339",
   "metadata": {},
   "source": [
    "### Sol-\n",
    "If no return statement appears in a function definition, control automatically returns to the calling function after the last \n",
    "\n",
    "statement of the called function is executed. In this case, the return value of the called function is undefined.\n",
    "#### Ex-"
   ]
  },
  {
   "cell_type": "code",
   "execution_count": 30,
   "id": "9dd8d1ef",
   "metadata": {},
   "outputs": [
    {
     "name": "stdout",
     "output_type": "stream",
     "text": [
      "25\n",
      "21\n",
      "18\n"
     ]
    }
   ],
   "source": [
    "x=18\n",
    "def fun1():\n",
    "    x=21\n",
    "    def fun2():\n",
    "        x=25\n",
    "        print(x)\n",
    "    fun2()\n",
    "    print(x)\n",
    "fun1()\n",
    "print(x)"
   ]
  },
  {
   "cell_type": "markdown",
   "id": "c5a1b493",
   "metadata": {},
   "source": [
    "#### Here above example have no return keyword after executing the fun1() and fun2() control return to calling fun1() and fun2()."
   ]
  },
  {
   "cell_type": "markdown",
   "id": "23a7487a",
   "metadata": {},
   "source": [
    "### Ques(9): How do you make a function variable refer to the global variable?"
   ]
  },
  {
   "cell_type": "markdown",
   "id": "98062aa0",
   "metadata": {},
   "source": [
    "### Sol-\n",
    "Normally, when you create a variable inside a function, that variable is local, and can only be used inside that function. \n",
    "\n",
    "To create a global variable inside a function, you can use the global keyword.\n",
    "### Ex-"
   ]
  },
  {
   "cell_type": "code",
   "execution_count": 32,
   "id": "428fde01",
   "metadata": {},
   "outputs": [
    {
     "name": "stdout",
     "output_type": "stream",
     "text": [
      "300\n"
     ]
    }
   ],
   "source": [
    "def myfunc():\n",
    "    global x\n",
    "    x = 300\n",
    "\n",
    "myfunc()\n",
    "print(x)"
   ]
  },
  {
   "cell_type": "markdown",
   "id": "e8efe675",
   "metadata": {},
   "source": [
    "### Ques(10): What is the data type of None?"
   ]
  },
  {
   "cell_type": "markdown",
   "id": "f020bf26",
   "metadata": {},
   "source": [
    "#### Sol-\n",
    "None is used to define a null value or Null object in Python. It is not the same as an empty string, False, or a zero. \n",
    "\n",
    "It is a data type of the class NoneType object.\n",
    "## {Class[NoneType]}--->{Object[None]}"
   ]
  },
  {
   "cell_type": "code",
   "execution_count": 34,
   "id": "28770c2d",
   "metadata": {},
   "outputs": [
    {
     "name": "stdout",
     "output_type": "stream",
     "text": [
      "<class 'NoneType'>\n"
     ]
    }
   ],
   "source": [
    "print(type(None))"
   ]
  },
  {
   "cell_type": "code",
   "execution_count": 35,
   "id": "338be112",
   "metadata": {},
   "outputs": [
    {
     "ename": "NameError",
     "evalue": "name 'Null' is not defined",
     "output_type": "error",
     "traceback": [
      "\u001b[1;31m---------------------------------------------------------------------------\u001b[0m",
      "\u001b[1;31mNameError\u001b[0m                                 Traceback (most recent call last)",
      "Cell \u001b[1;32mIn [35], line 1\u001b[0m\n\u001b[1;32m----> 1\u001b[0m \u001b[38;5;28mprint\u001b[39m(\u001b[38;5;28mtype\u001b[39m(\u001b[43mNull\u001b[49m))\n",
      "\u001b[1;31mNameError\u001b[0m: name 'Null' is not defined"
     ]
    }
   ],
   "source": [
    "print(type(Null))"
   ]
  },
  {
   "cell_type": "code",
   "execution_count": 37,
   "id": "2d573a09",
   "metadata": {},
   "outputs": [
    {
     "name": "stdout",
     "output_type": "stream",
     "text": [
      "<class 'bool'>\n",
      "<class 'bool'>\n"
     ]
    }
   ],
   "source": [
    "print(type(True))\n",
    "print(type(False))"
   ]
  },
  {
   "cell_type": "code",
   "execution_count": 40,
   "id": "19896eb6",
   "metadata": {},
   "outputs": [
    {
     "name": "stdout",
     "output_type": "stream",
     "text": [
      "None\n"
     ]
    }
   ],
   "source": [
    "def check_return():\n",
    "    pass\n",
    "print(check_return())"
   ]
  },
  {
   "cell_type": "code",
   "execution_count": 42,
   "id": "45e50faf",
   "metadata": {},
   "outputs": [
    {
     "name": "stdout",
     "output_type": "stream",
     "text": [
      "var has a value of None\n"
     ]
    }
   ],
   "source": [
    "# declaring a variable as None\n",
    "var = None\n",
    " \n",
    "# checking it's value\n",
    "if var is None:\n",
    "    print(\"var has a value of None\")\n",
    "else:\n",
    "    print(\"var has a value\")"
   ]
  },
  {
   "cell_type": "markdown",
   "id": "812971fc",
   "metadata": {},
   "source": [
    "### Ques(11): What does the sentence import areallyourpetsnamederic do?"
   ]
  },
  {
   "cell_type": "markdown",
   "id": "2cd1d178",
   "metadata": {},
   "source": [
    "#### Sol-\n",
    "That import statement imports a module named areallyourpetsnamederic.\n",
    "#### Ex-"
   ]
  },
  {
   "cell_type": "code",
   "execution_count": 44,
   "id": "42131d69",
   "metadata": {},
   "outputs": [
    {
     "name": "stdout",
     "output_type": "stream",
     "text": [
      "5\n",
      "25\n"
     ]
    }
   ],
   "source": [
    "import math\n",
    "x = min(5, 10, 25)\n",
    "y = max(5, 10, 25)\n",
    "\n",
    "print(x)\n",
    "print(y)"
   ]
  },
  {
   "cell_type": "code",
   "execution_count": 45,
   "id": "7f4efa55",
   "metadata": {},
   "outputs": [
    {
     "name": "stdout",
     "output_type": "stream",
     "text": [
      "64\n"
     ]
    }
   ],
   "source": [
    "x = pow(4, 3)\n",
    "\n",
    "print(x)"
   ]
  },
  {
   "cell_type": "code",
   "execution_count": 47,
   "id": "738e3a06",
   "metadata": {},
   "outputs": [
    {
     "name": "stdout",
     "output_type": "stream",
     "text": [
      "2\n",
      "1\n"
     ]
    }
   ],
   "source": [
    "x = math.ceil(1.4)\n",
    "y = math.floor(1.4)\n",
    "print(x)\n",
    "print(y)"
   ]
  },
  {
   "cell_type": "markdown",
   "id": "723b5c5f",
   "metadata": {},
   "source": [
    "### Ques(12): If you had a bacon() feature in a spam module, what would you call it after importing spam?"
   ]
  },
  {
   "cell_type": "markdown",
   "id": "152a33a2",
   "metadata": {},
   "source": [
    "#### Sol-\n",
    "This function can be called with spam.bacon()."
   ]
  },
  {
   "cell_type": "markdown",
   "id": "8bcb74e4",
   "metadata": {},
   "source": [
    "### Ques(13): What can you do to save a programme from crashing if it encounters an error?"
   ]
  },
  {
   "cell_type": "markdown",
   "id": "e02c66ef",
   "metadata": {},
   "source": [
    "#### Sol-\n",
    "Prevents program from crashing if an error occurs If an error occurs in a program, we don’t want the program to unexpectedly \n",
    "\n",
    "crash on the user. Instead, error handling can be used to notify the user of why the error occurred and gracefully exit the\n",
    "\n",
    "process that caused the error."
   ]
  },
  {
   "cell_type": "markdown",
   "id": "c9623f59",
   "metadata": {},
   "source": [
    "### Ques(14): What is the purpose of the try clause? What is the purpose of the except clause?"
   ]
  },
  {
   "cell_type": "markdown",
   "id": "a91fb229",
   "metadata": {},
   "source": [
    "#### Sol-\n",
    "### purpose of the try clause and purpose of the except clause:\n",
    "First, the try clause is executed i.e. the code between try and except clause.\n",
    "\n",
    "If there is no exception, then only the try clause will run, except the clause is finished.\n",
    "\n",
    "If any exception occurs, the try clause will be skipped and except clause will run."
   ]
  },
  {
   "cell_type": "code",
   "execution_count": 58,
   "id": "2e257c41",
   "metadata": {},
   "outputs": [
    {
     "name": "stdout",
     "output_type": "stream",
     "text": [
      "Something went wrong\n"
     ]
    }
   ],
   "source": [
    "# 1st\n",
    "try:\n",
    "    print(a) # a is not defined.\n",
    "except:\n",
    "    print(\"Something went wrong\")"
   ]
  },
  {
   "cell_type": "code",
   "execution_count": 59,
   "id": "3c94e434",
   "metadata": {},
   "outputs": [
    {
     "name": "stdout",
     "output_type": "stream",
     "text": [
      "Hello\n",
      "Nothing went wrong\n"
     ]
    }
   ],
   "source": [
    "# 2nd\n",
    "try:\n",
    "    print(\"Hello\") #Here is no any exception occured.\n",
    "except:\n",
    "    print(\"Something went wrong\")\n",
    "else:\n",
    "    print(\"Nothing went wrong\")"
   ]
  },
  {
   "cell_type": "code",
   "execution_count": 60,
   "id": "092f903e",
   "metadata": {},
   "outputs": [
    {
     "name": "stdout",
     "output_type": "stream",
     "text": [
      "Variable x is not defined\n"
     ]
    }
   ],
   "source": [
    "# 3rd\n",
    "try:\n",
    "    print(a) # a is not defined.\n",
    "except NameError:\n",
    "    print(\"Variable x is not defined\")\n",
    "except:\n",
    "    print(\"Something else went wrong\")"
   ]
  },
  {
   "cell_type": "code",
   "execution_count": 61,
   "id": "86baaaea",
   "metadata": {},
   "outputs": [
    {
     "name": "stdout",
     "output_type": "stream",
     "text": [
      "2\n",
      "The 'try except' is finished\n"
     ]
    }
   ],
   "source": [
    "# 4th\n",
    "#The finally block gets executed no matter if the try block raises any errors or not:\n",
    "\n",
    "try:\n",
    "    print(x)\n",
    "except:\n",
    "    print(\"Something went wrong\")\n",
    "finally:\n",
    "    print(\"The 'try except' is finished\")"
   ]
  },
  {
   "cell_type": "code",
   "execution_count": null,
   "id": "2f9be9fb",
   "metadata": {},
   "outputs": [],
   "source": []
  }
 ],
 "metadata": {
  "kernelspec": {
   "display_name": "Python 3 (ipykernel)",
   "language": "python",
   "name": "python3"
  },
  "language_info": {
   "codemirror_mode": {
    "name": "ipython",
    "version": 3
   },
   "file_extension": ".py",
   "mimetype": "text/x-python",
   "name": "python",
   "nbconvert_exporter": "python",
   "pygments_lexer": "ipython3",
   "version": "3.10.8"
  }
 },
 "nbformat": 4,
 "nbformat_minor": 5
}
