{
 "cells": [
  {
   "cell_type": "markdown",
   "id": "dcd8d49d",
   "metadata": {},
   "source": [
    "# Programming_Assingment6"
   ]
  },
  {
   "cell_type": "markdown",
   "id": "cb137623",
   "metadata": {},
   "source": [
    "### Ques(1): Write a Python Program to Display Fibonacci Sequence Using Recursion?\n",
    "## Ans-"
   ]
  },
  {
   "cell_type": "code",
   "execution_count": 5,
   "id": "87f864cb",
   "metadata": {},
   "outputs": [
    {
     "name": "stdout",
     "output_type": "stream",
     "text": [
      "Enter the No. of sequences of fin_seq:10\n",
      "0\n",
      "1\n",
      "1\n",
      "2\n",
      "3\n",
      "5\n",
      "8\n",
      "13\n",
      "21\n",
      "34\n"
     ]
    }
   ],
   "source": [
    "def rec_fib(n):\n",
    "    if n<=1:\n",
    "        return n\n",
    "    else:\n",
    "        return (rec_fib(n-1)+rec_fib(n-2))\n",
    "num=int(input(\"Enter the No. of sequences of fin_seq:\"))\n",
    "if num<0:\n",
    "    print(\"Please inter positive number:\")\n",
    "else:\n",
    "    for i in range(num):\n",
    "        print(rec_fib(i))"
   ]
  },
  {
   "cell_type": "markdown",
   "id": "4ec45c30",
   "metadata": {},
   "source": [
    "### Ques(2): Write a Python Program to Find Factorial of Number Using Recursion?\n",
    "### Ans-"
   ]
  },
  {
   "cell_type": "code",
   "execution_count": 1,
   "id": "701f854b",
   "metadata": {},
   "outputs": [
    {
     "name": "stdout",
     "output_type": "stream",
     "text": [
      "Please inter the number:4\n",
      "Factorial of given number 4 is:  24\n"
     ]
    }
   ],
   "source": [
    "def fact(n):\n",
    "    if n==1:\n",
    "        return 1\n",
    "    elif n==0:\n",
    "        return 1\n",
    "    return(n*fact(n-1))\n",
    "\n",
    "num=int(input(\"Please inter the number:\"))\n",
    "if num<0:\n",
    "    print(\"Please enter a positive number:\")\n",
    "else:\n",
    "    print(\"Factorial of given number\",num,\"is: \",fact(num))"
   ]
  },
  {
   "cell_type": "markdown",
   "id": "836724fe",
   "metadata": {},
   "source": [
    "### Ques(3): Write a Python Program to calculate your Body Mass Index?\n",
    "### Ans-"
   ]
  },
  {
   "cell_type": "code",
   "execution_count": 4,
   "id": "527cbd28",
   "metadata": {},
   "outputs": [
    {
     "name": "stdout",
     "output_type": "stream",
     "text": [
      "Please enter your weight in K.G.: 75\n",
      "Please enter your height in M.: 1.75\n",
      "Body Mass Index of persion is: 24.489795918367346\n"
     ]
    }
   ],
   "source": [
    "weight=float(input(\"Please enter your weight in K.G.: \"))\n",
    "height=float(input(\"Please enter your height in M.: \"))\n",
    "BMI=(weight)/(height)**2\n",
    "print(\"Body Mass Index of persion is:\",BMI)"
   ]
  },
  {
   "cell_type": "markdown",
   "id": "4621b246",
   "metadata": {},
   "source": [
    "### Ques(4):\tWrite a Python Program to calculate the natural logarithm of any number?\n",
    "### Ans-"
   ]
  },
  {
   "cell_type": "code",
   "execution_count": 6,
   "id": "93473b50",
   "metadata": {},
   "outputs": [
    {
     "name": "stdout",
     "output_type": "stream",
     "text": [
      "Pease enter the number: 5\n",
      "Value of natural log is:  1.6094379124341003\n"
     ]
    }
   ],
   "source": [
    "import math\n",
    "num=int(input(\"Pease enter the number: \"))\n",
    "print(\"Value of natural log is: \",math.log(num))"
   ]
  },
  {
   "cell_type": "markdown",
   "id": "cb598a37",
   "metadata": {},
   "source": [
    "### Ques(5): Write a Python Program for cube sum of first n natural numbers?\n",
    "### Ans-"
   ]
  },
  {
   "cell_type": "code",
   "execution_count": 12,
   "id": "dd275ea8",
   "metadata": {},
   "outputs": [
    {
     "name": "stdout",
     "output_type": "stream",
     "text": [
      "Enter the number the positive number: 5\n",
      "Cubic of given number 5 is:  225\n"
     ]
    }
   ],
   "source": [
    "#1st method\n",
    "num=int(input(\"Enter the number the positive number: \"))\n",
    "sum=0\n",
    "for i in range(1,num+1):\n",
    "    sum=sum+i**3\n",
    "if sum>0:\n",
    "    print(\"Cubic of given number\",num,\"is: \",sum)"
   ]
  },
  {
   "cell_type": "code",
   "execution_count": 11,
   "id": "c3432467",
   "metadata": {},
   "outputs": [
    {
     "name": "stdout",
     "output_type": "stream",
     "text": [
      "Enter the number the positive number: 5\n",
      "225\n"
     ]
    }
   ],
   "source": [
    "#2nd method\n",
    "def sumOfSeries(num):\n",
    "    sum = 0\n",
    "    for i in range(1, num+1):\n",
    "        sum +=pow(i,3)\n",
    "    return sum\n",
    "num=int(input(\"Enter the number the positive number: \"))\n",
    "print(\"Cubic of given number\",num,\"is: \",sumOfSeries(num))"
   ]
  },
  {
   "cell_type": "code",
   "execution_count": null,
   "id": "5a20d8d6",
   "metadata": {},
   "outputs": [],
   "source": []
  }
 ],
 "metadata": {
  "kernelspec": {
   "display_name": "Python 3 (ipykernel)",
   "language": "python",
   "name": "python3"
  },
  "language_info": {
   "codemirror_mode": {
    "name": "ipython",
    "version": 3
   },
   "file_extension": ".py",
   "mimetype": "text/x-python",
   "name": "python",
   "nbconvert_exporter": "python",
   "pygments_lexer": "ipython3",
   "version": "3.10.8"
  }
 },
 "nbformat": 4,
 "nbformat_minor": 5
}
