{
 "cells": [
  {
   "cell_type": "markdown",
   "id": "2ebefb19",
   "metadata": {},
   "source": [
    "###  Ques(1): What does RGBA stand for?"
   ]
  },
  {
   "cell_type": "markdown",
   "id": "5f655db9",
   "metadata": {},
   "source": [
    "### Ans\n",
    "RGBA(Red-Green-Blue-Alpha)  \n",
    "The RGB color model is extended in this specification to include “alpha” to allow specification of the opacity of a color."
   ]
  },
  {
   "cell_type": "markdown",
   "id": "21fc11fd",
   "metadata": {},
   "source": [
    "### Ques(2): From the Pillow module, how do you get the RGBA value of any images?"
   ]
  },
  {
   "cell_type": "markdown",
   "id": "b4369bf7",
   "metadata": {},
   "source": [
    "### Ans\n",
    "Pillow offers the ImageColor.getcolor() function so you don’t have to memorize RGBA values for the colors you want to use. This function takes a color name string as its first argument, and the string 'RGBA' as its second argument, and it returns an RGBA tuple."
   ]
  },
  {
   "cell_type": "markdown",
   "id": "4953e119",
   "metadata": {},
   "source": [
    "### Ques(3): What is a box tuple, and how does it work?"
   ]
  },
  {
   "cell_type": "markdown",
   "id": "db07c15b",
   "metadata": {},
   "source": [
    "### Ans\n",
    "The box. tuple submodule provides read-only access for the tuple userdata type. It allows, for a single tuple: selective retrieval of the field contents, retrieval of information about size, iteration over all the fields, and conversion to a Lua table."
   ]
  },
  {
   "cell_type": "markdown",
   "id": "e26fe0dd",
   "metadata": {},
   "source": [
    "### Ques(4): Use your image and load in notebook then, How can you find out the width and height of an Image object?"
   ]
  },
  {
   "cell_type": "markdown",
   "id": "7c3b20c8",
   "metadata": {},
   "source": [
    "### Ans\n",
    "In order to find the height and width of an image, there are two approaches. The first approach is by using the PIL(Pillow) library and the second approach is by using the Open-CV library."
   ]
  },
  {
   "cell_type": "code",
   "execution_count": 7,
   "id": "8fb0a266",
   "metadata": {},
   "outputs": [
    {
     "name": "stdout",
     "output_type": "stream",
     "text": [
      "Width, Height -> (1920, 1080)\n",
      "Width, Height -> 1920,1080\n",
      "Width, Height -> 1920,1080\n"
     ]
    }
   ],
   "source": [
    "from PIL import Image\n",
    "pic = Image.open('Pic.png')\n",
    "print(f'Width, Height -> {pic.size}') # Approach 1\n",
    "print(f'Width, Height -> {pic.width},{pic.height}') # Approach 2\n",
    "width,height = pic.size\n",
    "print(f'Width, Height -> {width},{height}') # Approach 3"
   ]
  },
  {
   "cell_type": "markdown",
   "id": "2f952a21",
   "metadata": {},
   "source": [
    "### Ques(5): What method would you call to get Image object for a 100×100 image, excluding the lower-left quarter of it?"
   ]
  },
  {
   "cell_type": "code",
   "execution_count": 8,
   "id": "105b35b5",
   "metadata": {},
   "outputs": [],
   "source": [
    "from PIL import Image\n",
    "img = Image.open('Pic.png')\n",
    "new_img = img.crop((0,50,50,50))"
   ]
  },
  {
   "cell_type": "markdown",
   "id": "3e26879f",
   "metadata": {},
   "source": [
    "### Ques(6): After making changes to an Image object, how could you save it as an image file?"
   ]
  },
  {
   "cell_type": "markdown",
   "id": "fde8634f",
   "metadata": {},
   "source": [
    "### Ans"
   ]
  },
  {
   "cell_type": "code",
   "execution_count": 11,
   "id": "29735472",
   "metadata": {},
   "outputs": [],
   "source": [
    "#Example Program\n",
    "from PIL import Image\n",
    "pic = Image.open('Pic.png')\n",
    "pic.save('pic2.png')"
   ]
  },
  {
   "cell_type": "markdown",
   "id": "950c5ca9",
   "metadata": {},
   "source": [
    "### Ques(7): What module contains Pillow’s shape-drawing code?"
   ]
  },
  {
   "cell_type": "markdown",
   "id": "b2cf0bfe",
   "metadata": {},
   "source": [
    "### Ans"
   ]
  },
  {
   "cell_type": "markdown",
   "id": "af3c09fb",
   "metadata": {},
   "source": [
    "Pillows ImageDraw module contains Shape drawing methods"
   ]
  },
  {
   "cell_type": "markdown",
   "id": "5f672d4d",
   "metadata": {},
   "source": [
    "### Ques(8): Image objects do not have drawing methods. What kind of object does? How do you get this kind of object?"
   ]
  },
  {
   "cell_type": "markdown",
   "id": "e1d254df",
   "metadata": {},
   "source": [
    "### Ans"
   ]
  },
  {
   "cell_type": "markdown",
   "id": "88cf6392",
   "metadata": {},
   "source": [
    "ImageDraw objects have shape-drawing methods such as point(), line(), or rectangle().They are returned by passing the Image object to the ImageDraw.Draw() function."
   ]
  },
  {
   "cell_type": "markdown",
   "id": "b6adb740",
   "metadata": {},
   "source": [
    "# Thank you for checking my assignment."
   ]
  }
 ],
 "metadata": {
  "kernelspec": {
   "display_name": "Python 3 (ipykernel)",
   "language": "python",
   "name": "python3"
  },
  "language_info": {
   "codemirror_mode": {
    "name": "ipython",
    "version": 3
   },
   "file_extension": ".py",
   "mimetype": "text/x-python",
   "name": "python",
   "nbconvert_exporter": "python",
   "pygments_lexer": "ipython3",
   "version": "3.10.8"
  }
 },
 "nbformat": 4,
 "nbformat_minor": 5
}
