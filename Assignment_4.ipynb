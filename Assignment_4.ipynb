{
 "cells": [
  {
   "cell_type": "markdown",
   "id": "3f28c692",
   "metadata": {},
   "source": [
    "### Ques(1): What exactly is []?\n",
    "### Ans-"
   ]
  },
  {
   "cell_type": "markdown",
   "id": "36e77d8a",
   "metadata": {},
   "source": [
    " [] is The empty list value, which is a list value that contains no items."
   ]
  },
  {
   "cell_type": "markdown",
   "id": "011621fc",
   "metadata": {},
   "source": [
    "### Ques(2): . In a list of values stored in a variable called spam, how would you assign the value 'hello' as the third value? (Assume [2, 4, 6, 8, 10] are in spam.)\n",
    "### Ans-"
   ]
  },
  {
   "cell_type": "code",
   "execution_count": 5,
   "id": "26c92772",
   "metadata": {},
   "outputs": [],
   "source": [
    "spam=[2, 4, 6, 8, 10] "
   ]
  },
  {
   "cell_type": "code",
   "execution_count": 6,
   "id": "0ee00d73",
   "metadata": {},
   "outputs": [],
   "source": [
    "spam[2]='hello'"
   ]
  },
  {
   "cell_type": "code",
   "execution_count": 7,
   "id": "739a48e6",
   "metadata": {},
   "outputs": [
    {
     "name": "stdout",
     "output_type": "stream",
     "text": [
      "[2, 4, 'hello', 8, 10]\n"
     ]
    }
   ],
   "source": [
    "print(spam)"
   ]
  },
  {
   "cell_type": "markdown",
   "id": "3e81d3dd",
   "metadata": {},
   "source": [
    "### Let's pretend the spam includes the list ['a', 'b', 'c', 'd'] for the next three queries.\n",
    "### Ques(3): What is the value of spam[int(int('3' * 2) / 11)]?\n",
    "### Ans-"
   ]
  },
  {
   "cell_type": "code",
   "execution_count": 19,
   "id": "3a7d2852",
   "metadata": {},
   "outputs": [
    {
     "data": {
      "text/plain": [
       "'d'"
      ]
     },
     "execution_count": 19,
     "metadata": {},
     "output_type": "execute_result"
    }
   ],
   "source": [
    "spam=['a', 'b', 'c', 'd'] \n",
    "spam[int(int('3' * 2) / 11)]"
   ]
  },
  {
   "cell_type": "markdown",
   "id": "51613b56",
   "metadata": {},
   "source": [
    "Note that '3' * 2 is the string '33', which is passed to int() before being divided by 11. This eventually evaluates to 3 or spam[3]. Expressions can be used wherever values are used."
   ]
  },
  {
   "cell_type": "markdown",
   "id": "37352970",
   "metadata": {},
   "source": [
    "### Ques(4): What is the value of spam[-1]?\n",
    "### Ans-"
   ]
  },
  {
   "cell_type": "code",
   "execution_count": 20,
   "id": "7a22ab84",
   "metadata": {},
   "outputs": [
    {
     "data": {
      "text/plain": [
       "'d'"
      ]
     },
     "execution_count": 20,
     "metadata": {},
     "output_type": "execute_result"
    }
   ],
   "source": [
    "spam[-1]"
   ]
  },
  {
   "cell_type": "markdown",
   "id": "8f88a30b",
   "metadata": {},
   "source": [
    "Negative indexes count from the end."
   ]
  },
  {
   "cell_type": "markdown",
   "id": "04809de1",
   "metadata": {},
   "source": [
    "### Ques(5): What is the value of spam[:2]?\n",
    "### Ans-"
   ]
  },
  {
   "cell_type": "code",
   "execution_count": 21,
   "id": "67841581",
   "metadata": {},
   "outputs": [
    {
     "data": {
      "text/plain": [
       "['a', 'b']"
      ]
     },
     "execution_count": 21,
     "metadata": {},
     "output_type": "execute_result"
    }
   ],
   "source": [
    "spam[:2]"
   ]
  },
  {
   "cell_type": "markdown",
   "id": "ee31f088",
   "metadata": {},
   "source": [
    "### Let's pretend bacon has the list [3.14, 'cat', 11, 'cat', True] for the next three questions.\n",
    "### Ques(6): What is the value of bacon.index('cat')?\n",
    "### Ans-"
   ]
  },
  {
   "cell_type": "code",
   "execution_count": 24,
   "id": "1cc6ed0e",
   "metadata": {},
   "outputs": [],
   "source": [
    "bacon= [3.14, 'cat', 11, 'cat', True]"
   ]
  },
  {
   "cell_type": "code",
   "execution_count": 25,
   "id": "efa3ca8e",
   "metadata": {},
   "outputs": [
    {
     "data": {
      "text/plain": [
       "1"
      ]
     },
     "execution_count": 25,
     "metadata": {},
     "output_type": "execute_result"
    }
   ],
   "source": [
    "bacon.index('cat')"
   ]
  },
  {
   "cell_type": "markdown",
   "id": "204aea24",
   "metadata": {},
   "source": [
    "### Ques(7): How does bacon.append(99) change the look of the list value in bacon?\n",
    "### Ans-"
   ]
  },
  {
   "cell_type": "code",
   "execution_count": 26,
   "id": "c206c85b",
   "metadata": {},
   "outputs": [
    {
     "name": "stdout",
     "output_type": "stream",
     "text": [
      "[3.14, 'cat', 11, 'cat', True]\n"
     ]
    }
   ],
   "source": [
    "print(bacon)"
   ]
  },
  {
   "cell_type": "code",
   "execution_count": 27,
   "id": "6326b1bf",
   "metadata": {},
   "outputs": [],
   "source": [
    "bacon.append(99) "
   ]
  },
  {
   "cell_type": "code",
   "execution_count": 28,
   "id": "062275ab",
   "metadata": {},
   "outputs": [
    {
     "name": "stdout",
     "output_type": "stream",
     "text": [
      "[3.14, 'cat', 11, 'cat', True, 99]\n"
     ]
    }
   ],
   "source": [
    "print(bacon)"
   ]
  },
  {
   "cell_type": "markdown",
   "id": "db372419",
   "metadata": {},
   "source": [
    "### Ques(8): How does bacon.remove('cat') change the look of the list in bacon?\n",
    "### Ans-"
   ]
  },
  {
   "cell_type": "code",
   "execution_count": 29,
   "id": "c3e1ce25",
   "metadata": {},
   "outputs": [
    {
     "name": "stdout",
     "output_type": "stream",
     "text": [
      "[3.14, 'cat', 11, 'cat', True, 99]\n"
     ]
    }
   ],
   "source": [
    "print(bacon)"
   ]
  },
  {
   "cell_type": "code",
   "execution_count": 30,
   "id": "bc3668c7",
   "metadata": {},
   "outputs": [],
   "source": [
    "bacon.remove('cat')"
   ]
  },
  {
   "cell_type": "code",
   "execution_count": 31,
   "id": "2203178c",
   "metadata": {},
   "outputs": [
    {
     "name": "stdout",
     "output_type": "stream",
     "text": [
      "[3.14, 11, 'cat', True, 99]\n"
     ]
    }
   ],
   "source": [
    "print(bacon)"
   ]
  },
  {
   "cell_type": "markdown",
   "id": "efe8b322",
   "metadata": {},
   "source": [
    "### Ques(9): What are the list concatenation and list replication operators?\n",
    "### Ans-"
   ]
  },
  {
   "cell_type": "markdown",
   "id": "e1dd0178",
   "metadata": {},
   "source": [
    "The operator for list concatenation is +, while the operator for replication is *. (This is the same as for strings.)"
   ]
  },
  {
   "cell_type": "markdown",
   "id": "9ca887b1",
   "metadata": {},
   "source": [
    "### Ques(10): What is difference between the list methods append() and insert()?\n",
    "\n",
    "### Ans-"
   ]
  },
  {
   "cell_type": "markdown",
   "id": "ba0f625b",
   "metadata": {},
   "source": [
    "While append() will add values only to the end of a list, insert() can add them anywhere in the list."
   ]
  },
  {
   "cell_type": "code",
   "execution_count": 38,
   "id": "09b408d3",
   "metadata": {},
   "outputs": [
    {
     "name": "stdout",
     "output_type": "stream",
     "text": [
      "[3.14, 'cat', 11, 'cat', True, 'dog']\n"
     ]
    }
   ],
   "source": [
    "bacon= [3.14, 'cat', 11, 'cat', True]\n",
    "bacon.append('dog')\n",
    "print(bacon)"
   ]
  },
  {
   "cell_type": "code",
   "execution_count": 39,
   "id": "bb716cec",
   "metadata": {},
   "outputs": [
    {
     "name": "stdout",
     "output_type": "stream",
     "text": [
      "['sudhir', 3.14, 'cat', 11, 'cat', True]\n"
     ]
    }
   ],
   "source": [
    "bacon= [3.14, 'cat', 11, 'cat', True]\n",
    "bacon.insert(0,'sudhir')\n",
    "print(bacon)"
   ]
  },
  {
   "cell_type": "markdown",
   "id": "992b5439",
   "metadata": {},
   "source": [
    "### Ques(11): What are the two methods for removing items from a list?\n",
    "### Ans-"
   ]
  },
  {
   "cell_type": "markdown",
   "id": "7eef04fa",
   "metadata": {},
   "source": [
    "Two methods for removing items from a list are-\n",
    "\n",
    "(1) remove()\n",
    "\n",
    "(2) pop()"
   ]
  },
  {
   "cell_type": "code",
   "execution_count": 36,
   "id": "06d8505d",
   "metadata": {},
   "outputs": [
    {
     "name": "stdout",
     "output_type": "stream",
     "text": [
      "[3.14, 11, 'cat', True]\n"
     ]
    }
   ],
   "source": [
    "bacon= [3.14, 'cat', 11, 'cat', True]\n",
    "bacon.remove('cat')\n",
    "print(bacon)"
   ]
  },
  {
   "cell_type": "code",
   "execution_count": 37,
   "id": "4549bcbc",
   "metadata": {},
   "outputs": [
    {
     "name": "stdout",
     "output_type": "stream",
     "text": [
      "[3.14, 'cat', 11, True]\n"
     ]
    }
   ],
   "source": [
    "bacon= [3.14, 'cat', 11, 'cat', True]\n",
    "bacon.pop(3)\n",
    "print(bacon)"
   ]
  },
  {
   "cell_type": "markdown",
   "id": "e8bfc998",
   "metadata": {},
   "source": [
    "### Ques(12): Describe how list values and string values are identical?\n",
    "### Ans-"
   ]
  },
  {
   "cell_type": "markdown",
   "id": "b010c15a",
   "metadata": {},
   "source": [
    "Both strings and lists have lengths: a string's length is the number of characters in the string; a list's length is the number of items in the list. Each character in a string as well as each item in a list has a position, also called an index.\n"
   ]
  },
  {
   "cell_type": "code",
   "execution_count": 2,
   "id": "d69dcdfd",
   "metadata": {},
   "outputs": [
    {
     "name": "stdout",
     "output_type": "stream",
     "text": [
      "d\n",
      "d\n"
     ]
    }
   ],
   "source": [
    "str=\"sudhir\"\n",
    "list=['s','u','d','h','i','r']\n",
    "print(str[2])\n",
    "print(list[2])"
   ]
  },
  {
   "cell_type": "code",
   "execution_count": 3,
   "id": "8d53ae87",
   "metadata": {},
   "outputs": [
    {
     "name": "stdout",
     "output_type": "stream",
     "text": [
      "6\n",
      "6\n"
     ]
    }
   ],
   "source": [
    "print(len(str))\n",
    "print(len(list))"
   ]
  },
  {
   "cell_type": "markdown",
   "id": "8142d8b3",
   "metadata": {},
   "source": [
    "### Ques(13): What's the difference between tuples and lists?\n",
    "### Ans-"
   ]
  },
  {
   "cell_type": "markdown",
   "id": "98271826",
   "metadata": {},
   "source": [
    "The primary difference between tuples and lists is that tuples are immutable as opposed to lists which are mutable. Therefore, it is possible to change a list but not a tuple.\n",
    "\n",
    "The contents of a tuple cannot change once they have been created in Python due to the immutability of tuples.\n",
    "#### Ex-"
   ]
  },
  {
   "cell_type": "code",
   "execution_count": 6,
   "id": "abd7f51e",
   "metadata": {},
   "outputs": [
    {
     "name": "stdout",
     "output_type": "stream",
     "text": [
      "Before assign:  ['Raj', 'John', 'Jabby', 'Raja']\n",
      "After assignment:  ['Raj', 'John', 'Kelly', 'Raja']\n"
     ]
    }
   ],
   "source": [
    "# List--\n",
    "names = [\"Raj\",\"John\",\"Jabby\",\"Raja\"]\n",
    "print(\"Before assign: \", names)\n",
    "names[2] = \"Kelly\"\n",
    "print(\"After assignment: \",names)"
   ]
  },
  {
   "cell_type": "code",
   "execution_count": 8,
   "id": "fbc2e092",
   "metadata": {},
   "outputs": [
    {
     "name": "stdout",
     "output_type": "stream",
     "text": [
      "Before assign:  ('Raj', 'John', 'Jabby', 'Raja')\n"
     ]
    }
   ],
   "source": [
    "# Tuple--\n",
    "names = (\"Raj\",\"John\",\"Jabby\",\"Raja\")\n",
    "print(\"Before assign: \", names)\n",
    "\n"
   ]
  },
  {
   "cell_type": "code",
   "execution_count": 10,
   "id": "1fe2a3af",
   "metadata": {},
   "outputs": [
    {
     "ename": "TypeError",
     "evalue": "'tuple' object does not support item assignment",
     "output_type": "error",
     "traceback": [
      "\u001b[1;31m---------------------------------------------------------------------------\u001b[0m",
      "\u001b[1;31mTypeError\u001b[0m                                 Traceback (most recent call last)",
      "Cell \u001b[1;32mIn [10], line 1\u001b[0m\n\u001b[1;32m----> 1\u001b[0m \u001b[43mnames\u001b[49m\u001b[43m[\u001b[49m\u001b[38;5;241;43m2\u001b[39;49m\u001b[43m]\u001b[49m \u001b[38;5;241m=\u001b[39m \u001b[38;5;124m\"\u001b[39m\u001b[38;5;124mKelly\u001b[39m\u001b[38;5;124m\"\u001b[39m\n\u001b[0;32m      2\u001b[0m \u001b[38;5;66;03m# Tupple is immutable so gives error.\u001b[39;00m\n",
      "\u001b[1;31mTypeError\u001b[0m: 'tuple' object does not support item assignment"
     ]
    }
   ],
   "source": [
    "names[2] = \"Kelly\"\n",
    "# Tupple is immutable so gives error."
   ]
  },
  {
   "cell_type": "markdown",
   "id": "121839f7",
   "metadata": {},
   "source": [
    "### Ques(14): How do you type a tuple value that only contains the integer 42?\n",
    "### Ans-"
   ]
  },
  {
   "cell_type": "markdown",
   "id": "f40d7dae",
   "metadata": {},
   "source": [
    "(42,) (The trailing comma is mandatory.)"
   ]
  },
  {
   "cell_type": "code",
   "execution_count": 4,
   "id": "981e8608",
   "metadata": {},
   "outputs": [],
   "source": [
    "# Here output not a tuple sothat comma(,) is mandatory.\n",
    "tuple1=(42)"
   ]
  },
  {
   "cell_type": "code",
   "execution_count": 5,
   "id": "12eeeb3e",
   "metadata": {},
   "outputs": [
    {
     "name": "stdout",
     "output_type": "stream",
     "text": [
      "42\n"
     ]
    }
   ],
   "source": [
    "print(tuple1)"
   ]
  },
  {
   "cell_type": "code",
   "execution_count": 6,
   "id": "fbd7c3da",
   "metadata": {},
   "outputs": [],
   "source": [
    "# Here is correct example--\n",
    "tuple2=(42,)"
   ]
  },
  {
   "cell_type": "code",
   "execution_count": 7,
   "id": "e7f56ecf",
   "metadata": {},
   "outputs": [
    {
     "name": "stdout",
     "output_type": "stream",
     "text": [
      "(42,)\n"
     ]
    }
   ],
   "source": [
    "print(tuple2)"
   ]
  },
  {
   "cell_type": "code",
   "execution_count": 8,
   "id": "00f118d3",
   "metadata": {},
   "outputs": [
    {
     "name": "stdout",
     "output_type": "stream",
     "text": [
      "(12, 34)\n"
     ]
    }
   ],
   "source": [
    "tuple1=(12,34)\n",
    "print(tuple1)"
   ]
  },
  {
   "cell_type": "markdown",
   "id": "06637f14",
   "metadata": {},
   "source": [
    "### Ques(15): How do you get a list value's tuple form? How do you get a tuple value's list form?\n",
    "### Ans-"
   ]
  },
  {
   "cell_type": "markdown",
   "id": "8523eb67",
   "metadata": {},
   "source": [
    "The tuple() and list() functions, respectively\n",
    "#### Ex-list() to tuple()"
   ]
  },
  {
   "cell_type": "code",
   "execution_count": 2,
   "id": "c66684d8",
   "metadata": {},
   "outputs": [
    {
     "name": "stdout",
     "output_type": "stream",
     "text": [
      "Before transformation: ['Meredith', 'Kristen', 'Wright', 'Franklin']\n",
      "<class 'list'>\n"
     ]
    }
   ],
   "source": [
    "list_names=['Meredith', 'Kristen', 'Wright', 'Franklin']\n",
    "print(\"Before transformation:\",list_names)\n",
    "print(type(list_names))\n"
   ]
  },
  {
   "cell_type": "code",
   "execution_count": 3,
   "id": "51871854",
   "metadata": {},
   "outputs": [
    {
     "name": "stdout",
     "output_type": "stream",
     "text": [
      "After transformation: ('Meredith', 'Kristen', 'Wright', 'Franklin')\n",
      "<class 'tuple'>\n"
     ]
    }
   ],
   "source": [
    "tuple_names=tuple(list_names)\n",
    "print(\"After transformation:\",tuple_names)\n",
    "print(type(tuple_names))"
   ]
  },
  {
   "cell_type": "markdown",
   "id": "e2c48741",
   "metadata": {},
   "source": [
    "#### Ex-tuple to list()"
   ]
  },
  {
   "cell_type": "code",
   "execution_count": 9,
   "id": "a074951d",
   "metadata": {},
   "outputs": [
    {
     "name": "stdout",
     "output_type": "stream",
     "text": [
      "Before transformation: ('Meredith', 'Kristen', 'Wright', 'Franklin')\n",
      "<class 'tuple'>\n"
     ]
    }
   ],
   "source": [
    "tuple_names=('Meredith', 'Kristen', 'Wright', 'Franklin')\n",
    "print(\"Before transformation:\",tuple_names)\n",
    "print(type(tuple_names))"
   ]
  },
  {
   "cell_type": "code",
   "execution_count": 10,
   "id": "cc64b620",
   "metadata": {},
   "outputs": [
    {
     "name": "stdout",
     "output_type": "stream",
     "text": [
      "After transformation: ['Meredith', 'Kristen', 'Wright', 'Franklin']\n",
      "<class 'list'>\n"
     ]
    }
   ],
   "source": [
    "list_names=list(tuple_names)\n",
    "print(\"After transformation:\",list_names)\n",
    "print(type(list_names))"
   ]
  },
  {
   "cell_type": "markdown",
   "id": "4204d2e3",
   "metadata": {},
   "source": [
    "### Ques(16): Variables that \"contain\" list values are not necessarily lists themselves. Instead, what do they contain?\n",
    "### Ans-"
   ]
  },
  {
   "cell_type": "code",
   "execution_count": 16,
   "id": "1aa0ba89",
   "metadata": {},
   "outputs": [
    {
     "name": "stdout",
     "output_type": "stream",
     "text": [
      "100\n",
      "42\n"
     ]
    }
   ],
   "source": [
    "# 1st example---\n",
    "spam=42\n",
    "cheese=spam\n",
    "spam=100\n",
    "print(spam)\n",
    "print(cheese)"
   ]
  },
  {
   "cell_type": "markdown",
   "id": "d98fb83a",
   "metadata": {},
   "source": [
    "But lists don’t work this way. When you assign a list to a variable, you are actually assigning a list reference to the variable. A reference is a value that points to some bit of data, and a list reference is a value that points to a list"
   ]
  },
  {
   "cell_type": "code",
   "execution_count": 20,
   "id": "43d71083",
   "metadata": {},
   "outputs": [
    {
     "name": "stdout",
     "output_type": "stream",
     "text": [
      "[0, 'Hello!', 2, 3, 4, 5]\n",
      "[0, 'Hello!', 2, 3, 4, 5]\n",
      "2763376075392\n",
      "2763376075392\n"
     ]
    }
   ],
   "source": [
    "spam = [0, 1, 2, 3, 4, 5]\n",
    "cheese = spam\n",
    "cheese[1] = 'Hello!'\n",
    "print(spam)\n",
    "print(cheese)\n",
    "print(id(spam))\n",
    "print(id(cheese))"
   ]
  },
  {
   "cell_type": "code",
   "execution_count": 15,
   "id": "2887eb20",
   "metadata": {},
   "outputs": [
    {
     "name": "stdout",
     "output_type": "stream",
     "text": [
      "[1, 2, 3, 'Hello']\n"
     ]
    }
   ],
   "source": [
    "# 2nd example---\n",
    "def eggs(someParameter):\n",
    "    someParameter.append('Hello')\n",
    "\n",
    "spam = [1, 2, 3]\n",
    "eggs(spam)\n",
    "print(spam)"
   ]
  },
  {
   "cell_type": "markdown",
   "id": "96711939",
   "metadata": {},
   "source": [
    "###### Variables will contain references to list values rather than list values themselves. But for strings and integer values, variables simply contain the string or integer value. Python uses references whenever variables must store values of mutable data types, such as lists or dictionaries. For values of immutable data types such as strings, integers, or tuples, Python variables will store the value itself."
   ]
  },
  {
   "cell_type": "markdown",
   "id": "9760a383",
   "metadata": {},
   "source": [
    "### Ques(17): How do you distinguish between copy.copy() and copy.deepcopy()?\n",
    "### Ans-"
   ]
  },
  {
   "cell_type": "code",
   "execution_count": 21,
   "id": "a7f77cb0",
   "metadata": {},
   "outputs": [
    {
     "name": "stdout",
     "output_type": "stream",
     "text": [
      "['A', 'B', 'C', 'D']\n",
      "['A', 42, 'C', 'D']\n",
      "2763376076160\n",
      "2763376068736\n"
     ]
    }
   ],
   "source": [
    "import copy\n",
    "spam=['A','B','C','D']\n",
    "cheese=copy.copy(spam)\n",
    "cheese[1]=42\n",
    "print(spam)\n",
    "print(cheese)\n",
    "print(id(spam))\n",
    "print(id(cheese))"
   ]
  },
  {
   "cell_type": "markdown",
   "id": "3d73cc1c",
   "metadata": {},
   "source": [
    "Now the spam and cheese variables refer to separate lists, which is why only the list in cheese is modified when you assign 42 at index 1.\n",
    "\n",
    "The reference ID numbers are no longer the same for both variables because the variables refer to independent lists."
   ]
  },
  {
   "cell_type": "code",
   "execution_count": 22,
   "id": "3dcad58e",
   "metadata": {},
   "outputs": [
    {
     "name": "stdout",
     "output_type": "stream",
     "text": [
      "['A', 'B', 'C', 'D']\n",
      "['A', 42, 'C', 'D']\n",
      "2763375984192\n",
      "2763375982528\n"
     ]
    }
   ],
   "source": [
    "import copy\n",
    "spam=['A','B','C','D']\n",
    "cheese=copy.deepcopy(spam)\n",
    "cheese[1]=42\n",
    "print(spam)\n",
    "print(cheese)\n",
    "print(id(spam))\n",
    "print(id(cheese))"
   ]
  },
  {
   "cell_type": "markdown",
   "id": "8eb9a001",
   "metadata": {},
   "source": [
    "###### In normal list shallowcopy is equal deepcopy(copy==deepcopy) but in nested list is not equal to deepcopy(copy!=deepcopy)."
   ]
  },
  {
   "cell_type": "code",
   "execution_count": 23,
   "id": "fc7e4b71",
   "metadata": {},
   "outputs": [
    {
     "name": "stdout",
     "output_type": "stream",
     "text": [
      "Before doing copy: [[1, 2, 3], [4, 5, 6], [7, 8, 9]]\n",
      "4\n",
      "After doing copy list1: [[1, 2, 3], [100, 5, 6], [7, 8, 9]]\n",
      "After doing copy list2 [[1, 2, 3], [100, 5, 6], [7, 8, 9]]\n"
     ]
    }
   ],
   "source": [
    "list1=[[1,2,3],[4,5,6],[7,8,9]]\n",
    "print(\"Before doing copy:\",list1)\n",
    "list2=copy.copy(list1)\n",
    "print(list1[1][0])\n",
    "list1[1][0]=100\n",
    "print('After doing copy list1:',list1)\n",
    "print('After doing copy list2',list2)"
   ]
  },
  {
   "cell_type": "code",
   "execution_count": 24,
   "id": "4e6e9732",
   "metadata": {},
   "outputs": [
    {
     "name": "stdout",
     "output_type": "stream",
     "text": [
      "Before doing copy: [[1, 2, 3], [4, 5, 6], [7, 8, 9]]\n",
      "4\n",
      "After doing copy list1: [[1, 2, 3], [100, 5, 6], [7, 8, 9]]\n",
      "After doing copy list2 [[1, 2, 3], [4, 5, 6], [7, 8, 9]]\n"
     ]
    }
   ],
   "source": [
    "list1=[[1,2,3],[4,5,6],[7,8,9]]\n",
    "print(\"Before doing copy:\",list1)\n",
    "list2=copy.deepcopy(list1)\n",
    "print(list1[1][0])\n",
    "list1[1][0]=100\n",
    "print('After doing copy list1:',list1)\n",
    "print('After doing copy list2',list2)"
   ]
  },
  {
   "cell_type": "markdown",
   "id": "977a550c",
   "metadata": {},
   "source": [
    "## Thank you for checking."
   ]
  }
 ],
 "metadata": {
  "kernelspec": {
   "display_name": "Python 3 (ipykernel)",
   "language": "python",
   "name": "python3"
  },
  "language_info": {
   "codemirror_mode": {
    "name": "ipython",
    "version": 3
   },
   "file_extension": ".py",
   "mimetype": "text/x-python",
   "name": "python",
   "nbconvert_exporter": "python",
   "pygments_lexer": "ipython3",
   "version": "3.10.8"
  }
 },
 "nbformat": 4,
 "nbformat_minor": 5
}
