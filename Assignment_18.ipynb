{
 "cells": [
  {
   "cell_type": "markdown",
   "id": "daeeaed9",
   "metadata": {},
   "source": [
    "###  Ques(1): Create a zoo.py file first. Define the hours() function, which prints the string &#39;Open 9-5 daily&#39;. Then, use the interactive interpreter to import the zoo module and call its hours() function."
   ]
  },
  {
   "cell_type": "markdown",
   "id": "e1d37209",
   "metadata": {},
   "source": [
    "### Ans"
   ]
  },
  {
   "cell_type": "code",
   "execution_count": 9,
   "id": "76b00ddd",
   "metadata": {},
   "outputs": [
    {
     "name": "stdout",
     "output_type": "stream",
     "text": [
      "def hours():\n",
      "    print(\"Open 9-5 daily\")\n"
     ]
    }
   ],
   "source": [
    "!type zoo.py"
   ]
  },
  {
   "cell_type": "code",
   "execution_count": 8,
   "id": "da6c7555",
   "metadata": {},
   "outputs": [
    {
     "name": "stdout",
     "output_type": "stream",
     "text": [
      "Open 9-5 daily\n"
     ]
    }
   ],
   "source": [
    "import zoo\n",
    "zoo.hours()"
   ]
  },
  {
   "cell_type": "markdown",
   "id": "ba417bdb",
   "metadata": {},
   "source": [
    "### Ques(2): In the interactive interpreter, import the zoo module as menagerie and call its hours() function."
   ]
  },
  {
   "cell_type": "markdown",
   "id": "24c41875",
   "metadata": {},
   "source": [
    "### Ans"
   ]
  },
  {
   "cell_type": "code",
   "execution_count": 10,
   "id": "733f2127",
   "metadata": {},
   "outputs": [
    {
     "name": "stdout",
     "output_type": "stream",
     "text": [
      "Open 9-5 daily\n"
     ]
    }
   ],
   "source": [
    "import zoo as menagerie\n",
    "menagerie.hours()"
   ]
  },
  {
   "cell_type": "markdown",
   "id": "ed53c343",
   "metadata": {},
   "source": [
    "### Ques(3): Using the interpreter, explicitly import and call the hours() function from zoo."
   ]
  },
  {
   "cell_type": "markdown",
   "id": "dc38627e",
   "metadata": {},
   "source": [
    "### Ans"
   ]
  },
  {
   "cell_type": "code",
   "execution_count": 11,
   "id": "ece87634",
   "metadata": {},
   "outputs": [
    {
     "name": "stdout",
     "output_type": "stream",
     "text": [
      "Open 9-5 daily\n"
     ]
    }
   ],
   "source": [
    "from zoo import hours\n",
    "hours()"
   ]
  },
  {
   "cell_type": "markdown",
   "id": "f78829da",
   "metadata": {},
   "source": [
    "### Ques(4):Import the hours() function as info and call it."
   ]
  },
  {
   "cell_type": "code",
   "execution_count": 12,
   "id": "3637cf77",
   "metadata": {},
   "outputs": [
    {
     "name": "stdout",
     "output_type": "stream",
     "text": [
      "Open 9-5 daily\n"
     ]
    }
   ],
   "source": [
    "from zoo import hours as info\n",
    "info()"
   ]
  },
  {
   "cell_type": "markdown",
   "id": "641eb480",
   "metadata": {},
   "source": [
    "### Ques(5): Create a plain dictionary with the key-value pairs &#39;a&#39;: 1, &#39;b&#39;: 2, and &#39;c&#39;: 3, and print it out."
   ]
  },
  {
   "cell_type": "markdown",
   "id": "62903e9f",
   "metadata": {},
   "source": [
    "### Ans"
   ]
  },
  {
   "cell_type": "code",
   "execution_count": 13,
   "id": "8030398a",
   "metadata": {},
   "outputs": [
    {
     "name": "stdout",
     "output_type": "stream",
     "text": [
      "{'a': 1, 'b': 2, 'c': 3}\n"
     ]
    }
   ],
   "source": [
    "plain_dict = {'a':1,'b':2,'c':3}\n",
    "print(plain_dict)"
   ]
  },
  {
   "cell_type": "markdown",
   "id": "28cd7ee6",
   "metadata": {},
   "source": [
    "### Ques(6): Make an OrderedDict called fancy from the same pairs listed in 5 and print it. Did it print in the same order as plain?"
   ]
  },
  {
   "cell_type": "markdown",
   "id": "88201012",
   "metadata": {},
   "source": [
    "### Ans"
   ]
  },
  {
   "cell_type": "code",
   "execution_count": 16,
   "id": "0bf031f6",
   "metadata": {},
   "outputs": [
    {
     "name": "stdout",
     "output_type": "stream",
     "text": [
      "plain_dict -> {'a': 1, 'b': 2, 'c': 3, 'd': 4, 'e': 5}\n",
      "fancy -> OrderedDict([('a', 1), ('b', 2), ('c', 3), ('d', 4), ('e', 5)])\n"
     ]
    }
   ],
   "source": [
    "plain_dict = {'a':1,'b':2,'c':3,'d':4,'e':5}\n",
    "from collections import OrderedDict\n",
    "fancy = OrderedDict(plain_dict)\n",
    "print(f'plain_dict -> {plain_dict}')\n",
    "print(f'fancy -> {fancy}')"
   ]
  },
  {
   "cell_type": "markdown",
   "id": "cfcd68af",
   "metadata": {},
   "source": [
    "### Ques(7): Make a default dictionary called dict_of_lists and pass it the argument list. Make the list dict_of_lists[&#39;a&#39;] and append the value &#39;something for a&#39; to it in one assignment. Print dict_of_lists[&#39;a&#39;]."
   ]
  },
  {
   "cell_type": "markdown",
   "id": "054a3f8c",
   "metadata": {},
   "source": [
    "### Ans"
   ]
  },
  {
   "cell_type": "code",
   "execution_count": 19,
   "id": "49e1b90b",
   "metadata": {},
   "outputs": [
    {
     "name": "stdout",
     "output_type": "stream",
     "text": [
      "['something for a']\n"
     ]
    }
   ],
   "source": [
    "from collections import defaultdict\n",
    "dict_of_lists = defaultdict(list)\n",
    "dict_of_lists['b'].append('something for a')\n",
    "print(dict_of_lists['b'])"
   ]
  },
  {
   "cell_type": "markdown",
   "id": "999be5b7",
   "metadata": {},
   "source": [
    "# Thank you for checking my assignment."
   ]
  }
 ],
 "metadata": {
  "kernelspec": {
   "display_name": "Python 3 (ipykernel)",
   "language": "python",
   "name": "python3"
  },
  "language_info": {
   "codemirror_mode": {
    "name": "ipython",
    "version": 3
   },
   "file_extension": ".py",
   "mimetype": "text/x-python",
   "name": "python",
   "nbconvert_exporter": "python",
   "pygments_lexer": "ipython3",
   "version": "3.10.8"
  }
 },
 "nbformat": 4,
 "nbformat_minor": 5
}
