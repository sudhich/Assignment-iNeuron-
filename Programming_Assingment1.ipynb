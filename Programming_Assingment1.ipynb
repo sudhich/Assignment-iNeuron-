{
 "cells": [
  {
   "cell_type": "markdown",
   "id": "5240ab5f",
   "metadata": {},
   "source": [
    "### Ques(1): Write a Python program to print \"Hello Python\"?\n",
    "### Ans-"
   ]
  },
  {
   "cell_type": "code",
   "execution_count": 1,
   "id": "b6e3d33f",
   "metadata": {},
   "outputs": [
    {
     "name": "stdout",
     "output_type": "stream",
     "text": [
      "Hello Python\n"
     ]
    }
   ],
   "source": [
    "print(\"Hello Python\")"
   ]
  },
  {
   "cell_type": "markdown",
   "id": "0ad14b99",
   "metadata": {},
   "source": [
    "### Ques(2): Write a Python program to do arithmetical operations addition and division.?\n",
    "### Ans-"
   ]
  },
  {
   "cell_type": "code",
   "execution_count": 3,
   "id": "eb10c01d",
   "metadata": {},
   "outputs": [
    {
     "name": "stdout",
     "output_type": "stream",
     "text": [
      "15\n",
      "2\n"
     ]
    }
   ],
   "source": [
    "a=10\n",
    "b=5\n",
    "def addition():\n",
    "    return a+b\n",
    "def division():\n",
    "    return a//b\n",
    "print(addition())\n",
    "print(division())"
   ]
  },
  {
   "cell_type": "markdown",
   "id": "fce67067",
   "metadata": {},
   "source": [
    "### Ques(3): Write a Python program to find the area of a triangle?\n",
    "### Ans-"
   ]
  },
  {
   "cell_type": "code",
   "execution_count": 4,
   "id": "92379cd1",
   "metadata": {},
   "outputs": [
    {
     "name": "stdout",
     "output_type": "stream",
     "text": [
      "Area is:  84.0\n"
     ]
    }
   ],
   "source": [
    "a=10\n",
    "b=17\n",
    "c=21\n",
    "def area_of_triangle():\n",
    "    s=(a+b+c)/2\n",
    "    area=(s*(s-a)*(s-b)*(s-c))**0.5\n",
    "    print(\"Area is: \",area)\n",
    "area_of_triangle()"
   ]
  },
  {
   "cell_type": "markdown",
   "id": "4555f7fc",
   "metadata": {},
   "source": [
    "### Ques(4): Write a Python program to swap two variables?\n",
    "### Ans-"
   ]
  },
  {
   "cell_type": "code",
   "execution_count": 6,
   "id": "3e8d1b49",
   "metadata": {},
   "outputs": [
    {
     "name": "stdout",
     "output_type": "stream",
     "text": [
      "Before swap no is:  10 20\n",
      "After swaping no is:  20 10\n"
     ]
    }
   ],
   "source": [
    "a=10\n",
    "b=20\n",
    "print(\"Before swap no is: \",a,b)\n",
    "a,b=b,a\n",
    "print(\"After swaping no is: \",a,b)\n",
    "\n",
    "    "
   ]
  },
  {
   "cell_type": "markdown",
   "id": "0f92815f",
   "metadata": {},
   "source": [
    "### Ques(5): Write a Python program to generate a random number?\n",
    "### Ans-"
   ]
  },
  {
   "cell_type": "code",
   "execution_count": 12,
   "id": "b35d1391",
   "metadata": {},
   "outputs": [
    {
     "name": "stdout",
     "output_type": "stream",
     "text": [
      "256\n"
     ]
    }
   ],
   "source": [
    "import random\n",
    "print(random.randint(0,1000))"
   ]
  },
  {
   "cell_type": "code",
   "execution_count": null,
   "id": "188b862b",
   "metadata": {},
   "outputs": [],
   "source": []
  }
 ],
 "metadata": {
  "kernelspec": {
   "display_name": "Python 3 (ipykernel)",
   "language": "python",
   "name": "python3"
  },
  "language_info": {
   "codemirror_mode": {
    "name": "ipython",
    "version": 3
   },
   "file_extension": ".py",
   "mimetype": "text/x-python",
   "name": "python",
   "nbconvert_exporter": "python",
   "pygments_lexer": "ipython3",
   "version": "3.10.8"
  }
 },
 "nbformat": 4,
 "nbformat_minor": 5
}
