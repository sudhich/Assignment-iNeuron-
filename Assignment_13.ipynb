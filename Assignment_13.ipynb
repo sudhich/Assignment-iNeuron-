{
 "cells": [
  {
   "cell_type": "markdown",
   "id": "bed5cd53",
   "metadata": {},
   "source": [
    "###  Ques(1): What advantages do Excel spreadsheets have over CSV spreadsheets?"
   ]
  },
  {
   "cell_type": "markdown",
   "id": "3e4e9043",
   "metadata": {},
   "source": [
    "### Ans\n",
    "While Excel (XLS and XLSX) file formats are better for storing more complex data, CSV files are supported by nearly all data upload interfaces. If you are planning to move your data between platforms, export and import it from one interface to another, you might be better off with the CSV file format."
   ]
  },
  {
   "cell_type": "markdown",
   "id": "f888b4c7",
   "metadata": {},
   "source": [
    "### Ques(2): What do you pass to csv.reader() and csv.writer() to create reader and writer objects?"
   ]
  },
  {
   "cell_type": "markdown",
   "id": "cb364176",
   "metadata": {},
   "source": [
    "### Ans\n",
    "To read a CSV file in Python, we can use the csv.reader() function. Suppose we have a csv file named people.csv in the current directory with the following entries.\n",
    "\n",
    "To write to a CSV file in Python, we can use the csv.writer() function.\n",
    "The csv.writer() function returns a writer object that converts the user's data into a delimited string. This string can later be used to write into CSV files using the writerow() function."
   ]
  },
  {
   "cell_type": "markdown",
   "id": "11584473",
   "metadata": {},
   "source": [
    "### Ques(3): What modes do File objects for reader and writer objects need to be opened in?"
   ]
  },
  {
   "cell_type": "markdown",
   "id": "bc44dac7",
   "metadata": {},
   "source": [
    "### Ans\n",
    "Here mode means the operation for which the file has to be opened like <r>for reading, <w>for writing,<+>for both reading and writing, <a>for appending at the end of an existing file. The default is the read mode. In addition, we can specify whether the file will be handled as binary(<b>) or text mode."
   ]
  },
  {
   "cell_type": "markdown",
   "id": "0004d3b3",
   "metadata": {},
   "source": [
    "### Ques(4): What method takes a list argument and writes it to a CSV file?"
   ]
  },
  {
   "cell_type": "markdown",
   "id": "a685033c",
   "metadata": {},
   "source": [
    "### Ans\n",
    "Method 1: Using CSV Module\n",
    "We can convert a list to CSV in python easily by importing an in-built CSV module in python. In this method, we use file handling in python to read the data of a list and then write it into a CSV file.\n",
    "\n",
    "Let's take an example to understand this better.\n",
    "#### Ex-"
   ]
  },
  {
   "cell_type": "code",
   "execution_count": 1,
   "id": "fc472198",
   "metadata": {},
   "outputs": [],
   "source": [
    "import csv\n",
    "  \n",
    "fields = ['Employee', 'ID', 'Salary'] \n",
    "    \n",
    "rows = [ ['XYZ', '011', '2000'], \n",
    "         ['ABC', '012', '8000'],\n",
    "         ['PQR', '351', '5000'],\n",
    "         ['EFG', '146', '10000'] ] \n",
    "  \n",
    "with open('EmployeeData.csv', 'w') as f:\n",
    "      \n",
    "    csv_writer = csv.writer(f)\n",
    "    csv_writer.writerow(fields)\n",
    "    csv_writer.writerows(rows)\n"
   ]
  },
  {
   "cell_type": "markdown",
   "id": "d950f26a",
   "metadata": {},
   "source": [
    "### Ques(5): What do the keyword arguments delimiter and line terminator do?"
   ]
  },
  {
   "cell_type": "markdown",
   "id": "090eeb84",
   "metadata": {},
   "source": [
    "### Ans\n",
    "The delimiter and lineterminator Keyword Arguments\n",
    "The delimiter is the character that appears between cells on a row. By default, the delimiter for a CSV file is a comma. The line terminator is the character that comes at the end of a row. By default, the line terminator is a newline."
   ]
  },
  {
   "cell_type": "markdown",
   "id": "edae5f3a",
   "metadata": {},
   "source": [
    "### Ques(6): What function takes a string of JSON data and returns a Python data structure?"
   ]
  },
  {
   "cell_type": "markdown",
   "id": "df2d4e14",
   "metadata": {},
   "source": [
    "### Ans\n",
    "loads() method return Python data structure of JSON string or data."
   ]
  },
  {
   "cell_type": "markdown",
   "id": "73022b57",
   "metadata": {},
   "source": [
    "### Ques(7): What function takes a Python data structure and returns a string of JSON data?"
   ]
  },
  {
   "cell_type": "markdown",
   "id": "64cc4b3c",
   "metadata": {},
   "source": [
    "### Ans\n",
    "If you have a Python object, you can convert it into a JSON string by using the json.dumps() method."
   ]
  },
  {
   "cell_type": "code",
   "execution_count": null,
   "id": "9b178527",
   "metadata": {},
   "outputs": [],
   "source": []
  }
 ],
 "metadata": {
  "kernelspec": {
   "display_name": "Python 3 (ipykernel)",
   "language": "python",
   "name": "python3"
  },
  "language_info": {
   "codemirror_mode": {
    "name": "ipython",
    "version": 3
   },
   "file_extension": ".py",
   "mimetype": "text/x-python",
   "name": "python",
   "nbconvert_exporter": "python",
   "pygments_lexer": "ipython3",
   "version": "3.10.8"
  }
 },
 "nbformat": 4,
 "nbformat_minor": 5
}
