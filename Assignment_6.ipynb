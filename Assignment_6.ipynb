{
 "cells": [
  {
   "cell_type": "markdown",
   "id": "045ede3f",
   "metadata": {},
   "source": [
    "### Ques(1): What are escape characters, and how do you use them?\n",
    "### Ans-"
   ]
  },
  {
   "cell_type": "markdown",
   "id": "96cad9c1",
   "metadata": {},
   "source": [
    "To insert characters that are illegal in a string, use an escape character. An escape character is a backslash \\ followed by the character you want to insert.\n",
    "\n",
    "\\'--->single quote\n",
    "\n",
    "\\\\---->backslash\n",
    "\n",
    "\\n---->new line\n",
    "\n",
    "\\b---->backspace"
   ]
  },
  {
   "cell_type": "code",
   "execution_count": 2,
   "id": "edcfdb50",
   "metadata": {
    "scrolled": true
   },
   "outputs": [
    {
     "ename": "SyntaxError",
     "evalue": "unterminated string literal (detected at line 1) (4186274551.py, line 1)",
     "output_type": "error",
     "traceback": [
      "\u001b[1;36m  Cell \u001b[1;32mIn [2], line 1\u001b[1;36m\u001b[0m\n\u001b[1;33m    s = 'Hey, what's up?'\u001b[0m\n\u001b[1;37m                        ^\u001b[0m\n\u001b[1;31mSyntaxError\u001b[0m\u001b[1;31m:\u001b[0m unterminated string literal (detected at line 1)\n"
     ]
    }
   ],
   "source": [
    "s = 'Hey, what's up?'\n",
    "print(s)"
   ]
  },
  {
   "cell_type": "code",
   "execution_count": 6,
   "id": "edc6bc03",
   "metadata": {},
   "outputs": [
    {
     "name": "stdout",
     "output_type": "stream",
     "text": [
      "Hey, what's up?\n"
     ]
    }
   ],
   "source": [
    "# \\'-->single quote\n",
    "s = 'Hey, what\\'s up?'\n",
    "print(s)"
   ]
  },
  {
   "cell_type": "code",
   "execution_count": 7,
   "id": "5d92d4f3",
   "metadata": {},
   "outputs": [
    {
     "name": "stdout",
     "output_type": "stream",
     "text": [
      "We are the so-called \"Vikings\" from the north.\n"
     ]
    }
   ],
   "source": [
    "#\\\"--->qouble quote\n",
    "txt = \"We are the so-called \\\"Vikings\\\" from the north.\"\n",
    "print(txt) "
   ]
  },
  {
   "cell_type": "code",
   "execution_count": 9,
   "id": "bf24ff35",
   "metadata": {},
   "outputs": [
    {
     "name": "stdout",
     "output_type": "stream",
     "text": [
      "Hello\n",
      "World!\n"
     ]
    }
   ],
   "source": [
    "#\\n---->newline\n",
    "str1 = \"Hello\\nWorld!\"\n",
    "print(str1) \n"
   ]
  },
  {
   "cell_type": "code",
   "execution_count": 19,
   "id": "130854df",
   "metadata": {},
   "outputs": [
    {
     "name": "stdout",
     "output_type": "stream",
     "text": [
      "Hello\r",
      "World!\n"
     ]
    }
   ],
   "source": [
    "str1 = \"Hello\\rWorld!\"\n",
    "print(str1) \n"
   ]
  },
  {
   "cell_type": "markdown",
   "id": "c1a30d72",
   "metadata": {},
   "source": [
    "###### 2nd nmetod if using r and repr()"
   ]
  },
  {
   "cell_type": "code",
   "execution_count": 31,
   "id": "7f10ae2d",
   "metadata": {},
   "outputs": [
    {
     "name": "stdout",
     "output_type": "stream",
     "text": [
      "I\n",
      "Love\tGeeksforgeeks\n",
      "\n",
      "\n",
      "'I\\nLove\\tGeeksforgeeks'\n"
     ]
    }
   ],
   "source": [
    "#1st Ex-\n",
    "ch = \"I\\nLove\\tGeeksforgeeks\"\n",
    "print (ch)\n",
    "print(\"\\n\")\n",
    "print (repr(ch))"
   ]
  },
  {
   "cell_type": "code",
   "execution_count": 30,
   "id": "05f4fccf",
   "metadata": {},
   "outputs": [
    {
     "name": "stdout",
     "output_type": "stream",
     "text": [
      "I\\nLove\\tGeeksforgeeks\n"
     ]
    }
   ],
   "source": [
    "#2nd Ex-\n",
    "string=r\"I\\nLove\\tGeeksforgeeks\"\n",
    "print(string)"
   ]
  },
  {
   "cell_type": "markdown",
   "id": "f3461e8f",
   "metadata": {},
   "source": [
    "### Ques(2): What do the escape characters n and t stand for?\n",
    "### Ans-"
   ]
  },
  {
   "cell_type": "markdown",
   "id": "9898d7b6",
   "metadata": {},
   "source": [
    "escape characters n(\\n) means newline\n",
    "\n",
    "escape characters t(\\t) means tab"
   ]
  },
  {
   "cell_type": "code",
   "execution_count": 10,
   "id": "aa3b8126",
   "metadata": {},
   "outputs": [
    {
     "name": "stdout",
     "output_type": "stream",
     "text": [
      "Hello\n",
      "World!\n"
     ]
    }
   ],
   "source": [
    "#\\n---->newline\n",
    "str1 = \"Hello\\nWorld!\"\n",
    "print(str1) "
   ]
  },
  {
   "cell_type": "code",
   "execution_count": 11,
   "id": "28ac065f",
   "metadata": {},
   "outputs": [
    {
     "name": "stdout",
     "output_type": "stream",
     "text": [
      "Hello\tWorld!\n"
     ]
    }
   ],
   "source": [
    "#\\n---->newline\n",
    "str1 = \"Hello\\tWorld!\"\n",
    "print(str1) "
   ]
  },
  {
   "cell_type": "markdown",
   "id": "26ec2233",
   "metadata": {},
   "source": [
    "### Ques(3): What is the way to include backslash characters in a string?\n",
    "### Ans-"
   ]
  },
  {
   "cell_type": "code",
   "execution_count": 13,
   "id": "7901766a",
   "metadata": {},
   "outputs": [
    {
     "name": "stdout",
     "output_type": "stream",
     "text": [
      "This will insert one \\ is (backslash).\n"
     ]
    }
   ],
   "source": [
    "txt = \"This will insert one \\\\ is (backslash).\"\n",
    "print(txt) \n"
   ]
  },
  {
   "cell_type": "markdown",
   "id": "6e7a7c19",
   "metadata": {},
   "source": [
    "### Ques(4): The string \"Howl's Moving Castle\" is a correct value. Why isn't the single quote character in the word Howl's not escaped a problem?\n",
    "### Ans-"
   ]
  },
  {
   "cell_type": "code",
   "execution_count": 14,
   "id": "7b2fb675",
   "metadata": {},
   "outputs": [
    {
     "name": "stdout",
     "output_type": "stream",
     "text": [
      "Howl's Moving Castle\n"
     ]
    }
   ],
   "source": [
    "string=\"Howl's Moving Castle\"\n",
    "print(string)"
   ]
  },
  {
   "cell_type": "markdown",
   "id": "99c61fbd",
   "metadata": {},
   "source": [
    "###### because double quote is seprated from single quote. if you write single quote then gives the problem. Ex-"
   ]
  },
  {
   "cell_type": "code",
   "execution_count": 16,
   "id": "d2cadacf",
   "metadata": {},
   "outputs": [
    {
     "ename": "SyntaxError",
     "evalue": "unterminated string literal (detected at line 1) (4061292157.py, line 1)",
     "output_type": "error",
     "traceback": [
      "\u001b[1;36m  Cell \u001b[1;32mIn [16], line 1\u001b[1;36m\u001b[0m\n\u001b[1;33m    string='How's Moving Castle'\u001b[0m\n\u001b[1;37m                               ^\u001b[0m\n\u001b[1;31mSyntaxError\u001b[0m\u001b[1;31m:\u001b[0m unterminated string literal (detected at line 1)\n"
     ]
    }
   ],
   "source": [
    "string='How's Moving Castle'\n",
    "print(string)"
   ]
  },
  {
   "cell_type": "markdown",
   "id": "f2428d91",
   "metadata": {},
   "source": [
    "### Ques(5): How do you write a string of newlines if you don't want to use the n character?\n",
    "### Ans-"
   ]
  },
  {
   "cell_type": "markdown",
   "id": "3097b6d0",
   "metadata": {},
   "source": [
    "The new line character in Python is \\n . It is used to indicate the end of a line of text. You can print strings without adding a new line with end = <character> , which <character> is the character that will be used to separate the lines"
   ]
  },
  {
   "cell_type": "code",
   "execution_count": 2,
   "id": "dffad5e1",
   "metadata": {},
   "outputs": [
    {
     "name": "stdout",
     "output_type": "stream",
     "text": [
      "hellow\n",
      "world!\n"
     ]
    }
   ],
   "source": [
    "#1st Ex-\n",
    "string=\"hellow\\nworld!\"\n",
    "print(string)"
   ]
  },
  {
   "cell_type": "code",
   "execution_count": 4,
   "id": "d9359f91",
   "metadata": {},
   "outputs": [
    {
     "name": "stdout",
     "output_type": "stream",
     "text": [
      "hellow\n",
      "world!\n",
      "hellow world!\n",
      "hellow world!\n"
     ]
    }
   ],
   "source": [
    "#2nd Ex-\n",
    "#It print different line.\n",
    "print(\"hellow\")\n",
    "print(\"world!\")\n",
    "#It print same line.\n",
    "print(\"hellow\",end=\" \")\n",
    "print(\"world!\")\n",
    "\n",
    "#OR\n",
    "print(\"hellow\",\"world!\")"
   ]
  },
  {
   "cell_type": "markdown",
   "id": "37e6a6ca",
   "metadata": {},
   "source": [
    "### Ques(6): What are the values of the given expressions?\n",
    "#### 'Hello, world!'[1]\n",
    "#### 'Hello, world!'[0:5]\n",
    "#### 'Hello, world!'[:5]\n",
    "#### 'Hello, world!'[3:]\n",
    "### Ans-"
   ]
  },
  {
   "cell_type": "markdown",
   "id": "8ffefa31",
   "metadata": {},
   "source": [
    "The expressions evaluate to the following:\n",
    "\n",
    "'e'\n",
    "\n",
    "'Hello'\n",
    "\n",
    "'Hello'\n",
    "\n",
    "'lo, world!'"
   ]
  },
  {
   "cell_type": "code",
   "execution_count": 5,
   "id": "5fa639d6",
   "metadata": {},
   "outputs": [
    {
     "name": "stdout",
     "output_type": "stream",
     "text": [
      "e\n",
      "Hello\n",
      "Hello\n",
      "lo, world!\n"
     ]
    }
   ],
   "source": [
    "txt=\"Hello, world!\"\n",
    "print(txt[1])\n",
    "print(txt[0:5])\n",
    "print(txt[:5])\n",
    "print(txt[3:])"
   ]
  },
  {
   "cell_type": "markdown",
   "id": "4c9cb4ba",
   "metadata": {},
   "source": [
    "### Ques(7): What are the values of the following expressions?\n",
    "#### 'Hello'.upper()\n",
    "#### 'Hello'.upper().isupper()\n",
    "#### 'Hello'.upper().lower()\n",
    "### Ans-"
   ]
  },
  {
   "cell_type": "code",
   "execution_count": 6,
   "id": "c3047572",
   "metadata": {},
   "outputs": [
    {
     "name": "stdout",
     "output_type": "stream",
     "text": [
      "HELLO\n"
     ]
    }
   ],
   "source": [
    "print('Hello'.upper())"
   ]
  },
  {
   "cell_type": "code",
   "execution_count": 7,
   "id": "c8067723",
   "metadata": {},
   "outputs": [
    {
     "name": "stdout",
     "output_type": "stream",
     "text": [
      "True\n"
     ]
    }
   ],
   "source": [
    "print('Hello'.upper().isupper())"
   ]
  },
  {
   "cell_type": "code",
   "execution_count": 8,
   "id": "dfb2b91b",
   "metadata": {},
   "outputs": [
    {
     "name": "stdout",
     "output_type": "stream",
     "text": [
      "hello\n"
     ]
    }
   ],
   "source": [
    "print('Hello'.upper().lower())"
   ]
  },
  {
   "cell_type": "markdown",
   "id": "5ff274bd",
   "metadata": {},
   "source": [
    "### Ques(8): What are the values of the following expressions?\n",
    "#### 'Remember, remember, the fifth of July.'.split()\n",
    "#### '-'.join('There can only one.'.split())\n",
    "### Ans-"
   ]
  },
  {
   "cell_type": "code",
   "execution_count": 9,
   "id": "d4860376",
   "metadata": {},
   "outputs": [
    {
     "name": "stdout",
     "output_type": "stream",
     "text": [
      "['Remember,', 'remember,', 'the', 'fifth', 'of', 'July.']\n"
     ]
    }
   ],
   "source": [
    "print('Remember, remember, the fifth of July.'.split())"
   ]
  },
  {
   "cell_type": "code",
   "execution_count": 10,
   "id": "20e84250",
   "metadata": {},
   "outputs": [
    {
     "name": "stdout",
     "output_type": "stream",
     "text": [
      "There-can-only-one.\n"
     ]
    }
   ],
   "source": [
    "print('-'.join('There can only one.'.split()))\n",
    "#print('There can only one.'.split())\n",
    "#print('RAM'.join('There can only one.'.split()))"
   ]
  },
  {
   "cell_type": "markdown",
   "id": "fb49fc48",
   "metadata": {},
   "source": [
    "### Ques(9): What are the methods for right-justifying, left-justifying, and centering a string?\n",
    "### Ans-"
   ]
  },
  {
   "cell_type": "markdown",
   "id": "e5de7991",
   "metadata": {},
   "source": [
    "The rjust(), ljust(), and center() string methods, respectively"
   ]
  },
  {
   "cell_type": "markdown",
   "id": "4cb10b45",
   "metadata": {},
   "source": [
    "### center()\n",
    "This function center aligns the string according to the width specified and fills remaining space of line with blank space if ‘ fillchr ‘ argument is not passed.\n",
    "\n",
    "Syntax :\n",
    "center( len, fillchr )\n",
    "\n",
    "Parameters :\n",
    "len : The width of string to expand it.\n",
    "fillchr (optional): The character to fill in remaining space.\n",
    "\n",
    "Return Value :\n",
    "The resultant center aligned string expanding the given width."
   ]
  },
  {
   "cell_type": "code",
   "execution_count": 14,
   "id": "30193fa6",
   "metadata": {},
   "outputs": [
    {
     "name": "stdout",
     "output_type": "stream",
     "text": [
      "The center aligned string is : \n",
      "          I love geeksforgeeks           \n",
      "\n"
     ]
    }
   ],
   "source": [
    "cstr = \"I love geeksforgeeks\"\n",
    "print (\"The center aligned string is : \")\n",
    "print (cstr.center(40), \"\\n\")"
   ]
  },
  {
   "cell_type": "code",
   "execution_count": 15,
   "id": "c8eeeb24",
   "metadata": {},
   "outputs": [
    {
     "name": "stdout",
     "output_type": "stream",
     "text": [
      "Center aligned string with fillchr: \n",
      "##########I love geeksforgeeks##########\n"
     ]
    }
   ],
   "source": [
    "print (\"Center aligned string with fillchr: \")\n",
    "print (cstr.center(40, '#'))"
   ]
  },
  {
   "cell_type": "markdown",
   "id": "b62e70e3",
   "metadata": {},
   "source": [
    "### ljust()\n",
    "This function left aligns the string according to the width specified and fills remaining space of line with blank space if ‘ fillchr ‘ argument is not passed.\n",
    "\n",
    "Syntax :\n",
    "ljust( len, fillchr )\n",
    "\n",
    "Parameters :\n",
    "len : The width of string to expand it.\n",
    "fillchr (optional): The character to fill in remaining space.\n",
    "\n",
    "Return Value :\n",
    "The resultant left aligned string expanding the given width."
   ]
  },
  {
   "cell_type": "code",
   "execution_count": 16,
   "id": "d81105be",
   "metadata": {},
   "outputs": [
    {
     "name": "stdout",
     "output_type": "stream",
     "text": [
      "The left aligned string is : \n",
      "I love geeksforgeeks--------------------\n"
     ]
    }
   ],
   "source": [
    "lstr = \"I love geeksforgeeks\"\n",
    "print (\"The left aligned string is : \")\n",
    "print (lstr.ljust(40, '-'))"
   ]
  },
  {
   "cell_type": "markdown",
   "id": "c486a280",
   "metadata": {},
   "source": [
    "### rjust()\n",
    "This function right aligns the string according to the width specified and fills remaining space of line with blank space if ‘ fillchr ‘ argument is not passed.\n",
    "\n",
    "Syntax :\n",
    "rjust( len, fillchr )\n",
    "\n",
    "Parameters :\n",
    "len : The width of string to expand it.\n",
    "fillchr (optional) : The character to fill in remaining space.\n",
    "\n",
    "Return Value :\n",
    "The resultant right aligned string expanding the given width."
   ]
  },
  {
   "cell_type": "code",
   "execution_count": 17,
   "id": "13cd379f",
   "metadata": {},
   "outputs": [
    {
     "name": "stdout",
     "output_type": "stream",
     "text": [
      "The right aligned string is : \n",
      "--------------------I love geeksforgeeks\n"
     ]
    }
   ],
   "source": [
    "rstr = \"I love geeksforgeeks\"\n",
    "print (\"The right aligned string is : \")\n",
    "print (rstr.rjust(40, '-'))"
   ]
  },
  {
   "cell_type": "markdown",
   "id": "495526ab",
   "metadata": {},
   "source": [
    "### Ques(10): What is the best way to remove whitespace characters from the start or end?\n",
    "### Ans-"
   ]
  },
  {
   "cell_type": "markdown",
   "id": "f846cede",
   "metadata": {},
   "source": [
    "The lstrip() and rstrip() methods remove whitespace from the left and right ends of a string, respectively.\n",
    "1. strip():- This method is used to delete all the leading and trailing characters mentioned in its argument.\n",
    "2. lstrip():- This method is used to delete all the leading characters mentioned in its argument.\n",
    "3. rstrip():- This method is used to delete all the trailing characters mentioned in its argument.\n",
    "### Ex-strip()"
   ]
  },
  {
   "cell_type": "code",
   "execution_count": 25,
   "id": "3a4fbfb1",
   "metadata": {},
   "outputs": [
    {
     "name": "stdout",
     "output_type": "stream",
     "text": [
      "---geeksforgeeks---\n",
      "geeksforgeeks\n"
     ]
    }
   ],
   "source": [
    "str = \"---geeksforgeeks---\"\n",
    "print(str)\n",
    "print ( str.strip('-') )"
   ]
  },
  {
   "cell_type": "code",
   "execution_count": 26,
   "id": "72020f93",
   "metadata": {},
   "outputs": [
    {
     "name": "stdout",
     "output_type": "stream",
     "text": [
      " String after stripping all '-' is : geeksforgeeks\n"
     ]
    }
   ],
   "source": [
    "print ( \" String after stripping all '-' is : \", end=\"\")\n",
    "print ( str.strip('-') )"
   ]
  },
  {
   "cell_type": "markdown",
   "id": "b8b7e494",
   "metadata": {},
   "source": [
    "### Ex-lstrip()"
   ]
  },
  {
   "cell_type": "code",
   "execution_count": 27,
   "id": "fa08b5ea",
   "metadata": {},
   "outputs": [
    {
     "name": "stdout",
     "output_type": "stream",
     "text": [
      "---geeksforgeeks---\n",
      "geeksforgeeks---\n",
      " String after stripping all leading '-' is : geeksforgeeks---\n"
     ]
    }
   ],
   "source": [
    "str = \"---geeksforgeeks---\"\n",
    "print(str)\n",
    "print ( str.lstrip('-') )\n",
    "print ( \" String after stripping all leading '-' is : \", end=\"\")\n",
    "print ( str.lstrip('-') )"
   ]
  },
  {
   "cell_type": "markdown",
   "id": "54cd090e",
   "metadata": {},
   "source": [
    "### Ex-rstrip()"
   ]
  },
  {
   "cell_type": "code",
   "execution_count": 28,
   "id": "477a8a21",
   "metadata": {},
   "outputs": [
    {
     "name": "stdout",
     "output_type": "stream",
     "text": [
      "---geeksforgeeks---\n",
      "---geeksforgeeks\n",
      " String after stripping all trailing '-' is : ---geeksforgeeks\n"
     ]
    }
   ],
   "source": [
    "str = \"---geeksforgeeks---\"\n",
    "print(str)\n",
    "print ( str.rstrip('-') )\n",
    "print ( \" String after stripping all trailing '-' is : \", end=\"\")\n",
    "print ( str.rstrip('-') )"
   ]
  },
  {
   "cell_type": "markdown",
   "id": "e7aba402",
   "metadata": {},
   "source": [
    "# Thank you for checking my assignment."
   ]
  }
 ],
 "metadata": {
  "kernelspec": {
   "display_name": "Python 3 (ipykernel)",
   "language": "python",
   "name": "python3"
  },
  "language_info": {
   "codemirror_mode": {
    "name": "ipython",
    "version": 3
   },
   "file_extension": ".py",
   "mimetype": "text/x-python",
   "name": "python",
   "nbconvert_exporter": "python",
   "pygments_lexer": "ipython3",
   "version": "3.10.8"
  }
 },
 "nbformat": 4,
 "nbformat_minor": 5
}
