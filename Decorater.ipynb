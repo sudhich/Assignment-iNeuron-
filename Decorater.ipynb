{
 "cells": [
  {
   "cell_type": "code",
   "execution_count": 3,
   "id": "0b889b21",
   "metadata": {},
   "outputs": [
    {
     "name": "stdout",
     "output_type": "stream",
     "text": [
      "6\n"
     ]
    }
   ],
   "source": [
    "def inc(x):\n",
    "    return x+3\n",
    "def operate(func,x):\n",
    "    result=func(x)\n",
    "    return result\n",
    "print(operate(inc,3))\n",
    "#If means in python we can also define a function inside a function."
   ]
  },
  {
   "cell_type": "code",
   "execution_count": 4,
   "id": "fc2d21bc",
   "metadata": {},
   "outputs": [
    {
     "name": "stdout",
     "output_type": "stream",
     "text": [
      "hello Python is awesome\n"
     ]
    }
   ],
   "source": [
    "def print_msg(message):\n",
    "    greating=\"hello\"\n",
    "    def printer():\n",
    "        print(greating,message)\n",
    "    printer()\n",
    "print_msg(\"Python is awesome\")"
   ]
  },
  {
   "cell_type": "code",
   "execution_count": 10,
   "id": "77d410b9",
   "metadata": {},
   "outputs": [
    {
     "name": "stdout",
     "output_type": "stream",
     "text": [
      "hello Python is awesome\n"
     ]
    }
   ],
   "source": [
    "#Also inside of function can return.\n",
    "def print_msg(message):\n",
    "    greating=\"hello\"\n",
    "    def printer():\n",
    "        print(greating,message)\n",
    "    return printer()\n",
    "print_msg(\"Python is awesome\")\n"
   ]
  },
  {
   "cell_type": "code",
   "execution_count": 11,
   "id": "87dfb9ac",
   "metadata": {},
   "outputs": [
    {
     "name": "stdout",
     "output_type": "stream",
     "text": [
      "hello Python is awesome\n"
     ]
    }
   ],
   "source": [
    "#or\n",
    "def print_msg(message):\n",
    "    greating=\"hello\"\n",
    "    def printer():\n",
    "        print(greating,message)\n",
    "    return printer\n",
    "fun=print_msg(\"Python is awesome\")\n",
    "fun()"
   ]
  },
  {
   "cell_type": "markdown",
   "id": "26ece1a5",
   "metadata": {},
   "source": [
    "In Python, a decorator is a design pattern that allows you to modify the functionality of a function by wrapping it in another function.\n",
    "\n",
    "The outer function is called the decorator, which takes the original function as an argument and returns a modified version of it."
   ]
  },
  {
   "cell_type": "code",
   "execution_count": 15,
   "id": "b689fc5f",
   "metadata": {},
   "outputs": [
    {
     "name": "stdout",
     "output_type": "stream",
     "text": [
      "Hello world!\n"
     ]
    }
   ],
   "source": [
    "def printer():\n",
    "    print(\"Hello world!\")\n",
    "def display_info(fun):\n",
    "    def inner():\n",
    "        print(\"Executing\",fun.__name__,\"function\")\n",
    "        fun()\n",
    "        print(\"Finished Execution\")\n",
    "    return inner\n",
    "printer()"
   ]
  },
  {
   "cell_type": "code",
   "execution_count": 16,
   "id": "ed110753",
   "metadata": {},
   "outputs": [
    {
     "name": "stdout",
     "output_type": "stream",
     "text": [
      "Executing printer function\n",
      "Hello world!\n",
      "Finished Execution\n"
     ]
    }
   ],
   "source": [
    "def printer():\n",
    "    print(\"Hello world!\")\n",
    "def display_info(fun):\n",
    "    def inner():\n",
    "        print(\"Executing\",fun.__name__,\"function\")\n",
    "        fun()\n",
    "        print(\"Finished Execution\")\n",
    "    return inner\n",
    "decorater_fun=display_info(printer)\n",
    "decorater_fun()"
   ]
  },
  {
   "cell_type": "code",
   "execution_count": 20,
   "id": "c89ed482",
   "metadata": {},
   "outputs": [],
   "source": [
    "def display_info(fun):\n",
    "    def inner():\n",
    "        print(\"Executing\",fun.__name__,\"function\")\n",
    "        fun()\n",
    "        print(\"Finished Execution\")\n",
    "    return inner\n",
    "@display_info\n",
    "def printer():\n",
    "    print(\"Hello world!\")"
   ]
  },
  {
   "cell_type": "markdown",
   "id": "fce2049e",
   "metadata": {},
   "source": [
    "@display_info\n",
    "def printer():               ===>>      decorater_fun=display_info(printer)\n",
    "                                        decorater_fun()\n",
    "    print(\"Hello world!\")"
   ]
  },
  {
   "cell_type": "code",
   "execution_count": 21,
   "id": "00cf45ee",
   "metadata": {},
   "outputs": [
    {
     "name": "stdout",
     "output_type": "stream",
     "text": [
      "Executing printer function\n",
      "Hello world!\n",
      "Finished Execution\n"
     ]
    }
   ],
   "source": [
    "def display_info(fun):\n",
    "    def inner():\n",
    "        print(\"Executing\",fun.__name__,\"function\")\n",
    "        fun()\n",
    "        print(\"Finished Execution\")\n",
    "    return inner\n",
    "@display_info\n",
    "def printer():\n",
    "    print(\"Hello world!\")\n",
    "printer()"
   ]
  },
  {
   "cell_type": "code",
   "execution_count": 22,
   "id": "81e9fb5d",
   "metadata": {},
   "outputs": [
    {
     "name": "stdout",
     "output_type": "stream",
     "text": [
      "I am going to divide 2 and 5\n",
      "0.4\n",
      "I am going to divide 2 and 0\n",
      "Whoops! cannot divide\n"
     ]
    }
   ],
   "source": [
    "def smart_divide(func):\n",
    "    def inner(a, b):\n",
    "        print(\"I am going to divide\", a, \"and\", b)\n",
    "        if b == 0:\n",
    "            print(\"Whoops! cannot divide\")\n",
    "            return\n",
    "\n",
    "        return func(a, b)\n",
    "    return inner\n",
    "\n",
    "@smart_divide\n",
    "def divide(a, b):\n",
    "    print(a/b)\n",
    "\n",
    "divide(2,5)\n",
    "\n",
    "divide(2,0)"
   ]
  },
  {
   "cell_type": "code",
   "execution_count": 29,
   "id": "ad4707d7",
   "metadata": {},
   "outputs": [
    {
     "name": "stdout",
     "output_type": "stream",
     "text": [
      "***************\n",
      "%%%%%%%%%%%%%%%\n",
      "Dfecorate are wanderfull!\n",
      "%%%%%%%%%%%%%%%\n",
      "***************\n"
     ]
    }
   ],
   "source": [
    "def star(func):\n",
    "    def inner(*args, **kwargs):\n",
    "        print(\"*\" * 15)\n",
    "        func(*args, **kwargs)\n",
    "        print(\"*\" * 15)\n",
    "    return inner\n",
    "\n",
    "\n",
    "def percent(func):\n",
    "    def inner(*args, **kwargs):\n",
    "        print(\"%\" * 15)\n",
    "        func(*args, **kwargs)\n",
    "        print(\"%\" * 15)\n",
    "    return inner\n",
    "\n",
    "\n",
    "@star\n",
    "@percent\n",
    "def printer(msg):\n",
    "    print(msg)\n",
    "\n",
    "printer(\"Dfecorate are wanderfull!\")"
   ]
  },
  {
   "cell_type": "markdown",
   "id": "2cd27a9b",
   "metadata": {},
   "source": [
    "@star                                     def printer(msg):\n",
    "@percent            =====>>>                  print(msg)\n",
    "def printer(msg):                         printer = star(percent(printer))\n",
    "    print(msg)"
   ]
  },
  {
   "cell_type": "markdown",
   "id": "fbe93957",
   "metadata": {},
   "source": [
    "# classmethod() in Python\n",
    "The classmethod() is an inbuilt function in Python, which returns a class method for a given function.\n"
   ]
  },
  {
   "cell_type": "code",
   "execution_count": 30,
   "id": "5ca1c825",
   "metadata": {},
   "outputs": [
    {
     "name": "stdout",
     "output_type": "stream",
     "text": [
      "Purchase course :  DSA\n"
     ]
    }
   ],
   "source": [
    "class geeks:\n",
    "    course = 'DSA'\n",
    " \n",
    "    def purchase(obj):\n",
    "        print(\"Purchase course : \", obj.course)\n",
    " \n",
    " \n",
    "geeks.purchase = classmethod(geeks.purchase)\n",
    "geeks.purchase()"
   ]
  },
  {
   "cell_type": "markdown",
   "id": "9254f06a",
   "metadata": {},
   "source": [
    "## Factory method using Class method"
   ]
  },
  {
   "cell_type": "code",
   "execution_count": 46,
   "id": "5f75be06",
   "metadata": {},
   "outputs": [
    {
     "name": "stdout",
     "output_type": "stream",
     "text": [
      "Name :  mayank Age :  21\n"
     ]
    }
   ],
   "source": [
    "# Python program to demonstrate\n",
    "# use of a class method and static method.\n",
    "from datetime import date\n",
    " \n",
    "class Person:\n",
    "    def __init__(self, name, age):\n",
    "        self.name = name\n",
    "        self.age = age\n",
    " \n",
    "    # a class method to create a\n",
    "    # Person object by birth year.\n",
    "    @classmethod\n",
    "    def fromBirthYear(cls, name, year):\n",
    "        return cls(name, date.today().year - year)\n",
    " \n",
    "    def display(self):\n",
    "        print(\"Name : \", self.name, \"Age : \", self.age)\n",
    "person = Person('mayank', 21)\n",
    "person.display()"
   ]
  },
  {
   "cell_type": "code",
   "execution_count": 47,
   "id": "a5d86ee6",
   "metadata": {},
   "outputs": [
    {
     "name": "stdout",
     "output_type": "stream",
     "text": [
      "21\n",
      "26\n",
      "True\n"
     ]
    }
   ],
   "source": [
    "# Python program to demonstrate\n",
    "# use of a class method and static method.\n",
    "from datetime import date\n",
    " \n",
    "class Person:\n",
    "    def __init__(self, name, age):\n",
    "        self.name = name\n",
    "        self.age = age\n",
    " \n",
    "    # a class method to create a\n",
    "    # Person object by birth year.\n",
    "    @classmethod\n",
    "    def fromBirthYear(cls, name, year):\n",
    "        return cls(name, date.today().year - year)\n",
    " \n",
    "    # a static method to check if a\n",
    "    # Person is adult or not.\n",
    "    @staticmethod\n",
    "    def isAdult(age):\n",
    "        return age > 18\n",
    "\n",
    "person1 = Person('mayank', 21)\n",
    "person2 = Person.fromBirthYear('mayank', 1996)\n",
    " \n",
    "print(person1.age)\n",
    "print(person2.age)\n",
    " \n",
    "# print the result\n",
    "print(Person.isAdult(22))"
   ]
  },
  {
   "cell_type": "markdown",
   "id": "be3d724a",
   "metadata": {},
   "source": [
    "## Data Classes in Python"
   ]
  },
  {
   "cell_type": "code",
   "execution_count": 48,
   "id": "b0e67b5d",
   "metadata": {},
   "outputs": [
    {
     "name": "stdout",
     "output_type": "stream",
     "text": [
      "GfgArticle(title='DataClasses', author='vibhu4agarwal', language='Python', upvotes=0)\n"
     ]
    }
   ],
   "source": [
    "# A basic Data Class\n",
    " \n",
    "# Importing dataclass module\n",
    "from dataclasses import dataclass\n",
    " \n",
    "@dataclass\n",
    "class GfgArticle():\n",
    "    \"\"\"A class for holding an article content\"\"\"\n",
    " \n",
    "    # Attributes Declaration\n",
    "    # using Type Hints\n",
    " \n",
    "    title: str\n",
    "    author: str\n",
    "    language: str\n",
    "    upvotes: int\n",
    " \n",
    "# A DataClass object\n",
    "article = GfgArticle(\"DataClasses\",\n",
    "                     \"vibhu4agarwal\",\n",
    "                     \"Python\", 0)\n",
    "print(article)"
   ]
  },
  {
   "cell_type": "markdown",
   "id": "76519f00",
   "metadata": {},
   "source": [
    "The two noticeable points in above code. \n",
    " \n",
    "\n",
    "Without a __init__() constructor, the class accepted values and assigned it to appropriate variables.\n",
    "\n",
    "The output of printing object is a neat representation of the data present in it, without any explicit function coded to do this. That means it has a modified __repr__() function."
   ]
  },
  {
   "cell_type": "code",
   "execution_count": 49,
   "id": "c720916d",
   "metadata": {},
   "outputs": [
    {
     "ename": "TypeError",
     "evalue": "GfgArticle.__init__() missing 4 required positional arguments: 'title', 'author', 'language', and 'upvotes'",
     "output_type": "error",
     "traceback": [
      "\u001b[1;31m---------------------------------------------------------------------------\u001b[0m",
      "\u001b[1;31mTypeError\u001b[0m                                 Traceback (most recent call last)",
      "Cell \u001b[1;32mIn [49], line 1\u001b[0m\n\u001b[1;32m----> 1\u001b[0m article \u001b[38;5;241m=\u001b[39m \u001b[43mGfgArticle\u001b[49m\u001b[43m(\u001b[49m\u001b[43m)\u001b[49m\n",
      "\u001b[1;31mTypeError\u001b[0m: GfgArticle.__init__() missing 4 required positional arguments: 'title', 'author', 'language', and 'upvotes'"
     ]
    }
   ],
   "source": [
    "article = GfgArticle()"
   ]
  },
  {
   "cell_type": "code",
   "execution_count": 50,
   "id": "488b4e7a",
   "metadata": {},
   "outputs": [],
   "source": [
    "class NormalArticle():\n",
    "    \"\"\"A class for holding an article content\"\"\"\n",
    " \n",
    "    # Equivalent Constructor\n",
    "    def __init__(self, title, author, language, upvotes):\n",
    "        self.title = title\n",
    "        self.author = author\n",
    "        self.language = language\n",
    "        self.upvotes = upvotes\n",
    " \n",
    "# Two DataClass objects\n",
    "dClassArticle1 = GfgArticle(\"DataClasses\",\n",
    "                            \"vibhu4agarwal\",\n",
    "                            \"Python\", 0)\n",
    "dClassArticle2 = GfgArticle(\"DataClasses\",\n",
    "                            \"vibhu4agarwal\",\n",
    "                            \"Python\", 0)\n",
    " \n",
    "# Two objects of a normal class\n",
    "article1 = NormalArticle(\"DataClasses\",\n",
    "                         \"vibhu4agarwal\",\n",
    "                         \"Python\", 0)\n",
    "article2 = NormalArticle(\"DataClasses\",\n",
    "                         \"vibhu4agarwal\",\n",
    "                         \"Python\", 0)"
   ]
  },
  {
   "cell_type": "code",
   "execution_count": 51,
   "id": "d9ee9b4f",
   "metadata": {},
   "outputs": [
    {
     "name": "stdout",
     "output_type": "stream",
     "text": [
      "DataClass Equal: True\n",
      "Normal Class Equal: False\n"
     ]
    }
   ],
   "source": [
    "print(\"DataClass Equal:\", dClassArticle1 == dClassArticle2)\n",
    "print(\"Normal Class Equal:\", article1 == article2)"
   ]
  },
  {
   "cell_type": "markdown",
   "id": "d76d0809",
   "metadata": {},
   "source": [
    "Equality between two objects using == operator in python checks for the same memory location. Since two objects take different memory locations on creation, the output for equality is False. Equality between DataClass objects checks for the equality of data present in it. This accounts for True as output for equality check between two DataClass objects which contain same data."
   ]
  },
  {
   "cell_type": "code",
   "execution_count": null,
   "id": "c4d7b16c",
   "metadata": {},
   "outputs": [],
   "source": []
  }
 ],
 "metadata": {
  "kernelspec": {
   "display_name": "Python 3 (ipykernel)",
   "language": "python",
   "name": "python3"
  },
  "language_info": {
   "codemirror_mode": {
    "name": "ipython",
    "version": 3
   },
   "file_extension": ".py",
   "mimetype": "text/x-python",
   "name": "python",
   "nbconvert_exporter": "python",
   "pygments_lexer": "ipython3",
   "version": "3.10.8"
  }
 },
 "nbformat": 4,
 "nbformat_minor": 5
}
