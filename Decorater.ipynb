{
 "cells": [
  {
   "cell_type": "code",
   "execution_count": 3,
   "id": "e3d7de70",
   "metadata": {},
   "outputs": [
    {
     "name": "stdout",
     "output_type": "stream",
     "text": [
      "6\n"
     ]
    }
   ],
   "source": [
    "def inc(x):\n",
    "    return x+3\n",
    "def operate(func,x):\n",
    "    result=func(x)\n",
    "    return result\n",
    "print(operate(inc,3))\n",
    "#If means in python we can also define a function inside a function."
   ]
  },
  {
   "cell_type": "code",
   "execution_count": 4,
   "id": "541e5512",
   "metadata": {},
   "outputs": [
    {
     "name": "stdout",
     "output_type": "stream",
     "text": [
      "hello Python is awesome\n"
     ]
    }
   ],
   "source": [
    "def print_msg(message):\n",
    "    greating=\"hello\"\n",
    "    def printer():\n",
    "        print(greating,message)\n",
    "    printer()\n",
    "print_msg(\"Python is awesome\")"
   ]
  },
  {
   "cell_type": "code",
   "execution_count": 10,
   "id": "f5cd0e14",
   "metadata": {},
   "outputs": [
    {
     "name": "stdout",
     "output_type": "stream",
     "text": [
      "hello Python is awesome\n"
     ]
    }
   ],
   "source": [
    "#Also inside of function can return.\n",
    "def print_msg(message):\n",
    "    greating=\"hello\"\n",
    "    def printer():\n",
    "        print(greating,message)\n",
    "    return printer()\n",
    "print_msg(\"Python is awesome\")\n"
   ]
  },
  {
   "cell_type": "code",
   "execution_count": 11,
   "id": "f416d6c2",
   "metadata": {},
   "outputs": [
    {
     "name": "stdout",
     "output_type": "stream",
     "text": [
      "hello Python is awesome\n"
     ]
    }
   ],
   "source": [
    "#or\n",
    "def print_msg(message):\n",
    "    greating=\"hello\"\n",
    "    def printer():\n",
    "        print(greating,message)\n",
    "    return printer\n",
    "fun=print_msg(\"Python is awesome\")\n",
    "fun()"
   ]
  },
  {
   "cell_type": "markdown",
   "id": "6cc2170f",
   "metadata": {},
   "source": [
    "In Python, a decorator is a design pattern that allows you to modify the functionality of a function by wrapping it in another function.\n",
    "\n",
    "The outer function is called the decorator, which takes the original function as an argument and returns a modified version of it."
   ]
  },
  {
   "cell_type": "code",
   "execution_count": 15,
   "id": "40bed789",
   "metadata": {},
   "outputs": [
    {
     "name": "stdout",
     "output_type": "stream",
     "text": [
      "Hello world!\n"
     ]
    }
   ],
   "source": [
    "def printer():\n",
    "    print(\"Hello world!\")\n",
    "def display_info(fun):\n",
    "    def inner():\n",
    "        print(\"Executing\",fun.__name__,\"function\")\n",
    "        fun()\n",
    "        print(\"Finished Execution\")\n",
    "    return inner\n",
    "printer()"
   ]
  },
  {
   "cell_type": "code",
   "execution_count": 16,
   "id": "c9d86026",
   "metadata": {},
   "outputs": [
    {
     "name": "stdout",
     "output_type": "stream",
     "text": [
      "Executing printer function\n",
      "Hello world!\n",
      "Finished Execution\n"
     ]
    }
   ],
   "source": [
    "def printer():\n",
    "    print(\"Hello world!\")\n",
    "def display_info(fun):\n",
    "    def inner():\n",
    "        print(\"Executing\",fun.__name__,\"function\")\n",
    "        fun()\n",
    "        print(\"Finished Execution\")\n",
    "    return inner\n",
    "decorater_fun=display_info(printer)\n",
    "decorater_fun()"
   ]
  },
  {
   "cell_type": "code",
   "execution_count": 20,
   "id": "402b1706",
   "metadata": {},
   "outputs": [],
   "source": [
    "def display_info(fun):\n",
    "    def inner():\n",
    "        print(\"Executing\",fun.__name__,\"function\")\n",
    "        fun()\n",
    "        print(\"Finished Execution\")\n",
    "    return inner\n",
    "@display_info\n",
    "def printer():\n",
    "    print(\"Hello world!\")"
   ]
  },
  {
   "cell_type": "markdown",
   "id": "9aa289a5",
   "metadata": {},
   "source": [
    "@display_info\n",
    "def printer():               ===>>      decorater_fun=display_info(printer)\n",
    "                                        decorater_fun()\n",
    "    print(\"Hello world!\")"
   ]
  },
  {
   "cell_type": "code",
   "execution_count": 21,
   "id": "433520f9",
   "metadata": {},
   "outputs": [
    {
     "name": "stdout",
     "output_type": "stream",
     "text": [
      "Executing printer function\n",
      "Hello world!\n",
      "Finished Execution\n"
     ]
    }
   ],
   "source": [
    "def display_info(fun):\n",
    "    def inner():\n",
    "        print(\"Executing\",fun.__name__,\"function\")\n",
    "        fun()\n",
    "        print(\"Finished Execution\")\n",
    "    return inner\n",
    "@display_info\n",
    "def printer():\n",
    "    print(\"Hello world!\")\n",
    "printer()"
   ]
  },
  {
   "cell_type": "code",
   "execution_count": 22,
   "id": "4e4b7b7f",
   "metadata": {},
   "outputs": [
    {
     "name": "stdout",
     "output_type": "stream",
     "text": [
      "I am going to divide 2 and 5\n",
      "0.4\n",
      "I am going to divide 2 and 0\n",
      "Whoops! cannot divide\n"
     ]
    }
   ],
   "source": [
    "def smart_divide(func):\n",
    "    def inner(a, b):\n",
    "        print(\"I am going to divide\", a, \"and\", b)\n",
    "        if b == 0:\n",
    "            print(\"Whoops! cannot divide\")\n",
    "            return\n",
    "\n",
    "        return func(a, b)\n",
    "    return inner\n",
    "\n",
    "@smart_divide\n",
    "def divide(a, b):\n",
    "    print(a/b)\n",
    "\n",
    "divide(2,5)\n",
    "\n",
    "divide(2,0)"
   ]
  },
  {
   "cell_type": "code",
   "execution_count": 29,
   "id": "4ed02da6",
   "metadata": {},
   "outputs": [
    {
     "name": "stdout",
     "output_type": "stream",
     "text": [
      "***************\n",
      "%%%%%%%%%%%%%%%\n",
      "Dfecorate are wanderfull!\n",
      "%%%%%%%%%%%%%%%\n",
      "***************\n"
     ]
    }
   ],
   "source": [
    "def star(func):\n",
    "    def inner(*args, **kwargs):\n",
    "        print(\"*\" * 15)\n",
    "        func(*args, **kwargs)\n",
    "        print(\"*\" * 15)\n",
    "    return inner\n",
    "\n",
    "\n",
    "def percent(func):\n",
    "    def inner(*args, **kwargs):\n",
    "        print(\"%\" * 15)\n",
    "        func(*args, **kwargs)\n",
    "        print(\"%\" * 15)\n",
    "    return inner\n",
    "\n",
    "\n",
    "@star\n",
    "@percent\n",
    "def printer(msg):\n",
    "    print(msg)\n",
    "\n",
    "printer(\"Dfecorate are wanderfull!\")"
   ]
  },
  {
   "cell_type": "markdown",
   "id": "6b38677b",
   "metadata": {},
   "source": [
    "@star                                     def printer(msg):\n",
    "@percent            =====>>>                  print(msg)\n",
    "def printer(msg):                         printer = star(percent(printer))\n",
    "    print(msg)"
   ]
  },
  {
   "cell_type": "code",
   "execution_count": null,
   "id": "794c74e4",
   "metadata": {},
   "outputs": [],
   "source": []
  }
 ],
 "metadata": {
  "kernelspec": {
   "display_name": "Python 3 (ipykernel)",
   "language": "python",
   "name": "python3"
  },
  "language_info": {
   "codemirror_mode": {
    "name": "ipython",
    "version": 3
   },
   "file_extension": ".py",
   "mimetype": "text/x-python",
   "name": "python",
   "nbconvert_exporter": "python",
   "pygments_lexer": "ipython3",
   "version": "3.10.8"
  }
 },
 "nbformat": 4,
 "nbformat_minor": 5
}
