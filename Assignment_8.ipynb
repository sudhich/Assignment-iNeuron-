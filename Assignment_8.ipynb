{
 "cells": [
  {
   "cell_type": "markdown",
   "id": "68231549",
   "metadata": {},
   "source": [
    "# Assignment_8"
   ]
  },
  {
   "cell_type": "markdown",
   "id": "487ef173",
   "metadata": {},
   "source": [
    "### Ques(1): Is the Python Standard Library included with PyInputPlus?\n",
    "### Ans-"
   ]
  },
  {
   "cell_type": "markdown",
   "id": "b3d85293",
   "metadata": {},
   "source": [
    "No, PyInputPlus is not a part of Python Standard Library, it needs to be installed explicitly using the command !pip install PyInputPlus"
   ]
  },
  {
   "cell_type": "markdown",
   "id": "289836a3",
   "metadata": {},
   "source": [
    "### Ques(2): Why is PyInputPlus commonly imported with import pyinputplus as pypi?\n",
    "### Ans-"
   ]
  },
  {
   "cell_type": "markdown",
   "id": "e74ca2ae",
   "metadata": {},
   "source": [
    "You can import the module with import pyinputplus as pyip so that you can enter a shorter name when calling the module's functions."
   ]
  },
  {
   "cell_type": "markdown",
   "id": "a3b25444",
   "metadata": {},
   "source": [
    "### Ques(3): How do you distinguish between inputInt() and inputFloat()?\n",
    "### Ans-"
   ]
  },
  {
   "cell_type": "markdown",
   "id": "99f671d8",
   "metadata": {},
   "source": [
    "inputInt() function Accepts an integer value. This also takes additional parameters min, max, greaterThan and lessThan for bounds. And it always returns an int.\n",
    "\n",
    "Whereas inputFloat() function Accepts a floating-point numeric value. this also takes additional min, max, greaterThan and lessThan parameters. and always returns a float."
   ]
  },
  {
   "cell_type": "markdown",
   "id": "27a897c8",
   "metadata": {},
   "source": [
    "### Ques(4): Using PyInputPlus, how do you ensure that the user enters a whole number between 0 and 99?\n",
    "### Ans-"
   ]
  },
  {
   "cell_type": "markdown",
   "id": "9928785b",
   "metadata": {},
   "source": [
    "PyInputPlus module provides a function called as inputInt() which only returns only integer values. inorder to restrict the input between 0 and 99, i'ii use parameters like min & max to ensure that user enters the values between the defined range only."
   ]
  },
  {
   "cell_type": "code",
   "execution_count": 4,
   "id": "e5047582",
   "metadata": {},
   "outputs": [
    {
     "name": "stdout",
     "output_type": "stream",
     "text": [
      "Requirement already satisfied: PyInputPlus in c:\\users\\hp\\appdata\\local\\programs\\python\\python310\\lib\\site-packages (0.2.12)\n",
      "Requirement already satisfied: stdiomask>=0.0.3 in c:\\users\\hp\\appdata\\local\\programs\\python\\python310\\lib\\site-packages (from PyInputPlus) (0.0.6)\n",
      "Requirement already satisfied: pysimplevalidate>=0.2.7 in c:\\users\\hp\\appdata\\local\\programs\\python\\python310\\lib\\site-packages (from PyInputPlus) (0.2.12)\n"
     ]
    },
    {
     "name": "stderr",
     "output_type": "stream",
     "text": [
      "\n",
      "[notice] A new release of pip available: 22.2.2 -> 22.3.1\n",
      "[notice] To update, run: python.exe -m pip install --upgrade pip\n"
     ]
    }
   ],
   "source": [
    "!pip install PyInputPlus"
   ]
  },
  {
   "cell_type": "code",
   "execution_count": 6,
   "id": "820bcdcb",
   "metadata": {},
   "outputs": [
    {
     "name": "stdout",
     "output_type": "stream",
     "text": [
      "Enter a number: 93937\n",
      "Number must be at maximum 100.\n",
      "Enter a number: 69\n",
      "69\n"
     ]
    }
   ],
   "source": [
    "import pyinputplus as pyip\n",
    "wholenumber = pyip.inputInt(prompt='Enter a number: ', min=0, max=100)\n",
    "print(wholenumber)"
   ]
  },
  {
   "cell_type": "markdown",
   "id": "062c7f13",
   "metadata": {},
   "source": [
    "### Ques(5): What is transferred to the keyword arguments allowRegexes and blockRegexes?\n",
    "### Ans-"
   ]
  },
  {
   "cell_type": "markdown",
   "id": "41ab73cb",
   "metadata": {},
   "source": [
    "we can use allowRegexes and blockRegexes keyword arguments to take list of regular expression strings to determine what the pyinputplus function will reject or accept valid input."
   ]
  },
  {
   "cell_type": "code",
   "execution_count": 10,
   "id": "cad33e7a",
   "metadata": {},
   "outputs": [
    {
     "name": "stdout",
     "output_type": "stream",
     "text": [
      "Confirmation number = #$%}|+_\n",
      "This response is invalid.\n",
      "Confirmation number = sudhir\n"
     ]
    }
   ],
   "source": [
    "confirmation_number = pyip.inputStr(\n",
    "...             prompt='Confirmation number = ',\n",
    "...             blockRegexes=[r'.*'],\n",
    "...             allowRegexes=[r'\\w{6}']\n",
    "...            ).upper()"
   ]
  },
  {
   "cell_type": "code",
   "execution_count": 13,
   "id": "79da0ff3",
   "metadata": {},
   "outputs": [
    {
     "name": "stdout",
     "output_type": "stream",
     "text": [
      "Confirmation number = #$%}|+_\n",
      "'#$%}|+_' does not match the specified pattern.\n",
      "Confirmation number = sudh_76362\n"
     ]
    }
   ],
   "source": [
    "confirmation_number = pyip.inputRegex(r'\\w{6}',\n",
    "...             prompt='Confirmation number = '\n",
    "...            ).upper()"
   ]
  },
  {
   "cell_type": "code",
   "execution_count": 14,
   "id": "eb792862",
   "metadata": {},
   "outputs": [
    {
     "name": "stdout",
     "output_type": "stream",
     "text": [
      "cat\n",
      "This response is invalid.\n",
      "catastrophe\n",
      "This response is invalid.\n",
      "category\n"
     ]
    }
   ],
   "source": [
    "import pyinputplus as pyip\n",
    "response = pyip.inputStr(allowRegexes=[r'caterpillar', 'category'],blockRegexes=[r'cat'])"
   ]
  },
  {
   "cell_type": "code",
   "execution_count": 15,
   "id": "865e9c7c",
   "metadata": {},
   "outputs": [
    {
     "data": {
      "text/plain": [
       "'category'"
      ]
     },
     "execution_count": 15,
     "metadata": {},
     "output_type": "execute_result"
    }
   ],
   "source": [
    "response"
   ]
  },
  {
   "cell_type": "markdown",
   "id": "65dc5b13",
   "metadata": {},
   "source": [
    "### Ques(6): If a blank input is entered three times, what does inputStr(limit=3) do?\n",
    "### Ans-"
   ]
  },
  {
   "cell_type": "markdown",
   "id": "88a07d4f",
   "metadata": {},
   "source": [
    "The statement inputStr(limit=3) will throw two exceptions ValidationException and RetryLimitException. The first exception is thrown because blank values are not allowed by inputStr() function by default. it we want to consider blank values as valid input, we have to set blank=True.\n",
    "\n",
    "The second exception is occured because we have reached the max limit we have specified by using limit parameter. inorder to avoid this exception we can use default parameter to return a default value when max limit is reached."
   ]
  },
  {
   "cell_type": "markdown",
   "id": "3434fa72",
   "metadata": {},
   "source": [
    "### Ques(7): If blank input is entered three times, what does inputStr(limit=3, default='hello') do?\n",
    "### Ans-"
   ]
  },
  {
   "cell_type": "code",
   "execution_count": null,
   "id": "92b5af74",
   "metadata": {},
   "outputs": [],
   "source": []
  }
 ],
 "metadata": {
  "kernelspec": {
   "display_name": "Python 3 (ipykernel)",
   "language": "python",
   "name": "python3"
  },
  "language_info": {
   "codemirror_mode": {
    "name": "ipython",
    "version": 3
   },
   "file_extension": ".py",
   "mimetype": "text/x-python",
   "name": "python",
   "nbconvert_exporter": "python",
   "pygments_lexer": "ipython3",
   "version": "3.10.8"
  }
 },
 "nbformat": 4,
 "nbformat_minor": 5
}
