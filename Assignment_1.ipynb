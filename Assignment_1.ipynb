{
 "cells": [
  {
   "cell_type": "markdown",
   "id": "0bdbdb29",
   "metadata": {},
   "source": [
    "# Assignment_1"
   ]
  },
  {
   "cell_type": "markdown",
   "id": "3a1f14dc",
   "metadata": {},
   "source": [
    "\n",
    "\n",
    "(1) Write a Python program to print \"Hello Python\"?\n",
    "\n",
    "sol="
   ]
  },
  {
   "cell_type": "code",
   "execution_count": 1,
   "id": "0575e1be",
   "metadata": {},
   "outputs": [
    {
     "name": "stdout",
     "output_type": "stream",
     "text": [
      "Hello Python\n"
     ]
    }
   ],
   "source": [
    "print(\"Hello Python\")"
   ]
  },
  {
   "cell_type": "markdown",
   "id": "e5d93978",
   "metadata": {},
   "source": [
    "\n",
    "\n",
    "(2)Write a Python program to do arithmetical operations addition and division.?\n",
    "\n",
    "sol="
   ]
  },
  {
   "cell_type": "code",
   "execution_count": 12,
   "id": "3a72c38a",
   "metadata": {},
   "outputs": [
    {
     "name": "stdout",
     "output_type": "stream",
     "text": [
      "Enter the first number55\n",
      "Enter the second number20\n",
      "addition of two number 55 and 20 is =75\n",
      "substraction of two number 55 and 20 is =35\n"
     ]
    }
   ],
   "source": [
    "a=int(input(\"Enter the first number\"))\n",
    "b=int(input(\"Enter the second number\"))\n",
    "def sum(a,b):\n",
    "    return(a+b)\n",
    "def sub(a,b):\n",
    "    return(a-b)\n",
    "print(\"addition of two number {} and {} is ={}\".format(a,b,sum(a,b)))\n",
    "print(\"substraction of two number {} and {} is ={}\".format(a,b,sub(a,b)))"
   ]
  },
  {
   "cell_type": "markdown",
   "id": "e78e9ad2",
   "metadata": {},
   "source": [
    "\n",
    "\n",
    "(3)Write a Python program to find the area of a triangle?\n",
    "\n",
    "sol="
   ]
  },
  {
   "cell_type": "code",
   "execution_count": 20,
   "id": "ed4b7e92",
   "metadata": {},
   "outputs": [
    {
     "name": "stdout",
     "output_type": "stream",
     "text": [
      "Enter the first side of tringle5\n",
      "Enter the second side of tringle6\n",
      "Enter the third side of tringle7\n",
      "area of the trangle is =14.70\n"
     ]
    }
   ],
   "source": [
    "a=float(input(\"Enter the first side of tringle\"))\n",
    "b=float(input(\"Enter the second side of tringle\"))\n",
    "c=float(input(\"Enter the third side of tringle\"))\n",
    "s=(a+b+c)/2\n",
    "area=(s*(s-a)*(s-b)*(s-c))**0.5\n",
    "print(\"area of the trangle is =%0.2f\" %area)"
   ]
  },
  {
   "cell_type": "markdown",
   "id": "8cd43528",
   "metadata": {},
   "source": [
    "\n",
    "(4)Write a Python program to swap two variables?\n",
    "\n",
    "sol="
   ]
  },
  {
   "cell_type": "code",
   "execution_count": 23,
   "id": "b5eab06b",
   "metadata": {},
   "outputs": [
    {
     "name": "stdout",
     "output_type": "stream",
     "text": [
      "Enter the first number10\n",
      "Enter the second number20\n",
      "a and b is a=10,b=20 before swaping\n",
      "a and b is a=20,b=10 after swaping\n"
     ]
    }
   ],
   "source": [
    "a=int(input(\"Enter the first number\"))\n",
    "b=int(input(\"Enter the second number\"))\n",
    "print(\"a and b is a={},b={} before swaping\".format(a,b))\n",
    "temp=a\n",
    "a=b\n",
    "b=temp\n",
    "print(\"a and b is a={},b={} after swaping\".format(a,b))"
   ]
  },
  {
   "cell_type": "markdown",
   "id": "d678c35e",
   "metadata": {},
   "source": [
    "\n",
    "(5)Write a Python program to generate a random number?\n",
    "\n",
    "sol="
   ]
  },
  {
   "cell_type": "code",
   "execution_count": 40,
   "id": "4d21fd6e",
   "metadata": {},
   "outputs": [
    {
     "name": "stdout",
     "output_type": "stream",
     "text": [
      "random number is 0.09935997088170034\n",
      "random number is 4187\n"
     ]
    }
   ],
   "source": [
    "import random\n",
    "#including float number\n",
    "print(\"random number is\",random.random())\n",
    "#only integer number\n",
    "print(\"random number is\",random.randint(999,10000))"
   ]
  },
  {
   "cell_type": "code",
   "execution_count": null,
   "id": "7b48b8a8",
   "metadata": {},
   "outputs": [],
   "source": []
  }
 ],
 "metadata": {
  "kernelspec": {
   "display_name": "Python 3 (ipykernel)",
   "language": "python",
   "name": "python3"
  },
  "language_info": {
   "codemirror_mode": {
    "name": "ipython",
    "version": 3
   },
   "file_extension": ".py",
   "mimetype": "text/x-python",
   "name": "python",
   "nbconvert_exporter": "python",
   "pygments_lexer": "ipython3",
   "version": "3.10.5"
  }
 },
 "nbformat": 4,
 "nbformat_minor": 5
}
