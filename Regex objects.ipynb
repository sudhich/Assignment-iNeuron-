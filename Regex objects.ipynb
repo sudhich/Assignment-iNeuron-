{
 "cells": [
  {
   "cell_type": "markdown",
   "id": "4cc8914f",
   "metadata": {},
   "source": [
    "# Single char:\n",
    "   ###     \\d    -->      matches 0 to 9 (any one digit)\n",
    "   ###     .      -->      matches any character except a newline\n",
    "   ###     *     -->      matches  match 0 or more repetitions.\n",
    "   ###     \\w   -->      this includes alphanumeric characters as well as the underscore (_). [a-zA-Z0-9_]  \n",
    "   ###                                                          Ex--  (1) Ranbow.* ,(2)  \\d\\d\\d-\\d\\d\\d-\\d\\d\\d\\d\n",
    "  \n",
    "  \n",
    "# Quantifire:(meta char)\n",
    "   ###     *      -->      0 or more\n",
    "   ###     +     -->      1 or more\n",
    "   ###     ?     -->      0 or one\n",
    "   ###     {min,max}   -->   min “m” and max “n” times                               \n",
    "   ###     {m}\t-->     occurs “m” times\t    \n",
    "   ###                                                         Ex- (1) \\w{4,6} (2) colou? followed by o (means u is optional)\n",
    "   ###                                                                (4) colou?rs? followed by o (means u,r,s are optional) (5) sd{3} = sddd\n",
    "   ###                                                                (5) sd{2,3}=sdd or sddd\n",
    "   \n",
    "# Positional:\n",
    "   ###     ^     -->      matches  begening \n",
    "   ###     \\b     -->     matches the empty string, but only at the beginning or end of a word.(word boundary)This means that r'\\bfoo\\b' matches 'foo'\n",
    "   ###     doller_sym    -->    matches the end of the string or just before the newline at the end of the string. \n",
    "   ###                                                        Ex- foo.(sym_doller) in 'foo1\\nfoo2\\n' matches ‘foo2’ normally\n",
    "# Char class:\n",
    "   ###     [  ]  -->   used to indicate a set of characters. (-) delimeter indicated by giving two characters and separating them.   \n",
    "   ###                                        Ex- (1) [amk] Characters can be listed individually, [amk] will match 'a', 'm', or 'k'.(2)         ###                                                (2) indicated by giving two characters and separating them [a-z]\n",
    "   \n",
    "# Group:\n",
    "   ### A group is a part of a regex pattern enclosed in parentheses () metacharacter.\n",
    "   ###   Ex-  ((\\w)(\\s\\d)) here 3 group is present."
   ]
  },
  {
   "cell_type": "code",
   "execution_count": 2,
   "id": "6d9a857c",
   "metadata": {},
   "outputs": [],
   "source": [
    "import re"
   ]
  },
  {
   "cell_type": "code",
   "execution_count": 3,
   "id": "e8a1f6fa",
   "metadata": {},
   "outputs": [
    {
     "data": {
      "text/plain": [
       "['9991116666', '(999)-333-7777']"
      ]
     },
     "execution_count": 3,
     "metadata": {},
     "output_type": "execute_result"
    }
   ],
   "source": [
    "text='''\n",
    "Elon musk's phone number is 999111666666, call him if you have any questions on dodgecoin. Tesla's revenue is 40 billion\n",
    "Tesla's CFO number (999)-333-7777\n",
    "'''\n",
    "\n",
    "pattern='\\(\\d{3}\\)-\\d{3}-\\d{4}|\\d{10}'\n",
    "\n",
    "matches=re.findall(pattern,text)\n",
    "matches"
   ]
  },
  {
   "cell_type": "code",
   "execution_count": 8,
   "id": "0fb6fcf5",
   "metadata": {},
   "outputs": [
    {
     "name": "stdout",
     "output_type": "stream",
     "text": [
      "['Overview', 'Summary of Significant Accounting Policies']\n"
     ]
    }
   ],
   "source": [
    "text = '''\n",
    "Note 1 - Overview\n",
    "Tesla, Inc. (“Tesla”, the “Company”, “we”, “us” or “our”) was incorporated in the State of Delaware on July 1, 2003. We design, develop, manufacture and sell high-performance fully electric vehicles and design, manufacture, install and sell solar energy generation and energy storage\n",
    "products. Our Chief Executive Officer, as the chief operating decision maker (“CODM”), organizes our company, manages resource allocations and measures performance among two operating and reportable segments: (i) automotive and (ii) energy generation and storage.\n",
    "Beginning in the first quarter of 2021, there has been a trend in many parts of the world of increasing availability and administration of vaccines\n",
    "against COVID-19, as well as an easing of restrictions on social, business, travel and government activities and functions. On the other hand, infection\n",
    "rates and regulations continue to fluctuate in various regions and there are ongoing global impacts resulting from the pandemic, including challenges\n",
    "and increases in costs for logistics and supply chains, such as increased port congestion, intermittent supplier delays and a shortfall of semiconductor\n",
    "supply. We have also previously been affected by temporary manufacturing closures, employment and compensation adjustments and impediments to\n",
    "administrative activities supporting our product deliveries and deployments.\n",
    "Note 2 - Summary of Significant Accounting Policies\n",
    "Unaudited Interim Financial Statements\n",
    "The consolidated balance sheet as of September 30, 2021, the consolidated statements of operations, the consolidated statements of\n",
    "comprehensive income, the consolidated statements of redeemable noncontrolling interests and equity for the three and nine months ended September\n",
    "30, 2021 and 2020 and the consolidated statements of cash flows for the nine months ended September 30, 2021 and 2020, as well as other information\n",
    "disclosed in the accompanying notes, are unaudited. The consolidated balance sheet as of December 31, 2020 was derived from the audited\n",
    "consolidated financial statements as of that date. The interim consolidated financial statements and the accompanying notes should be read in\n",
    "conjunction with the annual consolidated financial statements and the accompanying notes contained in our Annual Report on Form 10-K for the year\n",
    "ended December 31, 2020.\n",
    "'''\n",
    "\n",
    "patterns='Note \\d - ([^\\n]*)'\n",
    "result=re.findall(patterns,text)\n",
    "print(result)"
   ]
  },
  {
   "cell_type": "code",
   "execution_count": 9,
   "id": "d3db1333",
   "metadata": {},
   "outputs": [
    {
     "name": "stdout",
     "output_type": "stream",
     "text": [
      "['Note 1 - Overview', 'Note 2 - Summary of Significant Accounting Policies']\n"
     ]
    }
   ],
   "source": [
    "patterns='(Note \\d - [^\\n]*)'\n",
    "result=re.findall(patterns,text)\n",
    "print(result)"
   ]
  },
  {
   "cell_type": "code",
   "execution_count": 13,
   "id": "8454e273",
   "metadata": {},
   "outputs": [
    {
     "data": {
      "text/plain": [
       "['FY2021 Q1', 'FY2021 Q4']"
      ]
     },
     "execution_count": 13,
     "metadata": {},
     "output_type": "execute_result"
    }
   ],
   "source": [
    "text = '''\n",
    "Tesla's gross cost of operating lease vehicles in FY2021 Q1 was $4.85 billion.\n",
    "BMW's gross cost of operating vehicles in FY2021 S1 was $8 billion.\n",
    "fy2021 Q2 FY2021 Q4 FY2021 Q5\n",
    "'''\n",
    "\n",
    "pattern = 'FY\\d{4} Q[1-4]'\n",
    "matches = re.findall(pattern, text)\n",
    "matches"
   ]
  },
  {
   "cell_type": "code",
   "execution_count": 22,
   "id": "c689a5c5",
   "metadata": {},
   "outputs": [
    {
     "data": {
      "text/plain": [
       "['FY2021 Q1', 'fy2021 Q2', 'FY2021 Q4']"
      ]
     },
     "execution_count": 22,
     "metadata": {},
     "output_type": "execute_result"
    }
   ],
   "source": [
    "text = '''\n",
    "Tesla's gross cost of operating lease vehicles in FY2021 Q1 was $4.85 billion.\n",
    "BMW's gross cost of operating vehicles in FY2021 S1 was $8 billion. \n",
    "fy2021 Q2 FY2021 Q4 FY2021 Q5\n",
    "'''\n",
    "\n",
    "pattern = 'FY\\d{4} Q[1-4]'\n",
    "matches = re.findall(pattern, text, flags=re.IGNORECASE)\n",
    "matches"
   ]
  },
  {
   "cell_type": "code",
   "execution_count": 23,
   "id": "d160d2ab",
   "metadata": {},
   "outputs": [
    {
     "data": {
      "text/plain": [
       "['$4', '$8', '$47846346']"
      ]
     },
     "execution_count": 23,
     "metadata": {},
     "output_type": "execute_result"
    }
   ],
   "source": [
    "text = '''\n",
    "Tesla's gross cost of operating lease vehicles in FY2021 Q1 was $4.85 billion.\n",
    "BMW's gross cost of operating vehicles in FY2021 S1 was $8 billion. $47846346.855754759\n",
    "fy2021 Q2 FY2021 Q4 FY2021 Q5\n",
    "'''\n",
    "\n",
    "pattern = '\\$[0-9]+'\n",
    "matches = re.findall(pattern, text)\n",
    "matches"
   ]
  },
  {
   "cell_type": "code",
   "execution_count": 20,
   "id": "75aaedc5",
   "metadata": {},
   "outputs": [
    {
     "data": {
      "text/plain": [
       "['$4.85', '$8', '$47846346.85', '$47846346.855754759']"
      ]
     },
     "execution_count": 20,
     "metadata": {},
     "output_type": "execute_result"
    }
   ],
   "source": [
    "text = '''\n",
    "Tesla's gross cost of operating lease vehicles in FY2021 Q1 was $4.85 billion.\n",
    "BMW's gross cost of operating vehicles in FY2021 S1 was $8 billion.$47846346.85 $47846346.855754759\n",
    "fy2021 Q2 FY2021 Q4 FY2021 Q5\n",
    "'''\n",
    "\n",
    "pattern = '\\$[0-9\\.]+'\n",
    "matches = re.findall(pattern, text)\n",
    "matches"
   ]
  },
  {
   "cell_type": "code",
   "execution_count": 24,
   "id": "c7d7b049",
   "metadata": {},
   "outputs": [
    {
     "data": {
      "text/plain": [
       "['4.85', '8', '47846346.85', '47846346.855754759']"
      ]
     },
     "execution_count": 24,
     "metadata": {},
     "output_type": "execute_result"
    }
   ],
   "source": [
    "text = '''\n",
    "Tesla's gross cost of operating lease vehicles in FY2021 Q1 was $4.85 billion.\n",
    "BMW's gross cost of operating vehicles in FY2021 S1 was $8 billion.$47846346.85 $47846346.855754759\n",
    "fy2021 Q2 FY2021 Q4 FY2021 Q5\n",
    "'''\n",
    "\n",
    "pattern = '\\$([0-9\\.]+)'\n",
    "matches = re.findall(pattern, text)\n",
    "matches"
   ]
  },
  {
   "cell_type": "code",
   "execution_count": 42,
   "id": "9ca9ec09",
   "metadata": {},
   "outputs": [
    {
     "name": "stdout",
     "output_type": "stream",
     "text": [
      "alice-byug@google.com\n"
     ]
    }
   ],
   "source": [
    "import re\n",
    "str='alice-byug@google.com'\n",
    "match = re.search(r'[\\w.-]+@[\\w.-]+', str)\n",
    "if match:\n",
    "    print(match.group())"
   ]
  },
  {
   "cell_type": "markdown",
   "id": "afa648a3",
   "metadata": {},
   "source": [
    "### Group example"
   ]
  },
  {
   "cell_type": "code",
   "execution_count": 7,
   "id": "cff82c12",
   "metadata": {},
   "outputs": [
    {
     "name": "stdout",
     "output_type": "stream",
     "text": [
      "('PINEAPPLE', '20')\n",
      "PINEAPPLE\n",
      "20\n"
     ]
    }
   ],
   "source": [
    "import re\n",
    "\n",
    "target_string = \"The price of PINEAPPLE ice cream is 20\"\n",
    "\n",
    "# two groups enclosed in separate ( and ) bracket\n",
    "result = re.search(r\"(\\b[A-Z]+\\b).+(\\b\\d+)\", target_string)\n",
    "\n",
    "# Extract matching values of all groups\n",
    "print(result.groups())\n",
    "# Output ('PINEAPPLE', '20')\n",
    "\n",
    "# Extract match value of group 1\n",
    "print(result.group(1))\n",
    "# Output 'PINEAPPLE'\n",
    "\n",
    "# Extract match value of group 2\n",
    "print(result.group(2))"
   ]
  },
  {
   "cell_type": "code",
   "execution_count": 12,
   "id": "4eeb3d5d",
   "metadata": {},
   "outputs": [
    {
     "name": "stdout",
     "output_type": "stream",
     "text": [
      "Isaac Newton\n",
      "Isaac\n",
      "Newton\n",
      "('Isaac', 'Newton')\n"
     ]
    }
   ],
   "source": [
    "m = re.match(r\"(\\w+) (\\w+)\", \"Isaac Newton, physicist\")\n",
    "print(m.group(0))       # The entire match\n",
    "print(m.group(1))      # The first parenthesized subgroup.\n",
    "print(m.group(2))       # The second parenthesized subgroup.\n",
    "print(m.group(1, 2))    # Multiple arguments give us a tuple."
   ]
  },
  {
   "cell_type": "markdown",
   "id": "95f77452",
   "metadata": {},
   "source": [
    "### Meaning of ."
   ]
  },
  {
   "cell_type": "code",
   "execution_count": 4,
   "id": "c0e94394",
   "metadata": {},
   "outputs": [
    {
     "name": "stdout",
     "output_type": "stream",
     "text": [
      "['hello']\n"
     ]
    }
   ],
   "source": [
    "import re\n",
    "\n",
    "txt = \"hello planet\"\n",
    "\n",
    "#Search for a sequence that starts with \"he\", followed by two (any) characters, and an \"o\":\n",
    "\n",
    "x = re.findall(\"he..o\", txt)\n",
    "print(x)\n"
   ]
  },
  {
   "cell_type": "code",
   "execution_count": null,
   "id": "661b28f8",
   "metadata": {},
   "outputs": [],
   "source": []
  }
 ],
 "metadata": {
  "kernelspec": {
   "display_name": "Python 3 (ipykernel)",
   "language": "python",
   "name": "python3"
  },
  "language_info": {
   "codemirror_mode": {
    "name": "ipython",
    "version": 3
   },
   "file_extension": ".py",
   "mimetype": "text/x-python",
   "name": "python",
   "nbconvert_exporter": "python",
   "pygments_lexer": "ipython3",
   "version": "3.10.8"
  }
 },
 "nbformat": 4,
 "nbformat_minor": 5
}
