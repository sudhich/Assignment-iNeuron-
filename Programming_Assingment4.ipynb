{
 "cells": [
  {
   "cell_type": "markdown",
   "id": "f3cf05ce",
   "metadata": {},
   "source": [
    "### Ques(1): Write a Python Program to Find the Factorial of a Number?\n",
    "### Ans-"
   ]
  },
  {
   "cell_type": "code",
   "execution_count": 6,
   "id": "07afc967",
   "metadata": {},
   "outputs": [
    {
     "name": "stdout",
     "output_type": "stream",
     "text": [
      "Enter the number: 6\n",
      "factorial of given 6 is:  720\n"
     ]
    }
   ],
   "source": [
    "#1st method\n",
    "num=int(input(\"Enter the number: \"))\n",
    "fact=1\n",
    "if num<0:\n",
    "    print(\"factorial of given number\",num, \"is negative so does not exist factorial\")\n",
    "elif num==0:\n",
    "    print(\"factorial of given number\",num,\"is: 1\")\n",
    "else:#num>0\n",
    "    for i in range(1,num+1):\n",
    "        fact=fact*i\n",
    "    print(\"factorial of given\",num,\"is: \",fact)"
   ]
  },
  {
   "cell_type": "code",
   "execution_count": 9,
   "id": "96a1fea7",
   "metadata": {},
   "outputs": [
    {
     "name": "stdout",
     "output_type": "stream",
     "text": [
      "Enter the number: -3\n",
      "factorial of given number -3 is negative so does not exist factorial\n"
     ]
    }
   ],
   "source": [
    "#2nd method using recursive call.\n",
    "def factorial(x):\n",
    "    if x==0:\n",
    "        return 1\n",
    "    elif x<0:\n",
    "        return x\n",
    "    else:\n",
    "        return (x*factorial(x-1))\n",
    "num=int(input(\"Enter the number: \"))\n",
    "result=factorial(num)\n",
    "if num>=0:\n",
    "    print(\"The factorial of \",num,\"is: \",result)\n",
    "else:\n",
    "    print(\"factorial of given number\",result, \"is negative so does not exist factorial\")\n",
    "    "
   ]
  },
  {
   "cell_type": "markdown",
   "id": "d24103ba",
   "metadata": {},
   "source": [
    "### Ques(2): Write a Python Program to Display the multiplication Table?\n",
    "### Ans-"
   ]
  },
  {
   "cell_type": "code",
   "execution_count": 19,
   "id": "f8f1a9cf",
   "metadata": {},
   "outputs": [
    {
     "name": "stdout",
     "output_type": "stream",
     "text": [
      "Enter the number5\n",
      "Table of given number 5 is. \n",
      "5 * 1 = 5\n",
      "5 * 2 = 10\n",
      "5 * 3 = 15\n",
      "5 * 4 = 20\n",
      "5 * 5 = 25\n",
      "5 * 6 = 30\n",
      "5 * 7 = 35\n",
      "5 * 8 = 40\n",
      "5 * 9 = 45\n",
      "5 * 10 = 50\n"
     ]
    }
   ],
   "source": [
    "num=int(input(\"Enter the number\"))\n",
    "print(\"Table of given number\",num, \"is. \")\n",
    "for i in range(1,11):\n",
    "    print(num,\"*\",i,\"=\",i*num)\n",
    "    "
   ]
  },
  {
   "cell_type": "markdown",
   "id": "1d5b7f08",
   "metadata": {},
   "source": [
    "### Ques(3): Write a Python Program to Print the Fibonacci sequence?\n",
    "### Ans-"
   ]
  },
  {
   "cell_type": "code",
   "execution_count": 30,
   "id": "6149cc73",
   "metadata": {},
   "outputs": [
    {
     "name": "stdout",
     "output_type": "stream",
     "text": [
      "Enter how many term you want? 7\n",
      "Fibnoacci sequence is :\n",
      "0\n",
      "1\n",
      "1\n",
      "2\n",
      "3\n",
      "5\n",
      "8\n"
     ]
    }
   ],
   "source": [
    "n_terms=int(input(\"Enter how many term you want? \"))\n",
    "n1,n2=0,1\n",
    "count=0\n",
    "if n_terms<=0:\n",
    "    print(\"Please inter positive number:\")\n",
    "elif n_terms==1:\n",
    "    print(\"Fibonacci sequence of\",n_terms, \"is\",n_terms)\n",
    "else:\n",
    "    print(\"Fibnoacci sequence is :\")\n",
    "    while (count<n_terms):\n",
    "        print(n1)\n",
    "        nxt=n1+n2\n",
    "        n1=n2\n",
    "        n2=nxt\n",
    "        count+=1"
   ]
  },
  {
   "cell_type": "markdown",
   "id": "7b78da07",
   "metadata": {},
   "source": [
    "### Ques(4): Write a Python Program to Check Armstrong Number?\n",
    "### Ans-"
   ]
  },
  {
   "cell_type": "markdown",
   "id": "4c45e58c",
   "metadata": {},
   "source": [
    "A positive integer is called an Armstrong number of order n if\n",
    "\n",
    "abcd... = a^n + b^n + c^n + d^n + ...\n",
    "\n",
    "###### In case of an Armstrong number of 3 digits, the sum of cubes of each digit is equal to the number itself. \n",
    "For example:\n",
    "\n",
    "153 = 1^3 + 5^3 + 3^3  // 153 is an Armstrong number."
   ]
  },
  {
   "cell_type": "code",
   "execution_count": 63,
   "id": "c9598d57",
   "metadata": {},
   "outputs": [
    {
     "name": "stdout",
     "output_type": "stream",
     "text": [
      "Enter the number: 153\n",
      "153 is a Armstrong number.\n"
     ]
    }
   ],
   "source": [
    "num=int(input(\"Enter the number: \"))\n",
    "#count=0\n",
    "sum=0\n",
    "temp=num #because compare in last sum==num if we do not write this in last num=0\n",
    "while (temp>0):\n",
    "    rem=temp%10\n",
    "    sum=sum+rem**3\n",
    "    #count=count+1\n",
    "    temp=temp//10\n",
    "if(sum==num):\n",
    "    print(sum, \"is a Armstrong number.\")\n",
    "else:\n",
    "    print(sum,\"is a not Armstrong number.\")"
   ]
  },
  {
   "cell_type": "markdown",
   "id": "f8df7b51",
   "metadata": {},
   "source": [
    "### Ques(5): Write a Python Program to Find Armstrong Number in an Interval?\n",
    "### Ans-"
   ]
  },
  {
   "cell_type": "code",
   "execution_count": 69,
   "id": "a2edebae",
   "metadata": {},
   "outputs": [
    {
     "name": "stdout",
     "output_type": "stream",
     "text": [
      "Enter the 1st number: 100\n",
      "Enter the 2nd number: 2000\n",
      "153\n",
      "370\n",
      "371\n",
      "407\n",
      "1634\n"
     ]
    }
   ],
   "source": [
    "lower=int(input(\"Enter the 1st number: \"))\n",
    "upper=int(input(\"Enter the 2nd number: \"))\n",
    "for num in range(lower,upper+1):\n",
    "    order=len(str(num))\n",
    "    sum=0\n",
    "    temp=num\n",
    "    while(temp>0):\n",
    "        rem=temp%10\n",
    "        sum+=rem**order\n",
    "        temp//=10\n",
    "    if(sum==num):\n",
    "        print(sum)"
   ]
  },
  {
   "cell_type": "markdown",
   "id": "1e15bd5e",
   "metadata": {},
   "source": [
    "### Ques(6): Write a Python Program to Find the Sum of Natural Numbers?\n",
    "### Ans-"
   ]
  },
  {
   "cell_type": "code",
   "execution_count": 79,
   "id": "208c4ad0",
   "metadata": {},
   "outputs": [
    {
     "name": "stdout",
     "output_type": "stream",
     "text": [
      "Enter the number: 100\n",
      "Sum of given Natural number 100 is = 5050\n"
     ]
    }
   ],
   "source": [
    "num=int(input(\"Enter the number: \"))\n",
    "sum=0\n",
    "if num<0:\n",
    "    print(\"Please inter positive number: \")\n",
    "else:\n",
    "    for i in range(1,num+1):\n",
    "        sum+=i\n",
    "    print(\"Sum of given Natural number\",num,\"is =\",sum)"
   ]
  },
  {
   "cell_type": "markdown",
   "id": "9d71ea10",
   "metadata": {},
   "source": [
    "# Thank you for checking my assignment."
   ]
  }
 ],
 "metadata": {
  "kernelspec": {
   "display_name": "Python 3 (ipykernel)",
   "language": "python",
   "name": "python3"
  },
  "language_info": {
   "codemirror_mode": {
    "name": "ipython",
    "version": 3
   },
   "file_extension": ".py",
   "mimetype": "text/x-python",
   "name": "python",
   "nbconvert_exporter": "python",
   "pygments_lexer": "ipython3",
   "version": "3.10.8"
  }
 },
 "nbformat": 4,
 "nbformat_minor": 5
}
