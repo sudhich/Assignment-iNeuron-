{
 "cells": [
  {
   "cell_type": "markdown",
   "id": "1020b1d7",
   "metadata": {},
   "source": [
    "# Assignment_7"
   ]
  },
  {
   "cell_type": "markdown",
   "id": "b7de3dc2",
   "metadata": {},
   "source": [
    "### Ques(1): What is the name of the feature responsible for generating Regex objects?\n",
    "### Ans-"
   ]
  },
  {
   "cell_type": "markdown",
   "id": "a5f4d0c9",
   "metadata": {},
   "source": [
    "The re.compile() function returns Regex objects.\n",
    "### Ex-"
   ]
  },
  {
   "cell_type": "code",
   "execution_count": 51,
   "id": "96a67ca2",
   "metadata": {},
   "outputs": [
    {
     "name": "stdout",
     "output_type": "stream",
     "text": [
      "['TP', 'TP']\n",
      "['most popular']\n"
     ]
    }
   ],
   "source": [
    "#1st Ex-\n",
    "import re\n",
    "patternt=re.compile('TP')\n",
    "result=patternt.findall('TP tutorials TP')\n",
    "print(result)\n",
    "patternt=re.compile('most popular')\n",
    "result1=patternt.findall('TP is most popular tutorials site of India')\n",
    "print(result1)"
   ]
  },
  {
   "cell_type": "code",
   "execution_count": 8,
   "id": "a81205bd",
   "metadata": {},
   "outputs": [
    {
     "name": "stdout",
     "output_type": "stream",
     "text": [
      "<class 're.Pattern'>\n",
      "['251', '761', '231', '451']\n",
      "['111', '212', '415']\n"
     ]
    }
   ],
   "source": [
    "#2nd Ex-\n",
    "import re\n",
    "str1 = \"Emma's luck numbers are 251 761 231 451\"\n",
    "pattern = r\"\\d{3}\"\n",
    "regex_pattern = re.compile(pattern)\n",
    "print(type(regex_pattern))\n",
    "#print(regex_pattern)\n",
    "result = regex_pattern.findall(str1)\n",
    "print(result)\n",
    "str2 = \"Kelly's luck numbers are 111 212 415\"\n",
    "result = regex_pattern.findall(str2)\n",
    "print(result)"
   ]
  },
  {
   "cell_type": "code",
   "execution_count": 10,
   "id": "8074e532",
   "metadata": {},
   "outputs": [
    {
     "data": {
      "text/plain": [
       "['9991116666', '(999)-333-7777']"
      ]
     },
     "execution_count": 10,
     "metadata": {},
     "output_type": "execute_result"
    }
   ],
   "source": [
    "# 3rd other of regular expression example--\n",
    "text='''\n",
    "Elon musk's phone number is 999111666666, call him if you have any questions on dodgecoin. Tesla's revenue is 40 billion\n",
    "Tesla's CFO number (999)-333-7777\n",
    "'''\n",
    "\n",
    "pattern='\\(\\d{3}\\)-\\d{3}-\\d{4}|\\d{10}'\n",
    "\n",
    "matches=re.findall(pattern,text)\n",
    "matches"
   ]
  },
  {
   "cell_type": "markdown",
   "id": "660a6d68",
   "metadata": {},
   "source": [
    "### Ques(2): Why do raw strings often appear in Regex objects?\n",
    "### Ans-"
   ]
  },
  {
   "cell_type": "markdown",
   "id": "5f14c2ef",
   "metadata": {},
   "source": [
    "Raw strings are used so that backslashes do not have to be escaped.\n",
    "### Ex-"
   ]
  },
  {
   "cell_type": "code",
   "execution_count": 21,
   "id": "46847e7c",
   "metadata": {},
   "outputs": [
    {
     "name": "stdout",
     "output_type": "stream",
     "text": [
      "17\n",
      "lang\tver\n",
      "Python\t3\n",
      "lang\\tver\\nPython\\t3\n",
      "20\n"
     ]
    }
   ],
   "source": [
    "#1st Ex-\n",
    "s1 = 'lang\\tver\\nPython\\t3' #Here strings treat the \\t,\\n,\\t are single literal character.\n",
    "print(len(s1))\n",
    "print(s1)\n",
    "raw_str = r'lang\\tver\\nPython\\t3' #Raw strings treat the backslash (\\) as a literal character.\n",
    "print(raw_str)\n",
    "print(len(raw_str))"
   ]
  },
  {
   "cell_type": "code",
   "execution_count": 27,
   "id": "190047c6",
   "metadata": {},
   "outputs": [
    {
     "name": "stdout",
     "output_type": "stream",
     "text": [
      "lang\\tver\\nPython\\t3\n",
      "lang\\\\tver\\\\nPython\\\\t3\n"
     ]
    }
   ],
   "source": [
    "#2nd Ex-\n",
    "s2 = 'lang\\\\tver\\\\nPython\\\\t3' #Here \\\\ means \\\n",
    "print(s2)\n",
    "raw_str2 = R\"lang\\\\tver\\\\nPython\\\\t3\" #Raw strings treat the backslash (\\) as a literal character.\n",
    "print(raw_str2)"
   ]
  },
  {
   "cell_type": "markdown",
   "id": "3454bf35",
   "metadata": {},
   "source": [
    "#### Additional example for remembering differance b/w \"\\\\\" and \\ ."
   ]
  },
  {
   "cell_type": "code",
   "execution_count": 29,
   "id": "b6e17161",
   "metadata": {},
   "outputs": [
    {
     "name": "stdout",
     "output_type": "stream",
     "text": [
      "\"\"\n"
     ]
    }
   ],
   "source": [
    "str1='\"\\\"'\n",
    "print(str1)\n"
   ]
  },
  {
   "cell_type": "code",
   "execution_count": 30,
   "id": "afbb97a8",
   "metadata": {},
   "outputs": [
    {
     "ename": "SyntaxError",
     "evalue": "unterminated string literal (detected at line 1) (1771485519.py, line 1)",
     "output_type": "error",
     "traceback": [
      "\u001b[1;36m  Cell \u001b[1;32mIn [30], line 1\u001b[1;36m\u001b[0m\n\u001b[1;33m    str1='\\'\u001b[0m\n\u001b[1;37m         ^\u001b[0m\n\u001b[1;31mSyntaxError\u001b[0m\u001b[1;31m:\u001b[0m unterminated string literal (detected at line 1)\n"
     ]
    }
   ],
   "source": [
    "str1='\\'\n",
    "print(str1)"
   ]
  },
  {
   "cell_type": "code",
   "execution_count": 31,
   "id": "db29fb68",
   "metadata": {},
   "outputs": [
    {
     "name": "stdout",
     "output_type": "stream",
     "text": [
      "\"\\\"\n"
     ]
    }
   ],
   "source": [
    "str1=r'\"\\\"'\n",
    "print(str1)"
   ]
  },
  {
   "cell_type": "code",
   "execution_count": 26,
   "id": "ddcb42ff",
   "metadata": {},
   "outputs": [
    {
     "ename": "SyntaxError",
     "evalue": "unterminated string literal (detected at line 1) (886741952.py, line 1)",
     "output_type": "error",
     "traceback": [
      "\u001b[1;36m  Cell \u001b[1;32mIn [26], line 1\u001b[1;36m\u001b[0m\n\u001b[1;33m    str1=r'\\'\u001b[0m\n\u001b[1;37m         ^\u001b[0m\n\u001b[1;31mSyntaxError\u001b[0m\u001b[1;31m:\u001b[0m unterminated string literal (detected at line 1)\n"
     ]
    }
   ],
   "source": [
    "str1=r'\\'\n",
    "print(str1)"
   ]
  },
  {
   "cell_type": "markdown",
   "id": "5aed6af6",
   "metadata": {},
   "source": [
    "### Ques(3):What is the return value of the search() method?\n",
    "### Ans-"
   ]
  },
  {
   "cell_type": "markdown",
   "id": "fd4ba886",
   "metadata": {},
   "source": [
    "The search() method returns Match objects.\n",
    "search() method is able to find a pattern from any position of the string but it only returns the first occurrence of the search pattern.\n",
    "### Ex-"
   ]
  },
  {
   "cell_type": "code",
   "execution_count": 16,
   "id": "ac16da69",
   "metadata": {},
   "outputs": [
    {
     "name": "stdout",
     "output_type": "stream",
     "text": [
      "found word:cat\n"
     ]
    }
   ],
   "source": [
    "import re\n",
    "str = 'an example word:cat!! word:cat!!word:cat!!'\n",
    "match = re.search(r'word:\\w\\w\\w', str)\n",
    "# If-statement after search() tests if it succeeded\n",
    "if match:\n",
    "    print('found', match.group()) ## 'found word:cat'\n",
    "else:\n",
    "    print('did not find')"
   ]
  },
  {
   "cell_type": "markdown",
   "id": "a4acee42",
   "metadata": {},
   "source": [
    "### Ques(4): From a Match item, how do you get the actual strings that match the pattern?\n",
    "### Ans-"
   ]
  },
  {
   "cell_type": "markdown",
   "id": "87e1f3ea",
   "metadata": {},
   "source": [
    "The group() method returns strings of the matched text.\n",
    "### Ex-"
   ]
  },
  {
   "cell_type": "code",
   "execution_count": 41,
   "id": "b95c15a1",
   "metadata": {},
   "outputs": [
    {
     "name": "stdout",
     "output_type": "stream",
     "text": [
      "Phone number found: 415-555-4242\n"
     ]
    }
   ],
   "source": [
    "import re\n",
    "phoneNumRegex = re.compile(r'\\d\\d\\d-\\d\\d\\d-\\d\\d\\d\\d')\n",
    "mo = phoneNumRegex.search('My number is 415-555-4242.')\n",
    "print('Phone number found: ' + mo.group())"
   ]
  },
  {
   "cell_type": "markdown",
   "id": "71f4dc67",
   "metadata": {},
   "source": [
    "### Ques(5):In the regex which created from the r'(\\d\\d\\d)-(\\d\\d\\d-\\d\\d\\d\\d)', what does group zero cover? Group 2? Group 1?\n",
    "### Ans-"
   ]
  },
  {
   "cell_type": "markdown",
   "id": "420cd9a5",
   "metadata": {},
   "source": [
    "Group 0 is the entire match, group 1 covers the first set of parentheses, and group 2 covers the second set of parentheses.\n",
    "### Ex-"
   ]
  },
  {
   "cell_type": "code",
   "execution_count": 45,
   "id": "78babc82",
   "metadata": {},
   "outputs": [
    {
     "name": "stdout",
     "output_type": "stream",
     "text": [
      "Entire match: 415-555-4242\n",
      "Group 1: 415\n",
      "Group 2: 555-4242\n",
      "Group 3: 555\n"
     ]
    }
   ],
   "source": [
    "import re\n",
    "phoneNumRegex = re.compile(r'(\\d\\d\\d)-((\\d\\d\\d)-\\d\\d\\d\\d)')\n",
    "mo = phoneNumRegex.search('My number is 415-555-4242.')\n",
    "print('Entire match: ' + mo.group())\n",
    "print('Group 1: '+ mo.group(1))\n",
    "print('Group 2: '+ mo.group(2))\n",
    "print('Group 3: '+ mo.group(3))"
   ]
  },
  {
   "cell_type": "markdown",
   "id": "bdd2952d",
   "metadata": {},
   "source": [
    "### Ques(6):In standard expression syntax, parentheses and intervals have distinct meanings. How can you tell a regex that you want it to fit real parentheses and periods?\n",
    "### Ans-"
   ]
  },
  {
   "cell_type": "markdown",
   "id": "cbcb3f74",
   "metadata": {},
   "source": [
    "Periods and parentheses can be escaped with a backslash:   \\., \\(, and \\).\n",
    "### Ex-"
   ]
  },
  {
   "cell_type": "code",
   "execution_count": 49,
   "id": "b39f6fdc",
   "metadata": {},
   "outputs": [
    {
     "data": {
      "text/plain": [
       "['( { \" . * +']"
      ]
     },
     "execution_count": 49,
     "metadata": {},
     "output_type": "execute_result"
    }
   ],
   "source": [
    "import re\n",
    "re.findall('\\( \\{ \\\" \\. \\* \\+', r'( { \" . * +')"
   ]
  },
  {
   "cell_type": "markdown",
   "id": "9345ffb0",
   "metadata": {},
   "source": [
    "### Ques(7): The findall() method returns a string list or a list of string tuples. What causes it to return one of the two options?\n",
    "### Ans-"
   ]
  },
  {
   "cell_type": "markdown",
   "id": "b691c030",
   "metadata": {},
   "source": [
    "If the regex has no groups, a list of strings is returned. If the regex has groups, a list of tuples of strings is returned.\n",
    "### Ex-"
   ]
  },
  {
   "cell_type": "code",
   "execution_count": 50,
   "id": "ebcca875",
   "metadata": {},
   "outputs": [
    {
     "name": "stdout",
     "output_type": "stream",
     "text": [
      "Phone number found: 415-555-4242\n",
      "Group 1: 415\n",
      "Group 2: 555-4242\n",
      "Group 3: 555\n"
     ]
    }
   ],
   "source": [
    "#If the regex has no groups, a list of strings is returned. \n",
    "import re\n",
    "phoneNumRegex = re.compile(r'\\d\\d\\d-\\d\\d\\d-\\d\\d\\d\\d')\n",
    "mo = phoneNumRegex.search('My number is 415-555-4242.')\n",
    "print('Phone number found: ' + mo.group())\n",
    "\n",
    "#If the regex has groups, a list of tuples of strings is returned.\n",
    "import re\n",
    "phoneNumRegex = re.compile(r'(\\d\\d\\d)-((\\d\\d\\d)-\\d\\d\\d\\d)')\n",
    "mo = phoneNumRegex.search('My number is 415-555-4242.')\n",
    "print('Group 1: '+ mo.group(1))\n",
    "print('Group 2: '+ mo.group(2))\n",
    "print('Group 3: '+ mo.group(3))"
   ]
  },
  {
   "cell_type": "markdown",
   "id": "7399c11e",
   "metadata": {},
   "source": [
    "### Ques(8): In standard expressions, what does the | character mean?\n",
    "### Ans-"
   ]
  },
  {
   "cell_type": "markdown",
   "id": "59b3f9c3",
   "metadata": {},
   "source": [
    "The | character signifies matching \"either, or\" between two groups.\n",
    "### Ex-"
   ]
  },
  {
   "cell_type": "code",
   "execution_count": 54,
   "id": "1ed74c5c",
   "metadata": {},
   "outputs": [
    {
     "name": "stdout",
     "output_type": "stream",
     "text": [
      "['python', 'tutorial']\n",
      "Yes, there is at least one match!\n"
     ]
    }
   ],
   "source": [
    "import re\n",
    "txt=\"This is the python simplilearn tutorial\"\n",
    "x=re.findall(\"python|tutorial\",txt)\n",
    "print(x)\n",
    "if x:\n",
    "    print(\"Yes, there is at least one match!\")\n",
    "else:\n",
    "    print(\"No match\")"
   ]
  },
  {
   "cell_type": "markdown",
   "id": "6b7601da",
   "metadata": {},
   "source": [
    "### Ques(9): In regular expressions, what does the character stand for?\n",
    "### Ans-"
   ]
  },
  {
   "cell_type": "markdown",
   "id": "36cdcea0",
   "metadata": {},
   "source": [
    "All characters, except those having special meaning in regex, matches themselves. E.g., the regex x matches substring \"x\"; regex 9 matches \"9\"; regex = matches \"=\"; and regex @ matches \"@\".\n",
    "\n",
    "These characters have special meaning in regex (to be discussed below): ., +, *, ?, ^, $, (, ), [, ], {, }, |, \\.\n",
    "\n",
    "#### Ex-"
   ]
  },
  {
   "cell_type": "code",
   "execution_count": 1,
   "id": "4a858ace",
   "metadata": {},
   "outputs": [
    {
     "data": {
      "text/plain": [
       "['123']"
      ]
     },
     "execution_count": 1,
     "metadata": {},
     "output_type": "execute_result"
    }
   ],
   "source": [
    "import re\n",
    "re.findall(r'[0-9]+', 'abc123xyz')"
   ]
  },
  {
   "cell_type": "markdown",
   "id": "97a0ca94",
   "metadata": {},
   "source": [
    "### Ques(10):In regular expressions, what is the difference between the + and * characters?\n",
    "### Ans-"
   ]
  },
  {
   "cell_type": "markdown",
   "id": "dea29a44",
   "metadata": {},
   "source": [
    "The + matches one or more. The * matches zero or more.\n",
    "#### Ex-"
   ]
  },
  {
   "cell_type": "code",
   "execution_count": 3,
   "id": "e2806cda",
   "metadata": {},
   "outputs": [
    {
     "name": "stdout",
     "output_type": "stream",
     "text": [
      "['hello pla']\n"
     ]
    }
   ],
   "source": [
    "import re\n",
    "txt = \"hello planet\"\n",
    "#Search for a sequence that starts with \"he\", followed by 0 or more  (any) characters, and an \"o\":\n",
    "x = re.findall(\"he.*a\", txt)\n",
    "print(x)\n"
   ]
  },
  {
   "cell_type": "code",
   "execution_count": 5,
   "id": "643ebe79",
   "metadata": {},
   "outputs": [
    {
     "name": "stdout",
     "output_type": "stream",
     "text": [
      "['hello pl']\n"
     ]
    }
   ],
   "source": [
    "import re\n",
    "txt = \"hello planet\"\n",
    "#Search for a sequence that starts with \"he\", followed by 1 or more  (any) characters, and an \"o\":\n",
    "x = re.findall(\"he.+l\", txt)\n",
    "print(x)"
   ]
  },
  {
   "cell_type": "markdown",
   "id": "09cec8c6",
   "metadata": {},
   "source": [
    "### Ques(11):What is the difference between {4} and {4,5} in regular expression?\n",
    "### Ans-"
   ]
  },
  {
   "cell_type": "markdown",
   "id": "44f8c062",
   "metadata": {},
   "source": [
    "The {3} matches exactly three instances of the preceding group. The {3,5} matches between three and five instances.\n",
    "#### Ex-"
   ]
  },
  {
   "cell_type": "code",
   "execution_count": 14,
   "id": "b8a680e3",
   "metadata": {},
   "outputs": [
    {
     "name": "stdout",
     "output_type": "stream",
     "text": [
      "HaHaHa\n"
     ]
    }
   ],
   "source": [
    "import re\n",
    "regex = re.compile(r'(Ha){3}')\n",
    "mo1 = regex.search('HaHaHaHaHaHa')\n",
    "print(mo1.group())"
   ]
  },
  {
   "cell_type": "code",
   "execution_count": 15,
   "id": "7f826954",
   "metadata": {},
   "outputs": [
    {
     "name": "stdout",
     "output_type": "stream",
     "text": [
      "HaHaHaHaHa\n"
     ]
    }
   ],
   "source": [
    "import re\n",
    "Regex = re.compile(r'(Ha){3,5}')\n",
    "mo1 = Regex.search('HaHaHaHaHaHaHaHaHaHa')\n",
    "print(mo1.group())"
   ]
  },
  {
   "cell_type": "markdown",
   "id": "81a799e0",
   "metadata": {},
   "source": [
    "### Ques(12):What do you mean by the \\d, \\w, and \\s shorthand character classes signify in regular expressions?\n",
    "### Ans-"
   ]
  },
  {
   "cell_type": "markdown",
   "id": "c97fefcc",
   "metadata": {},
   "source": [
    "The \\d, \\w, and \\s shorthand character classes match a single digit, word, or space character, respectively.\n",
    "#### Ex-"
   ]
  },
  {
   "cell_type": "code",
   "execution_count": 17,
   "id": "8be3bb10",
   "metadata": {},
   "outputs": [
    {
     "data": {
      "text/plain": [
       "['4', '7', '8', '3', '6', '4', '3']"
      ]
     },
     "execution_count": 17,
     "metadata": {},
     "output_type": "execute_result"
    }
   ],
   "source": [
    "str1=\"sudhir4783643\"\n",
    "patern=r\"\\d\"\n",
    "match=re.compile(patern)\n",
    "result=match.findall(str1)\n",
    "result"
   ]
  },
  {
   "cell_type": "code",
   "execution_count": 18,
   "id": "eeff558b",
   "metadata": {},
   "outputs": [
    {
     "data": {
      "text/plain": [
       "['s', 'u', 'd', 'h', 'i', 'r', '4', '7', '8', '3', '6', '4', '3']"
      ]
     },
     "execution_count": 18,
     "metadata": {},
     "output_type": "execute_result"
    }
   ],
   "source": [
    "str1=\"sudhir4783643\"\n",
    "patern=r\"\\w\"\n",
    "match=re.compile(patern)\n",
    "result=match.findall(str1)\n",
    "result"
   ]
  },
  {
   "cell_type": "code",
   "execution_count": 19,
   "id": "83f85f63",
   "metadata": {},
   "outputs": [
    {
     "data": {
      "text/plain": [
       "[' ', ' ']"
      ]
     },
     "execution_count": 19,
     "metadata": {},
     "output_type": "execute_result"
    }
   ],
   "source": [
    "str1=\"su dhir4 783643\"\n",
    "patern=r\"\\s\"\n",
    "match=re.compile(patern)\n",
    "result=match.findall(str1)\n",
    "result"
   ]
  },
  {
   "cell_type": "markdown",
   "id": "11cc0c93",
   "metadata": {},
   "source": [
    "### Ques(13): What do means by \\D, \\W, and \\S shorthand character classes signify in regular expressions?\n",
    "### Ans-"
   ]
  },
  {
   "cell_type": "markdown",
   "id": "30dea025",
   "metadata": {},
   "source": [
    "The \\D, \\W, and \\S shorthand character classes match a single character that is not a digit, word, or space character, respectively.\n",
    "#### Ex-"
   ]
  },
  {
   "cell_type": "code",
   "execution_count": 23,
   "id": "53281c81",
   "metadata": {},
   "outputs": [
    {
     "data": {
      "text/plain": [
       "['s', 'u', ' ', 'd', 'h', 'i', 'r', '_', ' ']"
      ]
     },
     "execution_count": 23,
     "metadata": {},
     "output_type": "execute_result"
    }
   ],
   "source": [
    "str1=\"su dhir_4 783643\"\n",
    "patern=r\"\\D\"\n",
    "match=re.compile(patern)\n",
    "result=match.findall(str1)\n",
    "result"
   ]
  },
  {
   "cell_type": "code",
   "execution_count": 24,
   "id": "54900d0d",
   "metadata": {},
   "outputs": [
    {
     "data": {
      "text/plain": [
       "[' ', ' ']"
      ]
     },
     "execution_count": 24,
     "metadata": {},
     "output_type": "execute_result"
    }
   ],
   "source": [
    "str1=\"su dhir_4 783643\"\n",
    "patern=r\"\\W\"\n",
    "match=re.compile(patern)\n",
    "result=match.findall(str1)\n",
    "result"
   ]
  },
  {
   "cell_type": "code",
   "execution_count": 25,
   "id": "cf1be34b",
   "metadata": {},
   "outputs": [
    {
     "data": {
      "text/plain": [
       "['s', 'u', 'd', 'h', 'i', 'r', '_', '4', '7', '8', '3', '6', '4', '3']"
      ]
     },
     "execution_count": 25,
     "metadata": {},
     "output_type": "execute_result"
    }
   ],
   "source": [
    "str1=\"su dhir_4 783643\"\n",
    "patern=r\"\\S\"\n",
    "match=re.compile(patern)\n",
    "result=match.findall(str1)\n",
    "result"
   ]
  },
  {
   "cell_type": "markdown",
   "id": "2e4816c2",
   "metadata": {},
   "source": [
    "### Ques(14):What is the difference between .*? and .* ?\n",
    "### Ans-"
   ]
  },
  {
   "cell_type": "code",
   "execution_count": 40,
   "id": "12055830",
   "metadata": {},
   "outputs": [],
   "source": [
    "#(.*?) matches any character (.) any number of times (*), as few times as possible to make the regex match (?). \n",
    "\n",
    "#.* means any type of character (the dot) of any amount, also 0, i.e. no character is also possible."
   ]
  },
  {
   "cell_type": "code",
   "execution_count": 44,
   "id": "b2bfbc0b",
   "metadata": {},
   "outputs": [
    {
     "name": "stdout",
     "output_type": "stream",
     "text": [
      "['', 'a', '', 'b', '', 'a', '', 'b', '', 'b', '', 'a', '', 'a', '', 'b', '', 'b', '', 'b', '', 'a', '', 'b', '', 'a', '', 'b', '', 'a', '', 'b', '']\n",
      "['ababbaabbbababab', '']\n"
     ]
    }
   ],
   "source": [
    "p = re.compile('.*?')\n",
    "print(p.findall(\"ababbaabbbababab\"))\n",
    "p = re.compile('.*')\n",
    "print(p.findall(\"ababbaabbbababab\"))"
   ]
  },
  {
   "cell_type": "markdown",
   "id": "e8a44026",
   "metadata": {},
   "source": [
    "### Ques(15):What is the syntax for matching both numbers and lowercase letters with a character class?\n",
    "### Ans-"
   ]
  },
  {
   "cell_type": "markdown",
   "id": "b5b2b9c8",
   "metadata": {},
   "source": [
    "Either [0-9a-z] or [a-z0-9]"
   ]
  },
  {
   "cell_type": "code",
   "execution_count": 48,
   "id": "8e903d91",
   "metadata": {},
   "outputs": [
    {
     "name": "stdout",
     "output_type": "stream",
     "text": [
      "['s', 'u', 'd', 'h', 'i', 'r', '8', '4', '6', '3']\n"
     ]
    }
   ],
   "source": [
    "p = re.compile('[0-9a-z]')\n",
    "print(p.findall(\"S_sudhir8463\"))"
   ]
  },
  {
   "cell_type": "markdown",
   "id": "abbdd421",
   "metadata": {},
   "source": [
    "### Ques(16): What is the procedure for making a normal expression in regax case insensitive?\n",
    "### Ans-"
   ]
  },
  {
   "cell_type": "markdown",
   "id": "ad105daa",
   "metadata": {},
   "source": [
    "Passing re.I or re.IGNORECASE as the second argument to re.compile() will make the matching case insensitive.\n",
    "#### Ex-"
   ]
  },
  {
   "cell_type": "code",
   "execution_count": 50,
   "id": "7566bde1",
   "metadata": {},
   "outputs": [
    {
     "data": {
      "text/plain": [
       "['The', 'the', 'tHe']"
      ]
     },
     "execution_count": 50,
     "metadata": {},
     "output_type": "execute_result"
    }
   ],
   "source": [
    "import re\n",
    "re.findall('the', 'The sources informed the police of tHe thieves.', re.IGNORECASE)"
   ]
  },
  {
   "cell_type": "markdown",
   "id": "228ca522",
   "metadata": {},
   "source": [
    "### Ques(17): What does the . character normally match? What does it match if re.DOTALL is passed as 2nd argument in re.compile()?\n",
    "### Ans-"
   ]
  },
  {
   "cell_type": "markdown",
   "id": "53e0871c",
   "metadata": {},
   "source": [
    "The . character normally matches any character except the newline character. If re.DOTALL is passed as the second argument to re.compile(), then the dot will also match newline characters.\n",
    "#### Ex-"
   ]
  },
  {
   "cell_type": "code",
   "execution_count": 3,
   "id": "b1824d3f",
   "metadata": {},
   "outputs": [
    {
     "name": "stdout",
     "output_type": "stream",
     "text": [
      "['Hello,', 'Geeks']\n",
      "['Hello,\\nGeeks']\n"
     ]
    }
   ],
   "source": [
    "import re\n",
    "pattern=re.compile(r'.+')\n",
    "result=pattern.findall('Hello,\\nGeeks')\n",
    "print(result)\n",
    "pattern1=re.compile(r'.+', re.DOTALL)\n",
    "result1=pattern1.findall('Hello,\\nGeeks')\n",
    "print(result1)"
   ]
  },
  {
   "cell_type": "markdown",
   "id": "fef336ad",
   "metadata": {},
   "source": [
    "### Ques(18): If numReg = re.compile(r'\\d+'), what will numRegex.sub('X', '11 drummers, 10 pipers, five rings, 4 hen') return?\n",
    "### Ans-"
   ]
  },
  {
   "cell_type": "code",
   "execution_count": 18,
   "id": "05511d4d",
   "metadata": {},
   "outputs": [
    {
     "data": {
      "text/plain": [
       "'X drummers, X pipers, five rings, X hen'"
      ]
     },
     "execution_count": 18,
     "metadata": {},
     "output_type": "execute_result"
    }
   ],
   "source": [
    "#Sol--\n",
    "numReg = re.compile(r'\\d+')\n",
    "numReg.sub('X', '11 drummers, 10 pipers, five rings, 4 hen')"
   ]
  },
  {
   "cell_type": "code",
   "execution_count": 19,
   "id": "b14d3c71",
   "metadata": {},
   "outputs": [
    {
     "name": "stdout",
     "output_type": "stream",
     "text": [
      "('I xm x humxn being.', 3)\n",
      "('x xm x humxn being.', 4)\n"
     ]
    },
    {
     "data": {
      "text/plain": [
       "'X drummers, X pipers, five rings, X hen'"
      ]
     },
     "execution_count": 19,
     "metadata": {},
     "output_type": "execute_result"
    }
   ],
   "source": [
    "#Ex-\n",
    "import re\n",
    "s = \"I am a human being.\"\n",
    "# Performing the subn() operation\n",
    "res_1 = re.subn('a', 'x', s)\n",
    "res_2 = re.subn('[a,I]','x',s)\n",
    "print(res_1)\n",
    "print(res_2)\n",
    "re.sub('\\d+','X', '11 drummers, 10 pipers, five rings, 4 hen')"
   ]
  },
  {
   "cell_type": "markdown",
   "id": "8d9c0b74",
   "metadata": {},
   "source": [
    "### Ques(19): What does passing re.VERBOSE as the 2nd argument to re.compile() allow to do?\n",
    "### Ans-"
   ]
  },
  {
   "cell_type": "markdown",
   "id": "53708971",
   "metadata": {},
   "source": [
    "The re.VERBOSE argument allows you to add whitespace and comments to the string passed to re.compile()."
   ]
  },
  {
   "cell_type": "code",
   "execution_count": 20,
   "id": "4c8ded88",
   "metadata": {},
   "outputs": [],
   "source": [
    "# Without Using VERBOSE\n",
    "regex_email = re.compile(r'^([a-z0-9_\\.-]+)@([0-9a-z\\.-]+)\\.([a-z\\.]{2, 6})$',\n",
    "              re.IGNORECASE)\n",
    "   \n",
    "# Using VERBOSE\n",
    "regex_email = re.compile(r\"\"\"\n",
    "            ^([a-z0-9_\\.-]+)              # local Part\n",
    "            @                             # single @ sign\n",
    "            ([0-9a-z\\.-]+)                # Domain name\n",
    "            \\.                            # single Dot .\n",
    "            ([a-z]{2,6})$                 # Top level Domain  \n",
    "             \"\"\",re.VERBOSE | re.IGNORECASE)"
   ]
  },
  {
   "cell_type": "code",
   "execution_count": 28,
   "id": "fb0c94be",
   "metadata": {},
   "outputs": [
    {
     "name": "stdout",
     "output_type": "stream",
     "text": [
      "expectopatronum@gmail.com is Valid. Details are as follow:\n",
      "Local:expectopatronum\n",
      "Domain:gmail\n",
      "Top Level domain:com\n",
      "\n",
      "avadakedavra@yahoo.com@ is Invalid\n",
      "Crucio@.com is Invalid\n"
     ]
    }
   ],
   "source": [
    "import re\n",
    "  \n",
    "def validate_email(email):\n",
    "    regex_email=re.compile(r\"\"\"\n",
    "                           ^([a-z0-9_\\.-]+)                 # local Part\n",
    "                           @                             # single @ sign\n",
    "                            ([0-9a-z\\.-]+)                 # Domain name\n",
    "                           \\.                             # single Dot .\n",
    "                            ([a-z]{2,6})$                 # Top level Domain     \n",
    "                           \"\"\",re.VERBOSE | re.IGNORECASE)\n",
    "    res=regex_email.fullmatch(email)\n",
    "    if res:\n",
    "        print(\"{} is Valid. Details are as follow:\".format(email))\n",
    "          \n",
    "        #prints first part/personal detail of Email Id\n",
    "        print(\"Local:{}\".format(res.group(1)))\n",
    "          \n",
    "        #prints Domain Name of Email Id\n",
    "        print(\"Domain:{}\".format(res.group(2)))\n",
    "          \n",
    "        #prints Top Level Domain Name of Email Id\n",
    "        print(\"Top Level domain:{}\".format(res.group(3)))\n",
    "        print()\n",
    "          \n",
    "    else:\n",
    "        #If match is not found,string is invalid\n",
    "        print(\"{} is Invalid\".format(email))\n",
    "  \n",
    "# Driver Code\n",
    "validate_email(\"expectopatronum@gmail.com\")\n",
    "validate_email(\"avadakedavra@yahoo.com@\")\n",
    "validate_email(\"Crucio@.com\")"
   ]
  },
  {
   "cell_type": "markdown",
   "id": "fb1c3faa",
   "metadata": {},
   "source": [
    "### Ques(20): How would you write a regex that match a number with comma for every three digits? It must match the given following:\n",
    "#### '42'\n",
    "#### '1,234'\n",
    "#### '6,368,745'\n",
    "#### but not the following:\n",
    "#### '12,34,567' (which has only two digits between the commas)\n",
    "#### '1234' (which lacks commas)\n",
    "\n",
    "### Ans-"
   ]
  },
  {
   "cell_type": "markdown",
   "id": "18b43140",
   "metadata": {},
   "source": [
    "re.compile(r'^\\d{1,3}(,\\d{3})*$') will create this regex, but other regex strings can produce a similar regular expression.\n",
    "(r'\\d{3},\\d{3}$')\n",
    "\n",
    "(r'\\d{3},\\d{3}')\n",
    "\n",
    "(r'^\\d{3},\\d{3}')\n",
    "\n",
    "(r'^\\d{1,3}(,\\d{3})*$') regex of format of a number with commas for every three digits"
   ]
  },
  {
   "cell_type": "code",
   "execution_count": 60,
   "id": "e984ecd2",
   "metadata": {},
   "outputs": [
    {
     "name": "stdout",
     "output_type": "stream",
     "text": [
      "42\n",
      "1,234\n",
      "6,368,745\n",
      "['42', '1,234', '6,368,745']\n"
     ]
    }
   ],
   "source": [
    "import re\n",
    "text = \"match: 42, 1,234, 6,368,745 but not match: 12,34,567, or 1234\"\n",
    "\n",
    "# Step 1 - extract all numbers from text \n",
    "# regex to match all numbers:\n",
    "numRegex = re.compile(r\"\"\"(\n",
    "                        (\\d)           # first number \n",
    "                        ([0-9,]*)       # any subsequent digits or commas\n",
    "                        )\"\"\", re.VERBOSE)\n",
    "\n",
    "mo = numRegex.findall(text)\n",
    "# Step 2 - extract all complete numbers into a separate list (can include commas at end of string):\n",
    "searchNumbers = []\n",
    "for match in mo:\n",
    "    searchNumbers.append(match[0])\n",
    "#print(\"Insert all the number into the list\",searchNumbers)\n",
    "# Step 3 - remove ending commas from numbers\n",
    "endingComma = re.compile(r',$')\n",
    "for index, number in enumerate(searchNumbers):\n",
    "    searchNumbers[index] = endingComma.sub('', number)\n",
    "\n",
    "#print(\"Remove ending commas from numbers\",searchNumbers)\n",
    "# Step 4 - check each string against regex of format of a number with commas for every three digits\n",
    "numRegex = re.compile(r'''(\n",
    "                        (^(\\d{1,3}))      # 1-3 of digits to start string\n",
    "                        ((,\\d{3})*$)      # subsequent sequences of ',ddd' including one that ends the string\n",
    "                        )''', re.VERBOSE)\n",
    "\n",
    "# check each string for correct format\n",
    "cleanNumbers = []\n",
    "for number in searchNumbers:\n",
    "    mo = numRegex.search(number)\n",
    "    if mo != None: # if number correctly formatted, add to list\n",
    "        cleanNumbers.append(mo.group(0))\n",
    "for num in cleanNumbers:\n",
    "    print(num)\n",
    "#print(cleanNumbers)"
   ]
  },
  {
   "cell_type": "markdown",
   "id": "933572a7",
   "metadata": {},
   "source": [
    "### Ques(21):How would you write a regex that matches the full name of someone whose last name is Watanabe? You can assume that the first name that comes before it will always be one word that begins with a capital letter. The regex must match the following:\n",
    "#### 'Haruto Watanabe'\n",
    "#### 'Alice Watanabe'\n",
    "#### 'RoboCop Watanabe'\n",
    "#### but not the following:\n",
    "#### 'haruto Watanabe' (where the first name is not capitalized)\n",
    "#### 'Mr. Watanabe' (where the preceding word has a nonletter character)\n",
    "#### 'Watanabe' (which has no first name)\n",
    "#### 'Haruto watanabe' (where Watanabe is not capitalized)\n",
    "### Ans-"
   ]
  },
  {
   "cell_type": "code",
   "execution_count": 39,
   "id": "ff5fe607",
   "metadata": {},
   "outputs": [
    {
     "name": "stdout",
     "output_type": "stream",
     "text": [
      "['Haruto Watanabe', 'Alice Watanabe', 'RoboCop Watanabe']\n"
     ]
    }
   ],
   "source": [
    "#Regex must match the following BY this expression regex='[A-Z](?:\\w)+\\sWatanabe'\n",
    "str1='Haruto Watanabe''Alice Watanabe''RoboCop Watanabe''haruto Watanabe''Mr. Watanabe''Watanabe''Haruto watanabe'\n",
    "pattern=re.compile(r'[A-Z](?:\\w)+\\sWatanabe')\n",
    "result=pattern.findall(str1)\n",
    "print(result)"
   ]
  },
  {
   "cell_type": "code",
   "execution_count": 16,
   "id": "22bd211a",
   "metadata": {},
   "outputs": [
    {
     "name": "stdout",
     "output_type": "stream",
     "text": [
      "Haruto Watanabe -> <re.Match object; span=(0, 15), match='Haruto Watanabe'>\n",
      "Alice Watanabe -> <re.Match object; span=(0, 14), match='Alice Watanabe'>\n",
      "RoboCop Watanabe -> <re.Match object; span=(4, 16), match='Cop Watanabe'>\n",
      "haruto Watanabe -> None\n",
      "Mr. Watanabe -> None\n",
      "Watanabe -> None\n",
      "Haruto watanabe -> None\n"
     ]
    }
   ],
   "source": [
    "#2nd method\n",
    "import re\n",
    "pattern = r'[A-Z]{1}[a-z]*\\sWatanabe'\n",
    "match = re.compile(pattern)\n",
    "for name in ['Haruto Watanabe','Alice Watanabe','RoboCop Watanabe','haruto Watanabe','Mr. Watanabe','Watanabe','Haruto watanabe']:\n",
    "    print(name,'->',match.search(name))"
   ]
  },
  {
   "cell_type": "markdown",
   "id": "111a0ab2",
   "metadata": {},
   "source": [
    "### Ques(22):How would you write a regex that matches a sentence where the first word is either Alice, Bob, or Carol; the second word is either eats, pets, or throws; the third word is apples, cats, or baseballs; and the sentence ends with a period? This regex should be case-insensitive. It must match the following:\n",
    "#### 'Alice eats apples.'\n",
    "#### 'Bob pets cats.'\n",
    "#### 'Carol throws baseballs.'\n",
    "#### 'Alice throws Apples.'\n",
    "#### 'BOB EATS CATS.'\n",
    "####  but not the following:\n",
    "#### 'RoboCop eats apples.'\n",
    "#### 'ALICE THROWS FOOTBALLS.'\n",
    "#### 'Carol eats 7 cats.'\n",
    "### Ans-"
   ]
  },
  {
   "cell_type": "code",
   "execution_count": 14,
   "id": "8e0ede0d",
   "metadata": {},
   "outputs": [
    {
     "name": "stdout",
     "output_type": "stream",
     "text": [
      "Alice eats apples. -> <re.Match object; span=(0, 18), match='Alice eats apples.'>\n",
      "Bob pets cats. -> <re.Match object; span=(0, 14), match='Bob pets cats.'>\n",
      "Carol throws baseballs. -> <re.Match object; span=(0, 23), match='Carol throws baseballs.'>\n",
      "Alice throws Apples. -> <re.Match object; span=(0, 20), match='Alice throws Apples.'>\n",
      "BOB EATS CATS. -> <re.Match object; span=(0, 14), match='BOB EATS CATS.'>\n",
      "RoboCop eats apples. -> None\n",
      "ALICE THROWS FOOTBALLS. -> None\n",
      "Carol eats 7 cats. -> None\n"
     ]
    }
   ],
   "source": [
    "import re\n",
    "pattern = r'(Alice|Bob|Carol)\\s(eats|pets|throws)\\s(apples|cats|baseballs)\\.'\n",
    "match = re.compile(pattern,re.IGNORECASE)\n",
    "for i in ['Alice eats apples.','Bob pets cats.','Carol throws baseballs.','Alice throws Apples.','BOB EATS CATS.','RoboCop eats apples.'\n",
    ",'ALICE THROWS FOOTBALLS.','Carol eats 7 cats.']:\n",
    "    print(i,'->',match.search(i))"
   ]
  },
  {
   "cell_type": "code",
   "execution_count": null,
   "id": "c2899012",
   "metadata": {},
   "outputs": [],
   "source": []
  }
 ],
 "metadata": {
  "kernelspec": {
   "display_name": "Python 3 (ipykernel)",
   "language": "python",
   "name": "python3"
  },
  "language_info": {
   "codemirror_mode": {
    "name": "ipython",
    "version": 3
   },
   "file_extension": ".py",
   "mimetype": "text/x-python",
   "name": "python",
   "nbconvert_exporter": "python",
   "pygments_lexer": "ipython3",
   "version": "3.10.8"
  }
 },
 "nbformat": 4,
 "nbformat_minor": 5
}
