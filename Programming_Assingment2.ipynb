{
 "cells": [
  {
   "cell_type": "markdown",
   "id": "0b3f1b84",
   "metadata": {},
   "source": [
    "### Ques(1): 1.\tWrite a Python program to convert kilometers to miles?\n",
    "### Ans-"
   ]
  },
  {
   "cell_type": "markdown",
   "id": "05ff4848",
   "metadata": {},
   "source": [
    "1 kilometre equals 0.62137 miles.  \n",
    "Miles = kilometre * 0.62137  \n",
    "And,  \n",
    "Kilometre = Miles / 0.62137  "
   ]
  },
  {
   "cell_type": "code",
   "execution_count": 1,
   "id": "30999b7d",
   "metadata": {},
   "outputs": [
    {
     "name": "stdout",
     "output_type": "stream",
     "text": [
      "Please enter the speed of car in Kilometre as a unit: 14\n",
      "The speed value of car in Miles:  8.699194\n"
     ]
    }
   ],
   "source": [
    "def kilometre_to_miles(km):  \n",
    "    conversion_ratio= 0.621371  \n",
    "    miles_1 = km * conversion_ratio  \n",
    "    print (\"The speed value of car in Miles: \", miles_1)  \n",
    "km = float(input(\"Please enter the speed of car in Kilometre as a unit: \"))  \n",
    "kilometre_to_miles(km) "
   ]
  },
  {
   "cell_type": "markdown",
   "id": "ae665834",
   "metadata": {},
   "source": [
    "### Ques(2): Write a Python program to convert Celsius to Fahrenheit?\n",
    "### Ans-"
   ]
  },
  {
   "cell_type": "markdown",
   "id": "6281416f",
   "metadata": {},
   "source": [
    "fahrenheit = celsius * 1.8 + 32"
   ]
  },
  {
   "cell_type": "code",
   "execution_count": 4,
   "id": "c5f5fd9e",
   "metadata": {},
   "outputs": [
    {
     "name": "stdout",
     "output_type": "stream",
     "text": [
      "37.5 degree Celsius is equal to 99.5 degree Fahrenheit\n"
     ]
    }
   ],
   "source": [
    "celsius = 37.5\n",
    "fahrenheit = (celsius * 1.8) + 32\n",
    "print('%0.1f degree Celsius is equal to %0.1f degree Fahrenheit' %(celsius,fahrenheit))"
   ]
  },
  {
   "cell_type": "markdown",
   "id": "21c6e2b0",
   "metadata": {},
   "source": [
    "### Ques(3): Write a Python program to display calendar?\n",
    "### Ans-"
   ]
  },
  {
   "cell_type": "code",
   "execution_count": 4,
   "id": "e468c3e3",
   "metadata": {},
   "outputs": [
    {
     "name": "stdout",
     "output_type": "stream",
     "text": [
      "Enter year: 2014\n",
      "Enter month: 11\n",
      "   November 2014\n",
      "Mo Tu We Th Fr Sa Su\n",
      "                1  2\n",
      " 3  4  5  6  7  8  9\n",
      "10 11 12 13 14 15 16\n",
      "17 18 19 20 21 22 23\n",
      "24 25 26 27 28 29 30\n",
      "\n"
     ]
    }
   ],
   "source": [
    "# 1st program---\n",
    "import calendar\n",
    "yy=int(input(\"Enter year: \"))\n",
    "mm=int(input(\"Enter month: \"))\n",
    "print(calendar.month(yy,mm))"
   ]
  },
  {
   "cell_type": "code",
   "execution_count": 5,
   "id": "38e88bed",
   "metadata": {},
   "outputs": [
    {
     "name": "stdout",
     "output_type": "stream",
     "text": [
      "Enter year: 2022\n",
      "                                  2022\n",
      "\n",
      "      January                   February                   March\n",
      "Mo Tu We Th Fr Sa Su      Mo Tu We Th Fr Sa Su      Mo Tu We Th Fr Sa Su\n",
      "                1  2          1  2  3  4  5  6          1  2  3  4  5  6\n",
      " 3  4  5  6  7  8  9       7  8  9 10 11 12 13       7  8  9 10 11 12 13\n",
      "10 11 12 13 14 15 16      14 15 16 17 18 19 20      14 15 16 17 18 19 20\n",
      "17 18 19 20 21 22 23      21 22 23 24 25 26 27      21 22 23 24 25 26 27\n",
      "24 25 26 27 28 29 30      28                        28 29 30 31\n",
      "31\n",
      "\n",
      "       April                      May                       June\n",
      "Mo Tu We Th Fr Sa Su      Mo Tu We Th Fr Sa Su      Mo Tu We Th Fr Sa Su\n",
      "             1  2  3                         1             1  2  3  4  5\n",
      " 4  5  6  7  8  9 10       2  3  4  5  6  7  8       6  7  8  9 10 11 12\n",
      "11 12 13 14 15 16 17       9 10 11 12 13 14 15      13 14 15 16 17 18 19\n",
      "18 19 20 21 22 23 24      16 17 18 19 20 21 22      20 21 22 23 24 25 26\n",
      "25 26 27 28 29 30         23 24 25 26 27 28 29      27 28 29 30\n",
      "                          30 31\n",
      "\n",
      "        July                     August                  September\n",
      "Mo Tu We Th Fr Sa Su      Mo Tu We Th Fr Sa Su      Mo Tu We Th Fr Sa Su\n",
      "             1  2  3       1  2  3  4  5  6  7                1  2  3  4\n",
      " 4  5  6  7  8  9 10       8  9 10 11 12 13 14       5  6  7  8  9 10 11\n",
      "11 12 13 14 15 16 17      15 16 17 18 19 20 21      12 13 14 15 16 17 18\n",
      "18 19 20 21 22 23 24      22 23 24 25 26 27 28      19 20 21 22 23 24 25\n",
      "25 26 27 28 29 30 31      29 30 31                  26 27 28 29 30\n",
      "\n",
      "      October                   November                  December\n",
      "Mo Tu We Th Fr Sa Su      Mo Tu We Th Fr Sa Su      Mo Tu We Th Fr Sa Su\n",
      "                1  2          1  2  3  4  5  6                1  2  3  4\n",
      " 3  4  5  6  7  8  9       7  8  9 10 11 12 13       5  6  7  8  9 10 11\n",
      "10 11 12 13 14 15 16      14 15 16 17 18 19 20      12 13 14 15 16 17 18\n",
      "17 18 19 20 21 22 23      21 22 23 24 25 26 27      19 20 21 22 23 24 25\n",
      "24 25 26 27 28 29 30      28 29 30                  26 27 28 29 30 31\n",
      "31\n",
      "\n"
     ]
    }
   ],
   "source": [
    "# 2nd program---\n",
    "import calendar\n",
    "yy=int(input(\"Enter year: \"))\n",
    "print(calendar.calendar(yy))"
   ]
  },
  {
   "cell_type": "code",
   "execution_count": 7,
   "id": "7a3cc186",
   "metadata": {},
   "outputs": [
    {
     "name": "stdout",
     "output_type": "stream",
     "text": [
      "Enter the year: 2022\n",
      "    January 2022\n",
      "Su Mo Tu We Th Fr Sa\n",
      "                   1\n",
      " 2  3  4  5  6  7  8\n",
      " 9 10 11 12 13 14 15\n",
      "16 17 18 19 20 21 22\n",
      "23 24 25 26 27 28 29\n",
      "30 31\n",
      "   February 2022\n",
      "Su Mo Tu We Th Fr Sa\n",
      "       1  2  3  4  5\n",
      " 6  7  8  9 10 11 12\n",
      "13 14 15 16 17 18 19\n",
      "20 21 22 23 24 25 26\n",
      "27 28\n",
      "     March 2022\n",
      "Su Mo Tu We Th Fr Sa\n",
      "       1  2  3  4  5\n",
      " 6  7  8  9 10 11 12\n",
      "13 14 15 16 17 18 19\n",
      "20 21 22 23 24 25 26\n",
      "27 28 29 30 31\n",
      "     April 2022\n",
      "Su Mo Tu We Th Fr Sa\n",
      "                1  2\n",
      " 3  4  5  6  7  8  9\n",
      "10 11 12 13 14 15 16\n",
      "17 18 19 20 21 22 23\n",
      "24 25 26 27 28 29 30\n",
      "      May 2022\n",
      "Su Mo Tu We Th Fr Sa\n",
      " 1  2  3  4  5  6  7\n",
      " 8  9 10 11 12 13 14\n",
      "15 16 17 18 19 20 21\n",
      "22 23 24 25 26 27 28\n",
      "29 30 31\n",
      "     June 2022\n",
      "Su Mo Tu We Th Fr Sa\n",
      "          1  2  3  4\n",
      " 5  6  7  8  9 10 11\n",
      "12 13 14 15 16 17 18\n",
      "19 20 21 22 23 24 25\n",
      "26 27 28 29 30\n",
      "     July 2022\n",
      "Su Mo Tu We Th Fr Sa\n",
      "                1  2\n",
      " 3  4  5  6  7  8  9\n",
      "10 11 12 13 14 15 16\n",
      "17 18 19 20 21 22 23\n",
      "24 25 26 27 28 29 30\n",
      "31\n",
      "    August 2022\n",
      "Su Mo Tu We Th Fr Sa\n",
      "    1  2  3  4  5  6\n",
      " 7  8  9 10 11 12 13\n",
      "14 15 16 17 18 19 20\n",
      "21 22 23 24 25 26 27\n",
      "28 29 30 31\n",
      "   September 2022\n",
      "Su Mo Tu We Th Fr Sa\n",
      "             1  2  3\n",
      " 4  5  6  7  8  9 10\n",
      "11 12 13 14 15 16 17\n",
      "18 19 20 21 22 23 24\n",
      "25 26 27 28 29 30\n",
      "    October 2022\n",
      "Su Mo Tu We Th Fr Sa\n",
      "                   1\n",
      " 2  3  4  5  6  7  8\n",
      " 9 10 11 12 13 14 15\n",
      "16 17 18 19 20 21 22\n",
      "23 24 25 26 27 28 29\n",
      "30 31\n",
      "   November 2022\n",
      "Su Mo Tu We Th Fr Sa\n",
      "       1  2  3  4  5\n",
      " 6  7  8  9 10 11 12\n",
      "13 14 15 16 17 18 19\n",
      "20 21 22 23 24 25 26\n",
      "27 28 29 30\n",
      "   December 2022\n",
      "Su Mo Tu We Th Fr Sa\n",
      "             1  2  3\n",
      " 4  5  6  7  8  9 10\n",
      "11 12 13 14 15 16 17\n",
      "18 19 20 21 22 23 24\n",
      "25 26 27 28 29 30 31\n"
     ]
    }
   ],
   "source": [
    "# 3rd program--\n",
    "import calendar\n",
    "yy=int(input(\"Enter the year: \"))\n",
    "mm=1\n",
    "cal=calendar.TextCalendar(calendar.SUNDAY)\n",
    "# Here sunday means start dasplaying calendar from sunday.\n",
    "i=1\n",
    "while(i<=12):\n",
    "    cal.prmonth(yy,i)\n",
    "    i+=1"
   ]
  },
  {
   "cell_type": "markdown",
   "id": "e0034d12",
   "metadata": {},
   "source": [
    "### Ques(4): Write a Python program to solve quadratic equation?\n",
    "### Ans-"
   ]
  },
  {
   "cell_type": "code",
   "execution_count": 20,
   "id": "24b1e938",
   "metadata": {},
   "outputs": [
    {
     "name": "stdout",
     "output_type": "stream",
     "text": [
      "Real and different roots:\n",
      "-12.0\n",
      "2.0\n"
     ]
    }
   ],
   "source": [
    "# 1st program--\n",
    "import math\n",
    "def equationroots(a,b,c):\n",
    "    dis=(b**2)-(4*a*c)\n",
    "    #print(dis)\n",
    "    sqrt_value=math.sqrt(abs(dis))\n",
    "    #print(-sqrt_value)\n",
    "    if dis>0:\n",
    "        print('Real and different roots:')\n",
    "        print((-b-sqrt_value)/(2*a))\n",
    "        print((-b+sqrt_value)/(2*a))\n",
    "    if dis==0:\n",
    "        print(\"Roots are equals:\")\n",
    "        print((-b)/(2*a))\n",
    "    if dis<0:\n",
    "        print(\"Complex roots:\")\n",
    "        print((-b)/(2*a),\"+i\",sqrt_value)\n",
    "        print((-b)/(2*a),\"-i\",sqrt_value)\n",
    "a=1\n",
    "b=10\n",
    "c=-24\n",
    "if a==0:\n",
    "    print(\"Incorrect quadratic equation:\")\n",
    "equationroots(a,b,c)"
   ]
  },
  {
   "cell_type": "code",
   "execution_count": 18,
   "id": "9ed7de05",
   "metadata": {},
   "outputs": [
    {
     "name": "stdout",
     "output_type": "stream",
     "text": [
      "The solution are (0.5-0.5j) and (0.5+0.5j).\n"
     ]
    }
   ],
   "source": [
    "# 2nd program--\n",
    "import cmath\n",
    "a=2\n",
    "b=-2\n",
    "c=1\n",
    "# root of quadratic equation=(-b ± (b ** 2 - 4 * a * c) ** 0.5) / (2 * a)\n",
    "discriminant=(b**2)-(4*a*c)\n",
    "sol1=(-b-cmath.sqrt(discriminant))/(2*a)\n",
    "sol2=(-b+cmath.sqrt(discriminant))/(2*a)\n",
    "print('The solution are {0} and {1}.'.format(sol1,sol2))"
   ]
  },
  {
   "cell_type": "markdown",
   "id": "f473f1f8",
   "metadata": {},
   "source": [
    "### Ques(5): Write a Python program to swap two variables without temp variable?\n",
    "### Ans-"
   ]
  },
  {
   "cell_type": "code",
   "execution_count": 21,
   "id": "9d9dac6f",
   "metadata": {
    "scrolled": true
   },
   "outputs": [
    {
     "name": "stdout",
     "output_type": "stream",
     "text": [
      "Before swapping: \n",
      "Value of x :  5  and y :  7\n",
      "After swapping: \n",
      "Value of x :  7  and y :  5\n"
     ]
    }
   ],
   "source": [
    "x = 5\n",
    "y = 7\n",
    "print (\"Before swapping: \")\n",
    "print(\"Value of x : \", x, \" and y : \", y)\n",
    "x, y = y, x \n",
    "print (\"After swapping: \")\n",
    "print(\"Value of x : \", x, \" and y : \", y)"
   ]
  },
  {
   "cell_type": "markdown",
   "id": "78295b29",
   "metadata": {},
   "source": [
    "# Thank you for checking my assignment."
   ]
  }
 ],
 "metadata": {
  "kernelspec": {
   "display_name": "Python 3 (ipykernel)",
   "language": "python",
   "name": "python3"
  },
  "language_info": {
   "codemirror_mode": {
    "name": "ipython",
    "version": 3
   },
   "file_extension": ".py",
   "mimetype": "text/x-python",
   "name": "python",
   "nbconvert_exporter": "python",
   "pygments_lexer": "ipython3",
   "version": "3.10.8"
  }
 },
 "nbformat": 4,
 "nbformat_minor": 5
}
