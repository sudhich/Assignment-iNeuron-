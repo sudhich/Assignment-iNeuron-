{
 "cells": [
  {
   "cell_type": "markdown",
   "id": "ae0f9c40",
   "metadata": {},
   "source": [
    "# Assignment 25 Solutions"
   ]
  },
  {
   "cell_type": "markdown",
   "id": "bb43a46e",
   "metadata": {},
   "source": [
    "#### Q1. What is the distinction between a numpy array and a pandas data frame? Is there a way to convert between the two if there is ?\n",
    "**Ans:** Numpy Ndarray provides a lot of convenient and optimized methods for performing several mathematical operations on vectors.\n",
    "\n",
    "Pandas Dataframe is an in-memory 2-dimensional tabular representation of data. In simpler words, it can be seen as a spreadsheet having rows and columns.\n",
    "\n",
    "Conversion : `Dataframe=pandas.DataFrame(array)`"
   ]
  },
  {
   "cell_type": "markdown",
   "id": "ddcca823",
   "metadata": {},
   "source": [
    "#### Q2.What can go wrong when an user enters in a stock-ticker symbol, and how do you handle it?\n",
    "**Ans:** To use a ticker symbol, you will typically need to enter it into a financial platform or stock exchange's search function or use it in a trading order. Ticker symbols are typically displayed alongside a company's name and stock price on financial news websites, stock ticker boards, and other financial platforms."
   ]
  },
  {
   "cell_type": "markdown",
   "id": "24146fcb",
   "metadata": {},
   "source": [
    "#### Q3. Identify some of the plotting techniques that are used to produce a stock-market chart ?\n",
    "**Ans:** Bar chart, Line Chart are used for plotting. "
   ]
  },
  {
   "cell_type": "markdown",
   "id": "f0fdf95b",
   "metadata": {},
   "source": [
    "#### Q4. Why is it essential to print a legend on a stock market chart ?\n",
    "**Ans:** Legend will help comparison between different stocks, so will be essential on a stock market chart"
   ]
  },
  {
   "cell_type": "markdown",
   "id": "186d0d51",
   "metadata": {},
   "source": [
    "#### Q5. What is the best way to limit the length of a pandas data frame to less than a year ?\n",
    "**Ans:** : We can use start and end parameters for that. In start we write the date from where we are starting and at the end we write the end date. SO within this span we can restric the duration.Also we can use the parameters like periods for how much times we need the duration and we can also use the frequency parameter."
   ]
  },
  {
   "cell_type": "markdown",
   "id": "5805fa40",
   "metadata": {},
   "source": [
    "#### Q6. What is the definition of a 180-day moving average ?\n",
    "**Ans:** : The 180-day moving average is represented as a line on charts and represents the average price over the past 180 days. The moving average can give traders a sense regarding whether the trend is up or down, while also identifying potential support or resistance areas."
   ]
  },
  {
   "cell_type": "markdown",
   "id": "2a7742df",
   "metadata": {},
   "source": [
    "#### Q7.Did the chapter&#39;s final example use &quot;indirect&quot; importing? If so, how exactly do you do it?\n",
    "**Ans:** : A situation in which a company buys products from someone in another country using an intermediary (= a person or organization that arranges business agreements), or a product that is bought in this way: The direct or indirect import of diamonds from the country was banned."
   ]
  },
  {
   "cell_type": "code",
   "execution_count": null,
   "id": "3ec46340",
   "metadata": {},
   "outputs": [],
   "source": []
  }
 ],
 "metadata": {
  "kernelspec": {
   "display_name": "Python 3 (ipykernel)",
   "language": "python",
   "name": "python3"
  },
  "language_info": {
   "codemirror_mode": {
    "name": "ipython",
    "version": 3
   },
   "file_extension": ".py",
   "mimetype": "text/x-python",
   "name": "python",
   "nbconvert_exporter": "python",
   "pygments_lexer": "ipython3",
   "version": "3.10.8"
  }
 },
 "nbformat": 4,
 "nbformat_minor": 5
}
