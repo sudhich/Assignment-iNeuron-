{
 "cells": [
  {
   "cell_type": "markdown",
   "id": "04f5f686",
   "metadata": {},
   "source": [
    "### Ques(1): Write a Python Program to Find LCM?\n",
    "### Ans-"
   ]
  },
  {
   "cell_type": "code",
   "execution_count": 4,
   "id": "61179031",
   "metadata": {},
   "outputs": [
    {
     "name": "stdout",
     "output_type": "stream",
     "text": [
      "Enter the first number: 54\n",
      "Enter the second number: 24\n",
      "LCM of 54 and 24 is:  216\n"
     ]
    }
   ],
   "source": [
    "def compute_lcm(x,y):\n",
    "    if x>y:\n",
    "        greater=x\n",
    "    else:\n",
    "        greater=y\n",
    "    while(True):\n",
    "        if((greater%x==0) and (greater%y==0)):\n",
    "            lcm=greater\n",
    "            break\n",
    "        greater+=1\n",
    "    return lcm\n",
    "num1=int(input(\"Enter the first number: \"))\n",
    "num2=int(input(\"Enter the second number: \"))\n",
    "print(\"LCM of\",num1,\"and\",num2,\"is: \",compute_lcm(num1,num2))"
   ]
  },
  {
   "cell_type": "markdown",
   "id": "31ac6465",
   "metadata": {},
   "source": [
    "### Ques(2): Write a Python Program to Find HCF/GCD?\n",
    "### Ans-"
   ]
  },
  {
   "cell_type": "code",
   "execution_count": 1,
   "id": "5334c56e",
   "metadata": {},
   "outputs": [
    {
     "name": "stdout",
     "output_type": "stream",
     "text": [
      "Enter the 1st number: 54\n",
      "Enter the 2nd number: 24\n",
      "HCF of 54 and 24 is:  6\n"
     ]
    }
   ],
   "source": [
    "def compute_hcf(x,y):\n",
    "    if x>y:\n",
    "        smaller=y\n",
    "    else:\n",
    "        smaller=x\n",
    "    for i in range(1,(smaller+1)):\n",
    "        if((x%i==0) and (y%i==0)):\n",
    "            hcf=i\n",
    "    return hcf\n",
    "\n",
    "num1=int(input(\"Enter the 1st number: \"))\n",
    "num2=int(input(\"Enter the 2nd number: \"))\n",
    "print(\"HCF of\",num1,\"and\",num2,\"is: \",compute_hcf(num1,num2))\n",
    "        "
   ]
  },
  {
   "cell_type": "markdown",
   "id": "a921014f",
   "metadata": {},
   "source": [
    "### Ques(3): Write a Python Program to Convert Decimal to Binary, Octal and Hexadecimal?\n",
    "### Ans-"
   ]
  },
  {
   "cell_type": "code",
   "execution_count": 4,
   "id": "d7697177",
   "metadata": {},
   "outputs": [
    {
     "name": "stdout",
     "output_type": "stream",
     "text": [
      "Enter the number: 344\n",
      "decimal number is:  344\n",
      "decimal to binary number is:  0b101011000\n",
      "decimal to octal number is:  0o530\n",
      "decimal to hexadecimal number is:  0x158\n"
     ]
    }
   ],
   "source": [
    "dec=int(input(\"Enter the number: \"))\n",
    "print(\"decimal number is: \",dec)\n",
    "print(\"decimal to binary number is: \",bin(dec))\n",
    "print(\"decimal to octal number is: \",oct(dec))\n",
    "print(\"decimal to hexadecimal number is: \",hex(dec))"
   ]
  },
  {
   "cell_type": "markdown",
   "id": "28eb74cf",
   "metadata": {},
   "source": [
    "### Ques(4): Write a Python Program To Find ASCII value of a character?\n",
    "### Ans-"
   ]
  },
  {
   "cell_type": "code",
   "execution_count": 10,
   "id": "cbcf421c",
   "metadata": {},
   "outputs": [
    {
     "name": "stdout",
     "output_type": "stream",
     "text": [
      "The ASCII value of  c is  99\n"
     ]
    }
   ],
   "source": [
    "char1=\"c\"\n",
    "print(\"The ASCII value of \",char1,\"is \",ord(char1))"
   ]
  },
  {
   "cell_type": "code",
   "execution_count": 9,
   "id": "d846f6eb",
   "metadata": {},
   "outputs": [
    {
     "data": {
      "text/plain": [
       "'A'"
      ]
     },
     "execution_count": 9,
     "metadata": {},
     "output_type": "execute_result"
    }
   ],
   "source": [
    "#additional program\n",
    "chr(65)"
   ]
  },
  {
   "cell_type": "code",
   "execution_count": 12,
   "id": "652b9b43",
   "metadata": {},
   "outputs": [
    {
     "data": {
      "text/plain": [
       "'C'"
      ]
     },
     "execution_count": 12,
     "metadata": {},
     "output_type": "execute_result"
    }
   ],
   "source": [
    "#additional program\n",
    "chr(ord('B')+1)"
   ]
  },
  {
   "cell_type": "markdown",
   "id": "ba7b271c",
   "metadata": {},
   "source": [
    "### Ques(5): Write a Python Program to Make a Simple Calculator with 4 basic mathematical operations?\n",
    "### Ans-"
   ]
  },
  {
   "cell_type": "code",
   "execution_count": 14,
   "id": "2949015f",
   "metadata": {},
   "outputs": [
    {
     "name": "stdout",
     "output_type": "stream",
     "text": [
      "Select the operation: \n",
      "1.Add\n",
      "2.Sub\n",
      "3.Mul\n",
      "4.Div\n",
      "Enter the choice: 3\n",
      "Enter the 1st number: 15\n",
      "Enter the 2nd number: 14\n",
      "15.0 * 14.0 = 210.0\n",
      "Next calculation?(yes/no): no\n"
     ]
    }
   ],
   "source": [
    "def add(x,y):\n",
    "    return x+y\n",
    "def sub(x,y):\n",
    "    return x-y\n",
    "def mul(x,y):\n",
    "    return x*y\n",
    "def div(x,y):\n",
    "    return x/y\n",
    "print(\"Select the operation: \")\n",
    "print(\"1.Add\")\n",
    "print(\"2.Sub\")\n",
    "print(\"3.Mul\")\n",
    "print(\"4.Div\")\n",
    "while True:\n",
    "    choice=input(\"Enter the choice: \")\n",
    "    if choice in ('1','2','3','4'):\n",
    "        num1=float(input(\"Enter the 1st number: \"))\n",
    "        num2=float(input(\"Enter the 2nd number: \"))\n",
    "        if choice=='1':\n",
    "            print(num1,\"+\",num2,\"=\",add(num1,num2))\n",
    "        elif choice=='2':\n",
    "            print(num1,\"-\",num2,\"=\",sub(num1,num2))\n",
    "        elif choice=='3':\n",
    "            print(num1,\"*\",num2,\"=\",mul(num1,num2))\n",
    "        elif choice=='4':\n",
    "            print(num1,\"/\",num2,\"=\",div(num1,num2))\n",
    "        next_cal=input(\"Next calculation?(yes/no): \")\n",
    "        if next_cal==\"no\":\n",
    "            break\n",
    "    else:\n",
    "        print(\"Invalid Input: \")"
   ]
  },
  {
   "cell_type": "code",
   "execution_count": null,
   "id": "296583cf",
   "metadata": {},
   "outputs": [],
   "source": []
  }
 ],
 "metadata": {
  "kernelspec": {
   "display_name": "Python 3 (ipykernel)",
   "language": "python",
   "name": "python3"
  },
  "language_info": {
   "codemirror_mode": {
    "name": "ipython",
    "version": 3
   },
   "file_extension": ".py",
   "mimetype": "text/x-python",
   "name": "python",
   "nbconvert_exporter": "python",
   "pygments_lexer": "ipython3",
   "version": "3.10.8"
  }
 },
 "nbformat": 4,
 "nbformat_minor": 5
}
