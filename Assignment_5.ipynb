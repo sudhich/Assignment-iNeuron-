{
 "cells": [
  {
   "cell_type": "markdown",
   "id": "6941178c",
   "metadata": {},
   "source": [
    "### Ques(1): What does an empty dictionary's code look like?\n",
    "### Ans-"
   ]
  },
  {
   "cell_type": "markdown",
   "id": "d08fa547",
   "metadata": {},
   "source": [
    "Two curly brackets: {}"
   ]
  },
  {
   "cell_type": "code",
   "execution_count": 1,
   "id": "b6fa0497",
   "metadata": {},
   "outputs": [
    {
     "name": "stdout",
     "output_type": "stream",
     "text": [
      "{}\n",
      "Length: 0\n",
      "<class 'dict'>\n"
     ]
    }
   ],
   "source": [
    "emptyDict = {}\n",
    "print(emptyDict)\n",
    "# print length of dictionary\n",
    "print(\"Length:\", len(emptyDict))\n",
    "# print type\n",
    "print(type(emptyDict))"
   ]
  },
  {
   "cell_type": "markdown",
   "id": "b1276658",
   "metadata": {},
   "source": [
    "### Ques(2): What is the value of a dictionary value with the key 'foo' and the value 42?\n",
    "### Ans-"
   ]
  },
  {
   "cell_type": "markdown",
   "id": "aed9bffa",
   "metadata": {},
   "source": [
    "{'foo': 42}"
   ]
  },
  {
   "cell_type": "code",
   "execution_count": 2,
   "id": "48ea4204",
   "metadata": {},
   "outputs": [
    {
     "name": "stdout",
     "output_type": "stream",
     "text": [
      "{'foo': 42}\n"
     ]
    }
   ],
   "source": [
    "dict={'foo': 42}\n",
    "print(dict)"
   ]
  },
  {
   "cell_type": "markdown",
   "id": "3358349c",
   "metadata": {},
   "source": [
    "### Ques(3): What is the most significant distinction between a dictionary and a list?\n",
    "### Ans-"
   ]
  },
  {
   "cell_type": "markdown",
   "id": "ce480880",
   "metadata": {},
   "source": [
    "(1)The items stored in a dictionary are unordered, while the items in a list are ordered."
   ]
  },
  {
   "cell_type": "markdown",
   "id": "47cdc7a5",
   "metadata": {},
   "source": [
    "(2)List is created by placing elements in [ ] separated by commas “, “ and Dictionary is created by placing elements in { } as “key”:”value”, each key value pair is separated by commas “, “"
   ]
  },
  {
   "cell_type": "markdown",
   "id": "69b02109",
   "metadata": {},
   "source": [
    "(3)Dictionary is created by placing elements in { } as “key”:”value”, each key value pair is separated by commas “, “"
   ]
  },
  {
   "cell_type": "code",
   "execution_count": 5,
   "id": "5f025948",
   "metadata": {},
   "outputs": [
    {
     "name": "stdout",
     "output_type": "stream",
     "text": [
      "red_mango\n",
      "banana\n",
      "apple\n",
      "mango\n"
     ]
    }
   ],
   "source": [
    "Dict = {\"key1\": 'apple', \"key2\": 'orrange', \"key3\": 'mango'}\n",
    "List = [\"banana\", \"grapes\", \"red_mango\"]\n",
    "print(List[2])\n",
    "print(List[0])\n",
    "print(Dict[\"key1\"])\n",
    "print(Dict[\"key3\"])"
   ]
  },
  {
   "cell_type": "markdown",
   "id": "d5945bb4",
   "metadata": {},
   "source": [
    "### Ques(4): What happens if you try to access spam['foo'] if spam is {'bar': 100}?\n",
    "### Ans-"
   ]
  },
  {
   "cell_type": "markdown",
   "id": "4e8eb682",
   "metadata": {},
   "source": [
    "You get a KeyError error."
   ]
  },
  {
   "cell_type": "code",
   "execution_count": 7,
   "id": "00d6b79a",
   "metadata": {},
   "outputs": [
    {
     "ename": "KeyError",
     "evalue": "'foo'",
     "output_type": "error",
     "traceback": [
      "\u001b[1;31m---------------------------------------------------------------------------\u001b[0m",
      "\u001b[1;31mKeyError\u001b[0m                                  Traceback (most recent call last)",
      "Cell \u001b[1;32mIn [7], line 2\u001b[0m\n\u001b[0;32m      1\u001b[0m spam\u001b[38;5;241m=\u001b[39m{\u001b[38;5;124m'\u001b[39m\u001b[38;5;124mbar\u001b[39m\u001b[38;5;124m'\u001b[39m: \u001b[38;5;241m100\u001b[39m}\n\u001b[1;32m----> 2\u001b[0m \u001b[43mspam\u001b[49m\u001b[43m[\u001b[49m\u001b[38;5;124;43m'\u001b[39;49m\u001b[38;5;124;43mfoo\u001b[39;49m\u001b[38;5;124;43m'\u001b[39;49m\u001b[43m]\u001b[49m\n",
      "\u001b[1;31mKeyError\u001b[0m: 'foo'"
     ]
    }
   ],
   "source": [
    "spam={'bar': 100}\n",
    "spam['foo']"
   ]
  },
  {
   "cell_type": "markdown",
   "id": "6832c328",
   "metadata": {},
   "source": [
    "### Ques(5): If a dictionary is stored in spam, what is the difference between the expressions 'cat' in spam and 'cat' in spam.keys()?\n",
    "### Ans-"
   ]
  },
  {
   "cell_type": "markdown",
   "id": "b33fd755",
   "metadata": {},
   "source": [
    "There is no difference. The in operator checks whether a value exists as a key in the dictionary."
   ]
  },
  {
   "cell_type": "markdown",
   "id": "7f52a127",
   "metadata": {},
   "source": [
    "### Ques(6): If a dictionary is stored in spam, what is the difference between the expressions 'cat' in spam and 'cat' in spam.values()?\n",
    "### Ans-"
   ]
  },
  {
   "cell_type": "markdown",
   "id": "a6c26ce1",
   "metadata": {},
   "source": [
    "'cat' in spam checks whether there is a 'cat' key in the dictionary, while 'cat' in spam.values() checks whether there is a value 'cat' for one of the keys in spam."
   ]
  },
  {
   "cell_type": "markdown",
   "id": "99fe7cbe",
   "metadata": {},
   "source": [
    "### Ques(7): What is a shortcut for the following code?\n",
    "### if 'color' not in spam:\n",
    "### spam['color'] = 'black'\n",
    "\n",
    "### Ans-"
   ]
  },
  {
   "cell_type": "code",
   "execution_count": 8,
   "id": "f106ef79",
   "metadata": {},
   "outputs": [
    {
     "data": {
      "text/plain": [
       "'black'"
      ]
     },
     "execution_count": 8,
     "metadata": {},
     "output_type": "execute_result"
    }
   ],
   "source": [
    "spam.setdefault('color', 'black')"
   ]
  },
  {
   "cell_type": "code",
   "execution_count": 10,
   "id": "c327fd2b",
   "metadata": {},
   "outputs": [
    {
     "name": "stdout",
     "output_type": "stream",
     "text": [
      "{'bar': 100, 'color': 'black'}\n"
     ]
    }
   ],
   "source": [
    "print(spam)"
   ]
  },
  {
   "cell_type": "markdown",
   "id": "ce152dec",
   "metadata": {},
   "source": [
    "### Ques(8): How do you \"pretty print\" dictionary values using which module and function?\n",
    "### Ans-"
   ]
  },
  {
   "cell_type": "markdown",
   "id": "24c6c177",
   "metadata": {},
   "source": [
    "pprint.pprint()"
   ]
  },
  {
   "cell_type": "code",
   "execution_count": 20,
   "id": "91e1a590",
   "metadata": {},
   "outputs": [
    {
     "name": "stdout",
     "output_type": "stream",
     "text": [
      "original: {'age': 31, 'gender': 'male', 'books': ['Harry Potter', 'Lord of the Rings']}\n"
     ]
    }
   ],
   "source": [
    "sample_dict = {\n",
    "    'age': 31,\n",
    "    'gender': 'male',\n",
    "    'books': ['Harry Potter', 'Lord of the Rings']\n",
    "}\n",
    "print(\"original:\",sample_dict)"
   ]
  },
  {
   "cell_type": "code",
   "execution_count": 19,
   "id": "ba78dc4a",
   "metadata": {},
   "outputs": [
    {
     "name": "stdout",
     "output_type": "stream",
     "text": [
      "{'age': 31, 'books': ['Harry Potter', 'Lord of the Rings'], 'gender': 'male'}\n"
     ]
    }
   ],
   "source": [
    "import pprint\n",
    "sample_dict = {\n",
    "    'age': 31,\n",
    "    'gender': 'male',\n",
    "    'books': ['Harry Potter', 'Lord of the Rings']\n",
    "}\n",
    "pprint.pprint(sample_dict)"
   ]
  },
  {
   "cell_type": "markdown",
   "id": "4fd22805",
   "metadata": {},
   "source": [
    "###### The pprint() output is definitely more readable. What it does is to break each dictionary element in the array right after the commas while also sorting the dictionary’s values by key."
   ]
  },
  {
   "cell_type": "code",
   "execution_count": 23,
   "id": "9a2f51f9",
   "metadata": {},
   "outputs": [
    {
     "name": "stdout",
     "output_type": "stream",
     "text": [
      "{\n",
      "    \"a\": 2,\n",
      "    \"b\": {\n",
      "        \"x\": 3,\n",
      "        \"y\": {\n",
      "            \"t1\": 4,\n",
      "            \"t2\": 5\n",
      "        }\n",
      "    }\n",
      "}\n"
     ]
    }
   ],
   "source": [
    "import json\n",
    "dict1={'a':2, 'b':{'x':3, 'y':{'t1': 4, 't2':5}}}\n",
    "print(json.dumps(dict1,sort_keys=True, indent=4))"
   ]
  },
  {
   "cell_type": "markdown",
   "id": "4e176759",
   "metadata": {},
   "source": [
    "# Thank you for checking."
   ]
  }
 ],
 "metadata": {
  "kernelspec": {
   "display_name": "Python 3 (ipykernel)",
   "language": "python",
   "name": "python3"
  },
  "language_info": {
   "codemirror_mode": {
    "name": "ipython",
    "version": 3
   },
   "file_extension": ".py",
   "mimetype": "text/x-python",
   "name": "python",
   "nbconvert_exporter": "python",
   "pygments_lexer": "ipython3",
   "version": "3.10.8"
  }
 },
 "nbformat": 4,
 "nbformat_minor": 5
}
