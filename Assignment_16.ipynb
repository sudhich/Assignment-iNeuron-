{
 "cells": [
  {
   "cell_type": "markdown",
   "id": "daeeaed9",
   "metadata": {},
   "source": [
    "###  Ques(1): Create a list called years_list, starting with the year of your birth, and each year thereafter until the year of your fifth birthday. For example, if you were born in 1980. the list would be years_list = [1980, 1981, 1982, 1983, 1984, 1985]."
   ]
  },
  {
   "cell_type": "markdown",
   "id": "e1d37209",
   "metadata": {},
   "source": [
    "### Ans"
   ]
  },
  {
   "cell_type": "code",
   "execution_count": 4,
   "id": "da6c7555",
   "metadata": {},
   "outputs": [
    {
     "name": "stdout",
     "output_type": "stream",
     "text": [
      "[1996, 1997, 1998, 1999, 2000, 2001]\n"
     ]
    }
   ],
   "source": [
    "years_list = [ele for ele in range(1996,1996+6)]\n",
    "print(years_list)"
   ]
  },
  {
   "cell_type": "markdown",
   "id": "ba417bdb",
   "metadata": {},
   "source": [
    "### Ques(2): In which year in years_list was your third birthday? Remember, you were 0 years of age for your first year."
   ]
  },
  {
   "cell_type": "markdown",
   "id": "24c41875",
   "metadata": {},
   "source": [
    "### Ans"
   ]
  },
  {
   "cell_type": "code",
   "execution_count": 5,
   "id": "733f2127",
   "metadata": {},
   "outputs": [
    {
     "name": "stdout",
     "output_type": "stream",
     "text": [
      "1999\n"
     ]
    }
   ],
   "source": [
    "print(years_list[3])"
   ]
  },
  {
   "cell_type": "markdown",
   "id": "37e4686f",
   "metadata": {},
   "source": [
    "### Ques(3): In the years list, which year were you the oldest?"
   ]
  },
  {
   "cell_type": "markdown",
   "id": "9283e7ce",
   "metadata": {},
   "source": [
    "### Ans"
   ]
  },
  {
   "cell_type": "code",
   "execution_count": 6,
   "id": "f11bebad",
   "metadata": {},
   "outputs": [
    {
     "name": "stdout",
     "output_type": "stream",
     "text": [
      "2001\n"
     ]
    }
   ],
   "source": [
    "print(years_list[-1])"
   ]
  },
  {
   "cell_type": "markdown",
   "id": "ed53c343",
   "metadata": {},
   "source": [
    "### Ques(4): Make a list called things with these three strings as elements: &quot;mozzarella&quot;, &quot;cinderella&quot;,&quot;salmonella&quot;."
   ]
  },
  {
   "cell_type": "markdown",
   "id": "dc38627e",
   "metadata": {},
   "source": [
    "### Ans"
   ]
  },
  {
   "cell_type": "code",
   "execution_count": 7,
   "id": "ece87634",
   "metadata": {},
   "outputs": [
    {
     "name": "stdout",
     "output_type": "stream",
     "text": [
      "['mozzarella', 'cinderella', 'salmonella']\n"
     ]
    }
   ],
   "source": [
    "things = [ele+'ella' for ele in ['mozzar','cinder','salmon']]\n",
    "print(things)"
   ]
  },
  {
   "cell_type": "markdown",
   "id": "f78829da",
   "metadata": {},
   "source": [
    "### Ques(5):Capitalize the element in things that refers to a person and then print the list. Did it change the element in the list?"
   ]
  },
  {
   "cell_type": "code",
   "execution_count": 8,
   "id": "3637cf77",
   "metadata": {},
   "outputs": [
    {
     "name": "stdout",
     "output_type": "stream",
     "text": [
      "['mozzarella', 'Cinderella', 'salmonella']\n"
     ]
    }
   ],
   "source": [
    "for ele in range(len(things)):\n",
    "    if things[ele] == 'cinderella':\n",
    "        things[ele] = things[ele].capitalize()\n",
    "print(things)"
   ]
  },
  {
   "cell_type": "markdown",
   "id": "641eb480",
   "metadata": {},
   "source": [
    "### Ques(6): Make a surprise list with the elements &quot;Groucho,&quot; &quot;Chico,&quot; and &quot;Harpo.&quot;"
   ]
  },
  {
   "cell_type": "markdown",
   "id": "62903e9f",
   "metadata": {},
   "source": [
    "### Ans"
   ]
  },
  {
   "cell_type": "code",
   "execution_count": 9,
   "id": "8030398a",
   "metadata": {},
   "outputs": [
    {
     "name": "stdout",
     "output_type": "stream",
     "text": [
      "['Groucho', 'Chico', 'Harpo']\n"
     ]
    }
   ],
   "source": [
    "suprise_list = ['Groucho','Chico','Harpo']\n",
    "print(suprise_list)"
   ]
  },
  {
   "cell_type": "markdown",
   "id": "28cd7ee6",
   "metadata": {},
   "source": [
    "### Ques(7): Lowercase the last element of the surprise list, reverse it, and then capitalize it."
   ]
  },
  {
   "cell_type": "markdown",
   "id": "88201012",
   "metadata": {},
   "source": [
    "### Ans"
   ]
  },
  {
   "cell_type": "code",
   "execution_count": 14,
   "id": "0bf031f6",
   "metadata": {},
   "outputs": [
    {
     "name": "stdout",
     "output_type": "stream",
     "text": [
      "Oprah\n"
     ]
    }
   ],
   "source": [
    "print(suprise_list[-1].lower()[::-1].capitalize())"
   ]
  },
  {
   "cell_type": "markdown",
   "id": "fc7f925c",
   "metadata": {},
   "source": [
    "### Ques(8): Make an English-to-French dictionary called e2f and print it. Here are your starter words: dog is chien, cat is chat, and walrus is morse."
   ]
  },
  {
   "cell_type": "markdown",
   "id": "9c712898",
   "metadata": {},
   "source": [
    "### Ans"
   ]
  },
  {
   "cell_type": "code",
   "execution_count": 15,
   "id": "2f6a7bc9",
   "metadata": {},
   "outputs": [
    {
     "name": "stdout",
     "output_type": "stream",
     "text": [
      "{'dog': 'chien', 'cat': 'chat', 'walrus': 'morse'}\n"
     ]
    }
   ],
   "source": [
    "e2f = {'dog':'chien','cat':'chat','walrus':'morse'}\n",
    "print(e2f)"
   ]
  },
  {
   "cell_type": "markdown",
   "id": "613e1525",
   "metadata": {},
   "source": [
    "### Ques(9): Write the French word for walrus in your three-word dictionary e2f."
   ]
  },
  {
   "cell_type": "markdown",
   "id": "0dad0c75",
   "metadata": {},
   "source": [
    "### Ans"
   ]
  },
  {
   "cell_type": "code",
   "execution_count": 16,
   "id": "4764e0b6",
   "metadata": {},
   "outputs": [
    {
     "name": "stdout",
     "output_type": "stream",
     "text": [
      "morse\n"
     ]
    }
   ],
   "source": [
    "print(e2f.get('walrus'))"
   ]
  },
  {
   "cell_type": "markdown",
   "id": "0f9a85a3",
   "metadata": {},
   "source": [
    "### Ques(10): Make a French-to-English dictionary called f2e from e2f. Use the items method."
   ]
  },
  {
   "cell_type": "markdown",
   "id": "68b65e6b",
   "metadata": {},
   "source": [
    "### Ans"
   ]
  },
  {
   "cell_type": "code",
   "execution_count": 17,
   "id": "e76dae65",
   "metadata": {},
   "outputs": [
    {
     "name": "stdout",
     "output_type": "stream",
     "text": [
      "{'chien': 'dog', 'chat': 'cat', 'morse': 'walrus'}\n"
     ]
    }
   ],
   "source": [
    "f2e = dict([ele[::-1] for ele in e2f.items()])\n",
    "print(f2e)"
   ]
  },
  {
   "cell_type": "markdown",
   "id": "543df188",
   "metadata": {},
   "source": [
    "### Ques(11): Print the English version of the French word chien using f2e."
   ]
  },
  {
   "cell_type": "markdown",
   "id": "9eac2258",
   "metadata": {},
   "source": [
    "### Ans"
   ]
  },
  {
   "cell_type": "code",
   "execution_count": 18,
   "id": "dd360412",
   "metadata": {},
   "outputs": [
    {
     "name": "stdout",
     "output_type": "stream",
     "text": [
      "dog\n"
     ]
    }
   ],
   "source": [
    "print(f2e.get('chien'))"
   ]
  },
  {
   "cell_type": "markdown",
   "id": "c646ab02",
   "metadata": {},
   "source": [
    "### Ques(12): Make and print a set of English words from the keys in e2f."
   ]
  },
  {
   "cell_type": "markdown",
   "id": "4dd47f84",
   "metadata": {},
   "source": [
    "### Ans"
   ]
  },
  {
   "cell_type": "code",
   "execution_count": 21,
   "id": "9693bbc9",
   "metadata": {},
   "outputs": [
    {
     "name": "stdout",
     "output_type": "stream",
     "text": [
      "['dog', 'cat', 'walrus']\n"
     ]
    }
   ],
   "source": [
    "print(list(e2f.keys()))"
   ]
  },
  {
   "cell_type": "markdown",
   "id": "99a5b606",
   "metadata": {},
   "source": [
    "### Ques(12): Make and print a set of English words from the keys in e2f."
   ]
  },
  {
   "cell_type": "markdown",
   "id": "a2b6d047",
   "metadata": {},
   "source": [
    "### Ans"
   ]
  },
  {
   "cell_type": "code",
   "execution_count": 21,
   "id": "64dc90cd",
   "metadata": {},
   "outputs": [
    {
     "name": "stdout",
     "output_type": "stream",
     "text": [
      "['dog', 'cat', 'walrus']\n"
     ]
    }
   ],
   "source": [
    "print(list(e2f.keys()))"
   ]
  },
  {
   "cell_type": "markdown",
   "id": "c8829411",
   "metadata": {},
   "source": [
    "### Ques(13): Make a multilevel dictionary called life. Use these strings for the topmost keys: &#39;animals&#39;, &#39;plants&#39;, and &#39;other&#39;. Make the &#39;animals&#39; key refer to another dictionary with the keys &#39;cats&#39;, &#39;octopi&#39;, and &#39;emus&#39;. Make the &#39;cats&#39; key refer to a list of strings with the values &#39;Henri&#39;, &#39;Grumpy&#39;, and &#39;Lucy&#39;. Make all the other keys refer to empty dictionaries."
   ]
  },
  {
   "cell_type": "markdown",
   "id": "abc8da2c",
   "metadata": {},
   "source": [
    "### Ans"
   ]
  },
  {
   "cell_type": "code",
   "execution_count": 22,
   "id": "a198b08d",
   "metadata": {},
   "outputs": [
    {
     "name": "stdout",
     "output_type": "stream",
     "text": [
      "{'animals': {'cats': ['Henri', 'Grumpy', 'Lucy'], 'octopi': {}, 'emus': {}}, 'plants': {}, 'other': {}}\n"
     ]
    }
   ],
   "source": [
    "life = {\n",
    "    'animals':{\n",
    "        'cats':['Henri','Grumpy','Lucy'],\n",
    "        'octopi':{},\n",
    "        'emus':{}\n",
    "    },\n",
    "    'plants':{},\n",
    "    'other':{}\n",
    "}\n",
    "print(life)"
   ]
  },
  {
   "cell_type": "markdown",
   "id": "42447c84",
   "metadata": {},
   "source": [
    "### Ques(14): Print the top-level keys of life."
   ]
  },
  {
   "cell_type": "markdown",
   "id": "44bdeac4",
   "metadata": {},
   "source": [
    "### Ans"
   ]
  },
  {
   "cell_type": "code",
   "execution_count": 23,
   "id": "42cf0e4a",
   "metadata": {},
   "outputs": [
    {
     "name": "stdout",
     "output_type": "stream",
     "text": [
      "['animals', 'plants', 'other']\n"
     ]
    }
   ],
   "source": [
    "print(list(life.keys()))"
   ]
  },
  {
   "cell_type": "markdown",
   "id": "04b0a5f2",
   "metadata": {},
   "source": [
    "### Ques(15): Print the keys for life[&#39;animals&#39;]."
   ]
  },
  {
   "cell_type": "markdown",
   "id": "f3a53efc",
   "metadata": {},
   "source": [
    "### Ans"
   ]
  },
  {
   "cell_type": "code",
   "execution_count": 24,
   "id": "d7390ea7",
   "metadata": {},
   "outputs": [
    {
     "name": "stdout",
     "output_type": "stream",
     "text": [
      "['cats', 'octopi', 'emus']\n"
     ]
    }
   ],
   "source": [
    "print(list(life['animals'].keys()))"
   ]
  },
  {
   "cell_type": "markdown",
   "id": "80c96ece",
   "metadata": {},
   "source": [
    "### Ques(16): Print the values for life[&#39;animals&#39;][&#39;cats&#39;]"
   ]
  },
  {
   "cell_type": "markdown",
   "id": "a67e6a58",
   "metadata": {},
   "source": [
    "### Ans"
   ]
  },
  {
   "cell_type": "code",
   "execution_count": 24,
   "id": "5e4d4741",
   "metadata": {},
   "outputs": [
    {
     "name": "stdout",
     "output_type": "stream",
     "text": [
      "['cats', 'octopi', 'emus']\n"
     ]
    }
   ],
   "source": [
    "print(list(life['animals'].keys()))"
   ]
  },
  {
   "cell_type": "markdown",
   "id": "999be5b7",
   "metadata": {},
   "source": [
    "# Thank you for checking my assignment."
   ]
  }
 ],
 "metadata": {
  "kernelspec": {
   "display_name": "Python 3 (ipykernel)",
   "language": "python",
   "name": "python3"
  },
  "language_info": {
   "codemirror_mode": {
    "name": "ipython",
    "version": 3
   },
   "file_extension": ".py",
   "mimetype": "text/x-python",
   "name": "python",
   "nbconvert_exporter": "python",
   "pygments_lexer": "ipython3",
   "version": "3.10.8"
  }
 },
 "nbformat": 4,
 "nbformat_minor": 5
}
